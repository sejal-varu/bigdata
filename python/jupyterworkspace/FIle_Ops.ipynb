{
 "cells": [
  {
   "cell_type": "code",
   "execution_count": 52,
   "metadata": {
    "collapsed": true
   },
   "outputs": [],
   "source": [
    "path = '/home/sejal/Documents/datascience/python/fileIO/marks'"
   ]
  },
  {
   "cell_type": "code",
   "execution_count": 53,
   "metadata": {},
   "outputs": [
    {
     "name": "stdout",
     "output_type": "stream",
     "text": [
      "<open file '/home/sejal/Documents/datascience/python/fileIO/marks', mode 'r' at 0x7ff3a46845d0>\n",
      "<type 'file'>\n"
     ]
    }
   ],
   "source": [
    "fp = open(path, mode='r') # w= write r= read a = append\n",
    "print fp\n",
    "print type(fp)"
   ]
  },
  {
   "cell_type": "code",
   "execution_count": 54,
   "metadata": {},
   "outputs": [
    {
     "name": "stdout",
     "output_type": "stream",
     "text": [
      "Sejal,F,50,40\n",
      "\n",
      "ABC,M,13,50\n",
      "\n",
      "XYZ,F,52,45\n",
      "\n"
     ]
    }
   ],
   "source": [
    "for line in fp:\n",
    "    print line"
   ]
  },
  {
   "cell_type": "code",
   "execution_count": 55,
   "metadata": {
    "collapsed": true
   },
   "outputs": [],
   "source": [
    "for line in fp:\n",
    "    print line #Nothing will be printed as internal pointerreached to EOF"
   ]
  },
  {
   "cell_type": "code",
   "execution_count": 56,
   "metadata": {},
   "outputs": [
    {
     "name": "stdout",
     "output_type": "stream",
     "text": [
      "XYZ,F,52,45\n",
      "\n"
     ]
    }
   ],
   "source": [
    "fp.seek(0) # move pointer to start of filefor line in fp:\n",
    "print line"
   ]
  },
  {
   "cell_type": "code",
   "execution_count": 57,
   "metadata": {},
   "outputs": [
    {
     "name": "stdout",
     "output_type": "stream",
     "text": [
      "Sejal,F,50,40\n",
      "\n",
      "ABC,M,13,50\n",
      "\n",
      "XYZ,F,52,45\n",
      "\n"
     ]
    }
   ],
   "source": [
    "for line in fp:\n",
    "    print line #After seek you see your data again"
   ]
  },
  {
   "cell_type": "code",
   "execution_count": 58,
   "metadata": {
    "collapsed": true
   },
   "outputs": [],
   "source": [
    "fp.seek(0)"
   ]
  },
  {
   "cell_type": "code",
   "execution_count": 59,
   "metadata": {},
   "outputs": [
    {
     "name": "stdout",
     "output_type": "stream",
     "text": [
      "['Sejal,F,50,40\\n', 'ABC,M,13,50\\n', 'XYZ,F,52,45\\n']\n",
      "<type 'list'>\n"
     ]
    }
   ],
   "source": [
    "lines = fp.readlines()\n",
    "print lines\n",
    "print type(lines)"
   ]
  },
  {
   "cell_type": "code",
   "execution_count": 60,
   "metadata": {},
   "outputs": [
    {
     "name": "stdout",
     "output_type": "stream",
     "text": [
      "[]\n"
     ]
    }
   ],
   "source": [
    "print fp.readlines() #file pointer has reached to EOF"
   ]
  },
  {
   "cell_type": "code",
   "execution_count": 61,
   "metadata": {
    "collapsed": true
   },
   "outputs": [],
   "source": [
    "fp.close()"
   ]
  },
  {
   "cell_type": "code",
   "execution_count": 62,
   "metadata": {
    "collapsed": true
   },
   "outputs": [],
   "source": [
    "l = [\n",
    "    ('mehul', 94, 93, 97),\n",
    "    ('jane', 67, 89, 90),\n",
    "    ('jill', 90, 100, 100)\n",
    "]"
   ]
  },
  {
   "cell_type": "code",
   "execution_count": 63,
   "metadata": {
    "collapsed": true
   },
   "outputs": [],
   "source": [
    "path = '/home/sejal/Documents/datascience/python/fileIO/pcm.psv'"
   ]
  },
  {
   "cell_type": "code",
   "execution_count": 64,
   "metadata": {
    "collapsed": true
   },
   "outputs": [],
   "source": [
    "fw = open(path, mode='w')"
   ]
  },
  {
   "cell_type": "code",
   "execution_count": 65,
   "metadata": {},
   "outputs": [],
   "source": [
    "#fw.write()\n",
    "details = ''\n",
    "for line in l:\n",
    "    details += str(line[0]) + '|' + str(line[1]) + '|' + str(line[2]) + '|' + str(line[3]) + '|' + '\\n'\n",
    "fw.write(details)\n",
    "fw.close()"
   ]
  },
  {
   "cell_type": "code",
   "execution_count": 66,
   "metadata": {},
   "outputs": [
    {
     "name": "stdout",
     "output_type": "stream",
     "text": [
      "['mehul|94|93|97|\\n', 'jane|67|89|90|\\n', 'jill|90|100|100|\\n']\n"
     ]
    }
   ],
   "source": [
    "fw = open(path, mode='r')\n",
    "print fw.readlines()\n",
    "fw.close()"
   ]
  },
  {
   "cell_type": "code",
   "execution_count": 67,
   "metadata": {
    "collapsed": true
   },
   "outputs": [],
   "source": [
    "fw.close()"
   ]
  }
 ],
 "metadata": {
  "kernelspec": {
   "display_name": "Python 2",
   "language": "python",
   "name": "python2"
  },
  "language_info": {
   "codemirror_mode": {
    "name": "ipython",
    "version": 2
   },
   "file_extension": ".py",
   "mimetype": "text/x-python",
   "name": "python",
   "nbconvert_exporter": "python",
   "pygments_lexer": "ipython2",
   "version": "2.7.14"
  }
 },
 "nbformat": 4,
 "nbformat_minor": 2
}
