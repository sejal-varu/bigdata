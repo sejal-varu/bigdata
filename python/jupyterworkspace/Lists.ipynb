{
 "cells": [
  {
   "cell_type": "code",
   "execution_count": 117,
   "metadata": {
    "collapsed": true
   },
   "outputs": [],
   "source": [
    "a, b, c, d, e = 3, 4, 1, 2,6"
   ]
  },
  {
   "cell_type": "code",
   "execution_count": 118,
   "metadata": {},
   "outputs": [
    {
     "name": "stdout",
     "output_type": "stream",
     "text": [
      "[]\n",
      "<type 'list'>\n"
     ]
    }
   ],
   "source": [
    "l = []\n",
    "print l\n",
    "print type(l)"
   ]
  },
  {
   "cell_type": "code",
   "execution_count": 119,
   "metadata": {},
   "outputs": [
    {
     "name": "stdout",
     "output_type": "stream",
     "text": [
      "[4, 2, 1, 2, 6]\n",
      "<type 'list'>\n"
     ]
    }
   ],
   "source": [
    "l2 = [4, 2, 1, 2 ,6]\n",
    "print l2\n",
    "print type(l2)"
   ]
  },
  {
   "cell_type": "code",
   "execution_count": 120,
   "metadata": {},
   "outputs": [
    {
     "name": "stdout",
     "output_type": "stream",
     "text": [
      "['sejal', 'm', 10]\n",
      "<type 'list'>\n"
     ]
    }
   ],
   "source": [
    "l3 = ['sejal' ,'m' , 10]\n",
    "print l3\n",
    "print type(l3)"
   ]
  },
  {
   "cell_type": "code",
   "execution_count": 121,
   "metadata": {},
   "outputs": [
    {
     "name": "stdout",
     "output_type": "stream",
     "text": [
      "5\n",
      "0\n"
     ]
    }
   ],
   "source": [
    "print len(l2)\n",
    "print len(l)"
   ]
  },
  {
   "cell_type": "code",
   "execution_count": 122,
   "metadata": {},
   "outputs": [
    {
     "name": "stdout",
     "output_type": "stream",
     "text": [
      "[4, 2, 1, 2, 6]\n",
      "2\n",
      "4\n",
      "6\n",
      "2\n",
      "[4, 2, 9, 2, 6]\n"
     ]
    }
   ],
   "source": [
    "#indexing\n",
    "print l2\n",
    "print l2[1]\n",
    "print l2[0]\n",
    "print l2[-1] #lasr element\n",
    "print l2[-2] #second last element\n",
    "\n",
    "\n",
    "l2[2] = 9\n",
    "print l2"
   ]
  },
  {
   "cell_type": "code",
   "execution_count": 123,
   "metadata": {},
   "outputs": [
    {
     "name": "stdout",
     "output_type": "stream",
     "text": [
      "[4, 2, 9, 2, 6]\n",
      "[4, 2, 9]\n",
      "<type 'list'>\n",
      "[4, 2, 9, 2]\n",
      "[2, 9, 2]\n",
      "[9, 2, 6]\n",
      "[2, 6]\n",
      "[4, 9, 6]\n",
      "[4, 2]\n",
      "[2, 2]\n"
     ]
    }
   ],
   "source": [
    "#slicing\n",
    "l4 = l2[0:3] # start index inclusive, End index exclusive\n",
    "print l2\n",
    "print l4\n",
    "print type(l4)\n",
    "print l2[:4] # here, stert index default is 0\n",
    "print l2[1:4]\n",
    "print l2[2:] #End index default to end of list\n",
    "print l2[-2:] #extract lat two wlwmwnts of list\n",
    "print l2[::2] #steps 2  indexes\n",
    "print l2[::3]\n",
    "\n",
    "print l2[1:4:2]"
   ]
  },
  {
   "cell_type": "code",
   "execution_count": 124,
   "metadata": {},
   "outputs": [
    {
     "name": "stdout",
     "output_type": "stream",
     "text": [
      "[4, 2, 9, 2, 6]\n",
      "4\n",
      "2\n",
      "9\n",
      "2\n",
      "6\n"
     ]
    }
   ],
   "source": [
    "print l2\n",
    "for element in l2:\n",
    "    print element"
   ]
  },
  {
   "cell_type": "code",
   "execution_count": 125,
   "metadata": {},
   "outputs": [
    {
     "name": "stdout",
     "output_type": "stream",
     "text": [
      "[4, 2, 9, 2, 6]\n",
      "[4, 2, 9, 2, 6, 7]\n",
      "[4, 2, 9, 2, 6, 7, 1, 5, 6]\n"
     ]
    }
   ],
   "source": [
    "print l2\n",
    "l2.append(7)\n",
    "print l2\n",
    "\n",
    "l2.extend([1, 5, 6])\n",
    "print l2\n"
   ]
  },
  {
   "cell_type": "code",
   "execution_count": 126,
   "metadata": {},
   "outputs": [
    {
     "name": "stdout",
     "output_type": "stream",
     "text": [
      "6\n",
      "[4, 2, 9, 2, 6, 7, 1, 5]\n"
     ]
    }
   ],
   "source": [
    "print l2.pop()\n",
    "print l2"
   ]
  },
  {
   "cell_type": "code",
   "execution_count": 127,
   "metadata": {},
   "outputs": [
    {
     "name": "stdout",
     "output_type": "stream",
     "text": [
      "5\n",
      "[4, 2, 9, 2, 6, 7, 1]\n"
     ]
    }
   ],
   "source": [
    "print l2.pop(7)\n",
    "print l2"
   ]
  },
  {
   "cell_type": "code",
   "execution_count": 128,
   "metadata": {},
   "outputs": [
    {
     "name": "stdout",
     "output_type": "stream",
     "text": [
      "7\n",
      "[4, 2, 9, 2, 6, 1]\n"
     ]
    }
   ],
   "source": [
    "print l2.pop(-2)\n",
    "print l2"
   ]
  },
  {
   "cell_type": "code",
   "execution_count": 129,
   "metadata": {},
   "outputs": [
    {
     "name": "stdout",
     "output_type": "stream",
     "text": [
      "[3, 4, 2, 9, 2, 6, 1]\n"
     ]
    }
   ],
   "source": [
    "l2.insert(0, 3)\n",
    "print l2"
   ]
  },
  {
   "cell_type": "code",
   "execution_count": 130,
   "metadata": {},
   "outputs": [
    {
     "name": "stdout",
     "output_type": "stream",
     "text": [
      "[3, 4, 2, 9, 2, 6]\n"
     ]
    }
   ],
   "source": [
    "l2.pop(-1)\n",
    "print l2"
   ]
  },
  {
   "cell_type": "code",
   "execution_count": 131,
   "metadata": {},
   "outputs": [
    {
     "name": "stdout",
     "output_type": "stream",
     "text": [
      "[2, 2, 3, 4, 6, 9]\n"
     ]
    }
   ],
   "source": [
    "\n",
    "#l2 = [3,4,9,2,6,7,5,4]\n",
    "l2.sort()\n",
    "print l2\n"
   ]
  },
  {
   "cell_type": "code",
   "execution_count": 145,
   "metadata": {},
   "outputs": [
    {
     "name": "stdout",
     "output_type": "stream",
     "text": [
      "2\n"
     ]
    }
   ],
   "source": [
    "print l2.count(2)"
   ]
  },
  {
   "cell_type": "code",
   "execution_count": 133,
   "metadata": {},
   "outputs": [
    {
     "name": "stdout",
     "output_type": "stream",
     "text": [
      "[9, 6, 4, 3, 2, 2]\n"
     ]
    }
   ],
   "source": [
    "l2.sort(reverse=True)\n",
    "print l2"
   ]
  },
  {
   "cell_type": "code",
   "execution_count": 134,
   "metadata": {},
   "outputs": [
    {
     "name": "stdout",
     "output_type": "stream",
     "text": [
      "9\n",
      "2\n",
      "26\n"
     ]
    }
   ],
   "source": [
    "print max(l2)\n",
    "print min(l2)\n",
    "print sum(l2)"
   ]
  },
  {
   "cell_type": "code",
   "execution_count": 135,
   "metadata": {},
   "outputs": [
    {
     "name": "stdout",
     "output_type": "stream",
     "text": [
      "[[5, 6], [2, 3]]\n",
      "<type 'list'>\n"
     ]
    }
   ],
   "source": [
    "l3 = [\n",
    "    [5, 6],\n",
    "    [2, 3]\n",
    "] # Two dimensional list\n",
    "print l3\n",
    "print type(l3)"
   ]
  },
  {
   "cell_type": "code",
   "execution_count": 136,
   "metadata": {},
   "outputs": [
    {
     "name": "stdout",
     "output_type": "stream",
     "text": [
      "2\n"
     ]
    }
   ],
   "source": [
    "print len(l3)"
   ]
  },
  {
   "cell_type": "code",
   "execution_count": 137,
   "metadata": {},
   "outputs": [
    {
     "name": "stdout",
     "output_type": "stream",
     "text": [
      "3\n",
      "6\n",
      "6\n"
     ]
    }
   ],
   "source": [
    "print l3[1][1]\n",
    "print l3[0][1]\n",
    "print l3[0][-1]"
   ]
  },
  {
   "cell_type": "code",
   "execution_count": 138,
   "metadata": {},
   "outputs": [
    {
     "name": "stdout",
     "output_type": "stream",
     "text": [
      "[9, 6, 4, 3, 2, 2]\n"
     ]
    }
   ],
   "source": [
    "print l2"
   ]
  },
  {
   "cell_type": "code",
   "execution_count": 139,
   "metadata": {},
   "outputs": [
    {
     "name": "stdout",
     "output_type": "stream",
     "text": [
      "[6, 4, 2, 2]\n"
     ]
    }
   ],
   "source": [
    "l5 = []\n",
    "for no in l2:\n",
    "\tif no % 2 == 0:\n",
    "\t\tl5.append(no)\n",
    "\n",
    "print l5 "
   ]
  },
  {
   "cell_type": "markdown",
   "metadata": {},
   "source": [
    "For Comprehensions. From an existing list we need a new list.`"
   ]
  },
  {
   "cell_type": "code",
   "execution_count": 140,
   "metadata": {
    "collapsed": true
   },
   "outputs": [],
   "source": [
    "l6 = [ele for ele in l2 if ele % 2 == 0]"
   ]
  },
  {
   "cell_type": "code",
   "execution_count": 141,
   "metadata": {},
   "outputs": [
    {
     "name": "stdout",
     "output_type": "stream",
     "text": [
      "[6, 4, 2, 2]\n"
     ]
    }
   ],
   "source": [
    "tmp = [ele for ele in l2 if ele % 2 == 0]\n",
    "print tmp"
   ]
  },
  {
   "cell_type": "code",
   "execution_count": 142,
   "metadata": {},
   "outputs": [
    {
     "name": "stdout",
     "output_type": "stream",
     "text": [
      "[9, 6, 4, 3, 2, 2]\n"
     ]
    }
   ],
   "source": [
    "print l2"
   ]
  },
  {
   "cell_type": "code",
   "execution_count": 143,
   "metadata": {},
   "outputs": [
    {
     "name": "stdout",
     "output_type": "stream",
     "text": [
      "[6, 4, 2, 2]\n"
     ]
    }
   ],
   "source": [
    "tmp = [ele for ele in l2 if ele % 2 == 0]\n",
    "print tmp"
   ]
  },
  {
   "cell_type": "code",
   "execution_count": 144,
   "metadata": {},
   "outputs": [
    {
     "name": "stdout",
     "output_type": "stream",
     "text": [
      "[9, 6, 4, 3, 2, 2]\n",
      "[81, 9]\n"
     ]
    }
   ],
   "source": [
    "print l2\n",
    "l7 = [ele ** 2 for ele in l2 if ele % 2 != 0]\n",
    "print l7"
   ]
  },
  {
   "cell_type": "code",
   "execution_count": 148,
   "metadata": {},
   "outputs": [
    {
     "name": "stdout",
     "output_type": "stream",
     "text": [
      "[[5, 6], [2, 3]]\n",
      "[5, 6]\n",
      "[2, 3]\n"
     ]
    }
   ],
   "source": [
    "print l3\n",
    "for ele in l3:\n",
    "    print ele"
   ]
  }
 ],
 "metadata": {
  "kernelspec": {
   "display_name": "Python 2",
   "language": "python",
   "name": "python2"
  },
  "language_info": {
   "codemirror_mode": {
    "name": "ipython",
    "version": 2
   },
   "file_extension": ".py",
   "mimetype": "text/x-python",
   "name": "python",
   "nbconvert_exporter": "python",
   "pygments_lexer": "ipython2",
   "version": "2.7.14"
  }
 },
 "nbformat": 4,
 "nbformat_minor": 2
}
