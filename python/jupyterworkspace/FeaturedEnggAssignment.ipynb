{
 "cells": [
  {
   "cell_type": "code",
   "execution_count": 10,
   "metadata": {
    "collapsed": true
   },
   "outputs": [],
   "source": [
    "import numpy as np\n",
    "import pandas as pd\n",
    "import matplotlib.pyplot as plt\n",
    "import seaborn as sns\n",
    "%matplotlib inline\n",
    "from sklearn.ensemble import RandomForestRegressor\n"
   ]
  },
  {
   "cell_type": "code",
   "execution_count": 11,
   "metadata": {},
   "outputs": [
    {
     "data": {
      "text/plain": [
       "(1460, 81)"
      ]
     },
     "execution_count": 11,
     "metadata": {},
     "output_type": "execute_result"
    }
   ],
   "source": [
    "path = \"/home/sejal/Documents/datascience/dataset/data/housing_train.csv\"\n",
    "\n",
    "df = pd.read_csv(path)\n",
    "df.head()\n",
    "df.shape"
   ]
  },
  {
   "cell_type": "code",
   "execution_count": 14,
   "metadata": {},
   "outputs": [
    {
     "ename": "IndentationError",
     "evalue": "unexpected indent (<ipython-input-14-4cc324f089b4>, line 2)",
     "output_type": "error",
     "traceback": [
      "\u001b[0;36m  File \u001b[0;32m\"<ipython-input-14-4cc324f089b4>\"\u001b[0;36m, line \u001b[0;32m2\u001b[0m\n\u001b[0;31m    'MSSubClass',\u001b[0m\n\u001b[0m    ^\u001b[0m\n\u001b[0;31mIndentationError\u001b[0m\u001b[0;31m:\u001b[0m unexpected indent\n"
     ]
    }
   ],
   "source": [
    "'''numeric_cols = numeric_list = ['Id',\n",
    "                                'MSSubClass',\n",
    "                                'LotFrontage',\n",
    "                                'LotArea',\n",
    "                                'OverallQual',\n",
    "                                'OverallCond',\n",
    "                                'YearBuilt',\n",
    "                                'YearRemodAdd',\n",
    "                                'MasVnrArea',\n",
    "                                'BsmtFinSF1',\n",
    "                                'BsmtFinSF2',\n",
    "                                'BsmtUnfSF',\n",
    "                                'TotalBsmtSF',\n",
    "                                '1stFlrSF',\n",
    "                                '2ndFlrSF',\n",
    "                                'LowQualFinSF',\n",
    "                                'GrLivArea',\n",
    "                                'BsmtFullBath',\n",
    "                                'BsmtHalfBath',\n",
    "                                'FullBath',\n",
    "                                'HalfBath',\n",
    "                                'BedroomAbvGr',\n",
    "                                'KitchenAbvGr',\n",
    "                                'TotRmsAbvGrd',\n",
    "                                'Fireplaces',\n",
    "                                'GarageYrBlt',\n",
    "                                'GarageCars',\n",
    "                                'GarageArea',\n",
    "                                'WoodDeckSF',\n",
    "                                'OpenPorchSF',\n",
    "                                'EnclosedPorch',\n",
    "                                '3SsnPorch',\n",
    "                                'ScreenPorch',\n",
    "                                'PoolArea',\n",
    "                                'MiscVal',\n",
    "                                'MoSold',\n",
    "                                'YrSold',\n",
    "                                'SalePrice']'''"
   ]
  },
  {
   "cell_type": "code",
   "execution_count": 13,
   "metadata": {},
   "outputs": [
    {
     "data": {
      "text/plain": [
       "(1460, 43)"
      ]
     },
     "execution_count": 13,
     "metadata": {},
     "output_type": "execute_result"
    }
   ],
   "source": [
    "cat_df =  df\n",
    "cat_df = cat_df.drop(df.select_dtypes(include=[np.number]).columns.tolist(), axis=1)\n",
    "cat_df.head()\n",
    "cat_df.shape"
   ]
  },
  {
   "cell_type": "code",
   "execution_count": 9,
   "metadata": {},
   "outputs": [
    {
     "data": {
      "text/plain": [
       "(1460, 38)"
      ]
     },
     "execution_count": 9,
     "metadata": {},
     "output_type": "execute_result"
    }
   ],
   "source": [
    "#num_df = df[numeric_cols]\n",
    "num_df = df.select_dtypes(include=[np.number])\n",
    "\n",
    "train_data = num_df[0:1168]\n",
    "test_data = num_df[1169:]\n",
    "num_df.shape\n",
    "#train_data.dropna()"
   ]
  },
  {
   "cell_type": "code",
   "execution_count": 17,
   "metadata": {
    "collapsed": true
   },
   "outputs": [],
   "source": [
    "X_train = train_data.iloc[:,:-1]\n",
    "y_train = train_data.iloc[:,-1]"
   ]
  },
  {
   "cell_type": "code",
   "execution_count": 18,
   "metadata": {},
   "outputs": [
    {
     "data": {
      "text/plain": [
       "LotFrontage      206\n",
       "GarageYrBlt       65\n",
       "MasVnrArea         6\n",
       "BsmtFinSF1         0\n",
       "LowQualFinSF       0\n",
       "2ndFlrSF           0\n",
       "1stFlrSF           0\n",
       "TotalBsmtSF        0\n",
       "BsmtUnfSF          0\n",
       "BsmtFinSF2         0\n",
       "YrSold             0\n",
       "BsmtFullBath       0\n",
       "YearRemodAdd       0\n",
       "YearBuilt          0\n",
       "OverallCond        0\n",
       "OverallQual        0\n",
       "LotArea            0\n",
       "MSSubClass         0\n",
       "GrLivArea          0\n",
       "BsmtHalfBath       0\n",
       "MoSold             0\n",
       "WoodDeckSF         0\n",
       "MiscVal            0\n",
       "PoolArea           0\n",
       "ScreenPorch        0\n",
       "3SsnPorch          0\n",
       "EnclosedPorch      0\n",
       "OpenPorchSF        0\n",
       "GarageArea         0\n",
       "FullBath           0\n",
       "GarageCars         0\n",
       "Fireplaces         0\n",
       "TotRmsAbvGrd       0\n",
       "KitchenAbvGr       0\n",
       "BedroomAbvGr       0\n",
       "HalfBath           0\n",
       "Id                 0\n",
       "dtype: int64"
      ]
     },
     "execution_count": 18,
     "metadata": {},
     "output_type": "execute_result"
    }
   ],
   "source": [
    "X_train.isnull().sum(axis=0).sort_values(ascending= False)"
   ]
  },
  {
   "cell_type": "code",
   "execution_count": 15,
   "metadata": {},
   "outputs": [],
   "source": [
    "#regressor = RandomForestRegressor(n_estimators=150, min_samples_split=2)\n",
    "#regressor.fit(X_train, y_train)"
   ]
  }
 ],
 "metadata": {
  "kernelspec": {
   "display_name": "Python 2",
   "language": "python",
   "name": "python2"
  },
  "language_info": {
   "codemirror_mode": {
    "name": "ipython",
    "version": 2
   },
   "file_extension": ".py",
   "mimetype": "text/x-python",
   "name": "python",
   "nbconvert_exporter": "python",
   "pygments_lexer": "ipython2",
   "version": "2.7.14"
  }
 },
 "nbformat": 4,
 "nbformat_minor": 2
}
