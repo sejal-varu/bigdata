{
 "cells": [
  {
   "cell_type": "code",
   "execution_count": 1,
   "metadata": {},
   "outputs": [
    {
     "name": "stdout",
     "output_type": "stream",
     "text": [
      "{}\n",
      "<type 'dict'>\n"
     ]
    }
   ],
   "source": [
    "d = {}\n",
    "print d\n",
    "print type(d)"
   ]
  },
  {
   "cell_type": "code",
   "execution_count": 2,
   "metadata": {},
   "outputs": [
    {
     "name": "stdout",
     "output_type": "stream",
     "text": [
      "{10: ('Sejal', 'f', 90), 4: ('jane', 'f', 70)}\n",
      "<type 'dict'>\n"
     ]
    }
   ],
   "source": [
    "d2 = {10:('Sejal','f',90),4:('jane','f',70)}\n",
    "print d2\n",
    "print type(d2)"
   ]
  },
  {
   "cell_type": "code",
   "execution_count": 4,
   "metadata": {},
   "outputs": [
    {
     "name": "stdout",
     "output_type": "stream",
     "text": [
      "{25: ('Mark', 'm', 56), 10: ('Sejal', 'f', 90), 4: ('jane', 'f', 70)}\n"
     ]
    }
   ],
   "source": [
    "#Insert a new entry in dictionary\n",
    "d2[25] = ('Mark','m',56)\n",
    "print d2"
   ]
  },
  {
   "cell_type": "code",
   "execution_count": 6,
   "metadata": {},
   "outputs": [
    {
     "name": "stdout",
     "output_type": "stream",
     "text": [
      "{25: ('Mark', 'm', 56), 10: ('Sejal', 'f', 90), 4: ('Jane', 'f', 60)}\n"
     ]
    }
   ],
   "source": [
    "#Update as existing entry in a dict\n",
    "\n",
    "d2[4] = ('Jane', 'f',60)\n",
    "print d2"
   ]
  },
  {
   "cell_type": "code",
   "execution_count": 7,
   "metadata": {},
   "outputs": [
    {
     "name": "stdout",
     "output_type": "stream",
     "text": [
      "('Sejal', 'f', 90)\n"
     ]
    }
   ],
   "source": [
    "t = d2[10] # here key is the index\n",
    "print t"
   ]
  },
  {
   "cell_type": "code",
   "execution_count": 8,
   "metadata": {},
   "outputs": [
    {
     "name": "stdout",
     "output_type": "stream",
     "text": [
      "3\n"
     ]
    }
   ],
   "source": [
    "print len(d2) #Number of entries in dictionary"
   ]
  },
  {
   "cell_type": "code",
   "execution_count": 9,
   "metadata": {},
   "outputs": [
    {
     "name": "stdout",
     "output_type": "stream",
     "text": [
      "25\n",
      "10\n",
      "4\n"
     ]
    }
   ],
   "source": [
    "for k in d2: #keys from dictionary\n",
    "    print k"
   ]
  },
  {
   "cell_type": "code",
   "execution_count": 11,
   "metadata": {},
   "outputs": [
    {
     "data": {
      "text/plain": [
       "[('Mark', 'm', 56), ('Sejal', 'f', 90), ('Jane', 'f', 60)]"
      ]
     },
     "execution_count": 11,
     "metadata": {},
     "output_type": "execute_result"
    }
   ],
   "source": [
    "d2.values()"
   ]
  },
  {
   "cell_type": "code",
   "execution_count": 16,
   "metadata": {},
   "outputs": [
    {
     "name": "stdout",
     "output_type": "stream",
     "text": [
      "Mark\n",
      "56\n",
      "Sejal\n",
      "90\n",
      "Jane\n",
      "60\n"
     ]
    }
   ],
   "source": [
    "d2.values()\n",
    "for ele in d2.values():\n",
    "    print ele[0]\n",
    "    print ele[-1]"
   ]
  },
  {
   "cell_type": "code",
   "execution_count": null,
   "metadata": {
    "collapsed": true
   },
   "outputs": [],
   "source": []
  }
 ],
 "metadata": {
  "kernelspec": {
   "display_name": "Python 2",
   "language": "python",
   "name": "python2"
  },
  "language_info": {
   "codemirror_mode": {
    "name": "ipython",
    "version": 2
   },
   "file_extension": ".py",
   "mimetype": "text/x-python",
   "name": "python",
   "nbconvert_exporter": "python",
   "pygments_lexer": "ipython2",
   "version": "2.7.14"
  }
 },
 "nbformat": 4,
 "nbformat_minor": 2
}
