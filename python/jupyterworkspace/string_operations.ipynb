{
 "cells": [
  {
   "cell_type": "code",
   "execution_count": 6,
   "metadata": {},
   "outputs": [
    {
     "name": "stdout",
     "output_type": "stream",
     "text": [
      "Sejal, M, 30, 99\n",
      "\n"
     ]
    }
   ],
   "source": [
    "record = 'Sejal, M, 30, 99\\n'\n",
    "print record"
   ]
  },
  {
   "cell_type": "code",
   "execution_count": 10,
   "metadata": {},
   "outputs": [
    {
     "name": "stdout",
     "output_type": "stream",
     "text": [
      "17\n"
     ]
    }
   ],
   "source": [
    "print len(record)"
   ]
  },
  {
   "cell_type": "code",
   "execution_count": 7,
   "metadata": {},
   "outputs": [
    {
     "name": "stdout",
     "output_type": "stream",
     "text": [
      "S\n",
      "\n",
      "\n",
      "9\n"
     ]
    }
   ],
   "source": [
    "print record[0]\n",
    "print record[-1]\n",
    "print record[-2]"
   ]
  },
  {
   "cell_type": "code",
   "execution_count": 8,
   "metadata": {},
   "outputs": [
    {
     "name": "stdout",
     "output_type": "stream",
     "text": [
      "Sejal\n",
      "Sejal\n",
      "jal, M, 30, 99\n",
      "\n"
     ]
    }
   ],
   "source": [
    "print record[0:5]\n",
    "print record[:5]\n",
    "print record[2:]"
   ]
  },
  {
   "cell_type": "code",
   "execution_count": 9,
   "metadata": {},
   "outputs": [
    {
     "name": "stdout",
     "output_type": "stream",
     "text": [
      "S\n",
      "e\n",
      "j\n",
      "a\n",
      "l\n",
      ",\n",
      " \n",
      "M\n",
      ",\n",
      " \n",
      "3\n",
      "0\n",
      ",\n",
      " \n",
      "9\n",
      "9\n",
      "\n",
      "\n"
     ]
    }
   ],
   "source": [
    "for s in record:\n",
    "    print s"
   ]
  },
  {
   "cell_type": "code",
   "execution_count": 23,
   "metadata": {},
   "outputs": [
    {
     "name": "stdout",
     "output_type": "stream",
     "text": [
      "SEJAL, M, 30, 99\n",
      "\n",
      "Sejal Varu\n",
      "Sejal varu\n",
      "sejal varu\n",
      "True\n",
      "False\n"
     ]
    }
   ],
   "source": [
    "u = record.upper()\n",
    "print u\n",
    "\n",
    "fullname = 'sejal varu'\n",
    "print fullname.title()\n",
    "print fullname.capitalize()\n",
    "print fullname.lower()\n",
    "print '30' in record\n",
    "print '50' in record\n",
    "# 'in' is membership operator and can be used with anything that is collections of object"
   ]
  },
  {
   "cell_type": "code",
   "execution_count": 31,
   "metadata": {},
   "outputs": [
    {
     "name": "stdout",
     "output_type": "stream",
     "text": [
      "Sejal, M, 30, 99\n",
      "\n",
      "Sejal, M, 30, 99\n",
      "['Sejal', ' M', ' 30', ' 99']\n",
      "Sejal\n",
      " M\n",
      " 30\n",
      " 99\n"
     ]
    }
   ],
   "source": [
    "print record\n",
    "new_str = record[:-1] # removes \\n from end\n",
    "print new_str\n",
    "\n",
    "tokens = new_str.split(',')\n",
    "print tokens\n",
    "\n",
    "\n",
    "name, gender, roll, marks = tokens\n",
    "\n",
    "print name\n",
    "print gender\n",
    "print roll\n",
    "print marks"
   ]
  },
  {
   "cell_type": "code",
   "execution_count": 35,
   "metadata": {},
   "outputs": [
    {
     "name": "stdout",
     "output_type": "stream",
     "text": [
      "name : Sejal\n",
      "Roll no: 10\n"
     ]
    }
   ],
   "source": [
    "name = 'Sejal'\n",
    "roll = 10\n",
    "marks = 56.6\n",
    "\n",
    "details = 'name : '+ name +'\\nRoll no: '+ str(roll)\n",
    "print details\n"
   ]
  },
  {
   "cell_type": "code",
   "execution_count": 36,
   "metadata": {},
   "outputs": [
    {
     "name": "stdout",
     "output_type": "stream",
     "text": [
      "Name : Sejal\n",
      "Roll :10\n",
      "Marks: 56.6\n"
     ]
    }
   ],
   "source": [
    "details = 'Name : {0}\\nRoll :{1}\\nMarks: {2}'.format(name,roll,marks)\n",
    "print details"
   ]
  },
  {
   "cell_type": "code",
   "execution_count": 1,
   "metadata": {},
   "outputs": [
    {
     "name": "stdout",
     "output_type": "stream",
     "text": [
      "a  il\n"
     ]
    }
   ],
   "source": [
    "s = 'I am a girl'\n",
    "print s[2::2]"
   ]
  }
 ],
 "metadata": {
  "kernelspec": {
   "display_name": "Python 2",
   "language": "python",
   "name": "python2"
  },
  "language_info": {
   "codemirror_mode": {
    "name": "ipython",
    "version": 2
   },
   "file_extension": ".py",
   "mimetype": "text/x-python",
   "name": "python",
   "nbconvert_exporter": "python",
   "pygments_lexer": "ipython2",
   "version": "2.7.14"
  }
 },
 "nbformat": 4,
 "nbformat_minor": 2
}
