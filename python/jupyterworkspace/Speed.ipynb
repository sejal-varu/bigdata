{
 "cells": [
  {
   "cell_type": "code",
   "execution_count": 16,
   "metadata": {},
   "outputs": [],
   "source": [
    "import numpy as np\n",
    "import numpy.random as rd"
   ]
  },
  {
   "cell_type": "code",
   "execution_count": 17,
   "metadata": {},
   "outputs": [
    {
     "name": "stdout",
     "output_type": "stream",
     "text": [
      "[[-0.7264066   1.88299604  1.16726165 ... -0.78221499  1.28964943\n",
      "  -0.55772727]\n",
      " [ 1.6461823   1.63592523  0.65449853 ...  0.01029053 -0.44292886\n",
      "  -0.78460717]\n",
      " [ 1.13573142 -0.73728874 -0.0127852  ...  0.13401447  0.49195263\n",
      "   0.63634427]\n",
      " ...\n",
      " [-2.61095617  0.94941129  0.34351426 ...  0.03819272  0.84608607\n",
      "   0.09522471]\n",
      " [ 0.4467097  -0.73039827  0.18633089 ...  0.01691073  0.10105691\n",
      "   0.62124393]\n",
      " [-0.12681685  0.71842536  0.23071721 ... -0.65246515 -1.01492342\n",
      "   0.95026035]]\n",
      "[[-0.05306068 -0.58643954  0.59897153 ...  0.12442458 -0.41767895\n",
      "   2.16697846]\n",
      " [-2.5182335  -0.17823486 -0.05602975 ...  1.1384244   0.15793567\n",
      "  -0.38129623]\n",
      " [-0.30648271 -0.05791926  1.29020097 ... -0.35315804 -0.77360595\n",
      "   1.79309867]\n",
      " ...\n",
      " [-0.27632864  1.23122723 -0.18632213 ...  0.2618057   0.26249397\n",
      "  -0.51205503]\n",
      " [-1.76293779 -1.4439207   0.20408065 ... -0.32925367 -2.1448863\n",
      "  -0.77288264]\n",
      " [-0.40783365  0.10871095  0.12580081 ...  0.13890521  1.91814898\n",
      "  -1.43198809]]\n"
     ]
    }
   ],
   "source": [
    "\n",
    "x = rd.randn(1000,1000)\n",
    "y = rd.randn(1000,1000)\n",
    "\n",
    "print x\n",
    "print y"
   ]
  },
  {
   "cell_type": "code",
   "execution_count": 22,
   "metadata": {},
   "outputs": [
    {
     "name": "stdout",
     "output_type": "stream",
     "text": [
      "100 loops, best of 3: 3.36 ms per loop\n"
     ]
    }
   ],
   "source": [
    "%%timeit\n",
    "z = x * y\n",
    "#print z"
   ]
  },
  {
   "cell_type": "code",
   "execution_count": 19,
   "metadata": {},
   "outputs": [
    {
     "ename": "IndexError",
     "evalue": "arrays used as indices must be of integer (or boolean) type",
     "output_type": "error",
     "traceback": [
      "\u001b[0;31m---------------------------------------------------------------------------\u001b[0m",
      "\u001b[0;31mIndexError\u001b[0m                                Traceback (most recent call last)",
      "\u001b[0;32m<ipython-input-19-2514f06c2504>\u001b[0m in \u001b[0;36m<module>\u001b[0;34m()\u001b[0m\n\u001b[1;32m      1\u001b[0m \u001b[0;32mfor\u001b[0m \u001b[0mi\u001b[0m \u001b[0;32min\u001b[0m \u001b[0mx\u001b[0m\u001b[0;34m:\u001b[0m\u001b[0;34m\u001b[0m\u001b[0m\n\u001b[1;32m      2\u001b[0m     \u001b[0;32mfor\u001b[0m \u001b[0mj\u001b[0m \u001b[0;32min\u001b[0m \u001b[0mi\u001b[0m\u001b[0;34m:\u001b[0m\u001b[0;34m\u001b[0m\u001b[0m\n\u001b[0;32m----> 3\u001b[0;31m          \u001b[0mz\u001b[0m \u001b[0;34m=\u001b[0m \u001b[0mx\u001b[0m\u001b[0;34m[\u001b[0m\u001b[0mi\u001b[0m\u001b[0;34m,\u001b[0m\u001b[0mj\u001b[0m\u001b[0;34m]\u001b[0m \u001b[0;34m*\u001b[0m \u001b[0my\u001b[0m\u001b[0;34m[\u001b[0m\u001b[0mi\u001b[0m\u001b[0;34m,\u001b[0m \u001b[0mj\u001b[0m\u001b[0;34m]\u001b[0m\u001b[0;34m\u001b[0m\u001b[0m\n\u001b[0m\u001b[1;32m      4\u001b[0m \u001b[0;32mprint\u001b[0m \u001b[0mz\u001b[0m\u001b[0;34m\u001b[0m\u001b[0m\n",
      "\u001b[0;31mIndexError\u001b[0m: arrays used as indices must be of integer (or boolean) type"
     ]
    }
   ],
   "source": [
    "for i in x:\n",
    "    for j in i:\n",
    "         z = x[i,j] * y[i, j]\n",
    "print z"
   ]
  }
 ],
 "metadata": {
  "kernelspec": {
   "display_name": "Python 2",
   "language": "python",
   "name": "python2"
  },
  "language_info": {
   "codemirror_mode": {
    "name": "ipython",
    "version": 2
   },
   "file_extension": ".py",
   "mimetype": "text/x-python",
   "name": "python",
   "nbconvert_exporter": "python",
   "pygments_lexer": "ipython2",
   "version": "2.7.14"
  }
 },
 "nbformat": 4,
 "nbformat_minor": 2
}
