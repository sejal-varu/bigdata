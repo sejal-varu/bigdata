{
 "cells": [
  {
   "cell_type": "code",
   "execution_count": 22,
   "metadata": {},
   "outputs": [
    {
     "name": "stdout",
     "output_type": "stream",
     "text": [
      "('sejal', 'f', 10, 72.5)\n",
      "<type 'tuple'>\n"
     ]
    }
   ],
   "source": [
    "s1 = ('sejal','f',10,72.5)\n",
    "print s1\n",
    "print type(s1)"
   ]
  },
  {
   "cell_type": "code",
   "execution_count": 23,
   "metadata": {},
   "outputs": [
    {
     "name": "stdout",
     "output_type": "stream",
     "text": [
      "<type 'tuple'>\n"
     ]
    }
   ],
   "source": [
    "s2 = ()\n",
    "print type(s2)"
   ]
  },
  {
   "cell_type": "code",
   "execution_count": 24,
   "metadata": {},
   "outputs": [
    {
     "name": "stdout",
     "output_type": "stream",
     "text": [
      "('sejal',)\n",
      "<type 'tuple'>\n"
     ]
    }
   ],
   "source": [
    "s3 = ('sejal',) #One element tuple\n",
    "print s3\n",
    "print type(s3)"
   ]
  },
  {
   "cell_type": "code",
   "execution_count": 25,
   "metadata": {},
   "outputs": [
    {
     "name": "stdout",
     "output_type": "stream",
     "text": [
      "4\n"
     ]
    }
   ],
   "source": [
    "print len(s1)"
   ]
  },
  {
   "cell_type": "code",
   "execution_count": 26,
   "metadata": {},
   "outputs": [
    {
     "name": "stdout",
     "output_type": "stream",
     "text": [
      "sejal\n",
      "72.5\n"
     ]
    }
   ],
   "source": [
    "#indexing\n",
    "print s1[0]\n",
    "print s1[-1]"
   ]
  },
  {
   "cell_type": "markdown",
   "metadata": {},
   "source": [
    "A tuple unlike list is an immuteable object in python"
   ]
  },
  {
   "cell_type": "code",
   "execution_count": 27,
   "metadata": {},
   "outputs": [
    {
     "name": "stdout",
     "output_type": "stream",
     "text": [
      "('sejal', 'f', 10, 72.5)\n"
     ]
    }
   ],
   "source": [
    "#s1[0] = 'Mehul'\n",
    "print s1"
   ]
  },
  {
   "cell_type": "code",
   "execution_count": 28,
   "metadata": {},
   "outputs": [
    {
     "name": "stdout",
     "output_type": "stream",
     "text": [
      "sejal\n",
      "f\n",
      "10\n",
      "72.5\n"
     ]
    }
   ],
   "source": [
    "for ele in s1:\n",
    "    print ele"
   ]
  },
  {
   "cell_type": "code",
   "execution_count": 29,
   "metadata": {},
   "outputs": [
    {
     "name": "stdout",
     "output_type": "stream",
     "text": [
      "('sejal', 'f')\n",
      "(10, 72.5)\n"
     ]
    }
   ],
   "source": [
    "#Slicing\n",
    "print s1[:2]\n",
    "print s1[-2:]"
   ]
  },
  {
   "cell_type": "code",
   "execution_count": 30,
   "metadata": {},
   "outputs": [
    {
     "name": "stdout",
     "output_type": "stream",
     "text": [
      "('sejal', 'f', 10, 72.5)\n",
      "sejal\n",
      "f\n"
     ]
    }
   ],
   "source": [
    "print s1\n",
    "\n",
    "name = s1[0]\n",
    "gender = s1[1]\n",
    "\n",
    "print name\n",
    "print gender"
   ]
  },
  {
   "cell_type": "code",
   "execution_count": 34,
   "metadata": {},
   "outputs": [
    {
     "name": "stdout",
     "output_type": "stream",
     "text": [
      "('sejal', 'f', 10, 72.5)\n",
      "sejal\n",
      "f\n",
      "10\n",
      "72.5\n"
     ]
    }
   ],
   "source": [
    "print s1\n",
    "name , gender, roll, marks = s1 #tuple unpacking\n",
    "print name\n",
    "print gender\n",
    "print roll\n",
    "print marks"
   ]
  },
  {
   "cell_type": "code",
   "execution_count": 32,
   "metadata": {},
   "outputs": [
    {
     "name": "stdout",
     "output_type": "stream",
     "text": [
      "Mercedes\n",
      "Porsche\n"
     ]
    }
   ],
   "source": [
    "cars = ['Mercedes','Porsche'] # list unpacking\n",
    "car1, car2 = cars\n",
    "print car1\n",
    "print car2"
   ]
  }
 ],
 "metadata": {
  "kernelspec": {
   "display_name": "Python 2",
   "language": "python",
   "name": "python2"
  },
  "language_info": {
   "codemirror_mode": {
    "name": "ipython",
    "version": 2
   },
   "file_extension": ".py",
   "mimetype": "text/x-python",
   "name": "python",
   "nbconvert_exporter": "python",
   "pygments_lexer": "ipython2",
   "version": "2.7.14"
  }
 },
 "nbformat": 4,
 "nbformat_minor": 2
}
