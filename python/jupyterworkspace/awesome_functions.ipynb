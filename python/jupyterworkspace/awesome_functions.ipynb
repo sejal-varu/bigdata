{
 "cells": [
  {
   "cell_type": "code",
   "execution_count": 13,
   "metadata": {
    "collapsed": true
   },
   "outputs": [],
   "source": [
    "def my_add(*nos): #function with variable number of arguments, 0 to n\n",
    "    #tuple packing\n",
    "    print nos\n",
    "    print type(nos)"
   ]
  },
  {
   "cell_type": "code",
   "execution_count": 14,
   "metadata": {},
   "outputs": [
    {
     "name": "stdout",
     "output_type": "stream",
     "text": [
      "()\n",
      "<type 'tuple'>\n",
      "None\n",
      "(5,)\n",
      "<type 'tuple'>\n",
      "None\n",
      "(5, 5, 6, 12)\n",
      "<type 'tuple'>\n",
      "None\n",
      "(8, 6, 34, 5, 6, 7, 2, 9, 6)\n",
      "<type 'tuple'>\n",
      "None\n"
     ]
    }
   ],
   "source": [
    "print my_add()\n",
    "print my_add(5)\n",
    "print my_add(5, 5, 6, 12)\n",
    "print my_add(8, 6, 34, 5, 6, 7, 2, 9, 6)"
   ]
  },
  {
   "cell_type": "code",
   "execution_count": 15,
   "metadata": {
    "collapsed": true
   },
   "outputs": [],
   "source": [
    "def my_add(*nos): #function with variable number of arguments, 0 to n\n",
    "    #tuple packing\n",
    "    tmp = 0\n",
    "    for ele in nos:\n",
    "        tmp += ele\n",
    "    return tmp"
   ]
  },
  {
   "cell_type": "code",
   "execution_count": 16,
   "metadata": {},
   "outputs": [
    {
     "name": "stdout",
     "output_type": "stream",
     "text": [
      "0\n",
      "5\n",
      "28\n",
      "83\n"
     ]
    }
   ],
   "source": [
    "print my_add()\n",
    "print my_add(5)\n",
    "print my_add(5, 5, 6, 12)\n",
    "print my_add(8, 6, 34, 5, 6, 7, 2, 9, 6)"
   ]
  },
  {
   "cell_type": "code",
   "execution_count": 19,
   "metadata": {},
   "outputs": [],
   "source": [
    "def perimeter(length, breadth):\n",
    "    return 2 * (length + breadth)\n"
   ]
  },
  {
   "cell_type": "code",
   "execution_count": 22,
   "metadata": {},
   "outputs": [
    {
     "name": "stdout",
     "output_type": "stream",
     "text": [
      "24\n",
      "24\n"
     ]
    }
   ],
   "source": [
    "stats = (9, 3)\n",
    "print perimeter(stats[0], stats[1])\n",
    "print perimeter(*stats) #argument unpacking"
   ]
  },
  {
   "cell_type": "code",
   "execution_count": 23,
   "metadata": {
    "collapsed": true
   },
   "outputs": [],
   "source": [
    "def area (length, breadth):\n",
    "    return length * breadth"
   ]
  },
  {
   "cell_type": "code",
   "execution_count": 27,
   "metadata": {},
   "outputs": [
    {
     "name": "stdout",
     "output_type": "stream",
     "text": [
      "10\n",
      "36.6\n",
      "36.6\n",
      "36.6\n"
     ]
    }
   ],
   "source": [
    "print area(5, 2)\n",
    "print area(6.1, 6.0)\n",
    "print area(length = 6.1, breadth = 6.0) # compulsion\n",
    "print area(breadth = 6.0, length = 6.1)"
   ]
  },
  {
   "cell_type": "code",
   "execution_count": 34,
   "metadata": {
    "collapsed": true
   },
   "outputs": [],
   "source": [
    "def area (**stats):\n",
    "    # Dictionary packing\n",
    "    # Dictionary arguments packing \n",
    "    print stats\n",
    "    print type(stats)\n",
    "    return stats['length'] * stats['breadth']"
   ]
  },
  {
   "cell_type": "code",
   "execution_count": 35,
   "metadata": {},
   "outputs": [
    {
     "name": "stdout",
     "output_type": "stream",
     "text": [
      "{'breadth': 6.0, 'length': 6.1}\n",
      "<type 'dict'>\n",
      "36.6\n",
      "{'breadth': 6.0, 'length': 6.1}\n",
      "<type 'dict'>\n",
      "36.6\n"
     ]
    }
   ],
   "source": [
    "#print area(5, 2) #Error\n",
    "#print area(6.1, 6.0) #Error\n",
    "print area(length = 6.1, breadth = 6.0) # compulsion\n",
    "print area(breadth = 6.0, length = 6.1) #compulsion"
   ]
  },
  {
   "cell_type": "code",
   "execution_count": 36,
   "metadata": {
    "collapsed": true
   },
   "outputs": [],
   "source": [
    "def perimeter(length, breadth):\n",
    "    return 2 *(length + breadth)"
   ]
  },
  {
   "cell_type": "code",
   "execution_count": 38,
   "metadata": {},
   "outputs": [
    {
     "name": "stdout",
     "output_type": "stream",
     "text": [
      "24.2\n",
      "24.2\n"
     ]
    }
   ],
   "source": [
    "stats_map = {'length':6, 'breadth' : 6.1}\n",
    "print perimeter(stats_map['length'], stats_map['breadth'])\n",
    "#Dictionary unpacking\n",
    "print perimeter(**stats_map)"
   ]
  }
 ],
 "metadata": {
  "kernelspec": {
   "display_name": "Python 2",
   "language": "python",
   "name": "python2"
  },
  "language_info": {
   "codemirror_mode": {
    "name": "ipython",
    "version": 2
   },
   "file_extension": ".py",
   "mimetype": "text/x-python",
   "name": "python",
   "nbconvert_exporter": "python",
   "pygments_lexer": "ipython2",
   "version": "2.7.14"
  }
 },
 "nbformat": 4,
 "nbformat_minor": 2
}
