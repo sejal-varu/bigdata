{
 "cells": [
  {
   "cell_type": "code",
   "execution_count": null,
   "metadata": {
    "collapsed": true
   },
   "outputs": [],
   "source": [
    "#Get username and number of times user has logged out of facebook"
   ]
  },
  {
   "cell_type": "code",
   "execution_count": 1,
   "metadata": {
    "collapsed": true
   },
   "outputs": [],
   "source": [
    "import pandas as pd\n",
    "import numpy as np\n",
    "from pandas import Series, DataFrame\n",
    "import matplotlib.pyplot as plt"
   ]
  },
  {
   "cell_type": "code",
   "execution_count": 20,
   "metadata": {},
   "outputs": [
    {
     "name": "stdout",
     "output_type": "stream",
     "text": [
      "                       name action\n",
      "0   mehul.chopra@neebal.com     in\n",
      "1   narendra.modi@yahoo.com    out\n",
      "2    katrina.kaif@gmail.com    out\n",
      "3   mehul.chopra@neebal.com    out\n",
      "4   narendra.modi@yahoo.com    out\n",
      "5   mehul.chopra@neebal.com    out\n",
      "6   mehul.chopra@neebal.com    out\n",
      "7   mehul.chopra@neebal.com     in\n",
      "8   mehul.chopra@neebal.com    out\n",
      "9    katrina.kaif@gmail.com    out\n",
      "10  narendra.modi@yahoo.com    out\n",
      "11  narendra.modi@yahoo.com    out\n",
      "12   katrina.kaif@gmail.com     in\n",
      "13  narendra.modi@yahoo.com    out\n",
      "14  mehul.chopra@neebal.com     in\n",
      "15  narendra.modi@yahoo.com    out\n",
      "16   katrina.kaif@gmail.com    out\n",
      "17  mehul.chopra@neebal.com     in\n"
     ]
    }
   ],
   "source": [
    "path = '/home/sejal/Documents/datascience/dataset/data/facebook_logs/facebook_login_logout_logs'\n",
    "\n",
    "df = pd.read_csv(path, names=['name','date','hm','action'])\n",
    "pdf = df[['name','action']]\n",
    "\n",
    "print pdf"
   ]
  },
  {
   "cell_type": "code",
   "execution_count": 23,
   "metadata": {},
   "outputs": [
    {
     "name": "stdout",
     "output_type": "stream",
     "text": [
      "                       name action\n",
      "1   narendra.modi@yahoo.com    out\n",
      "2    katrina.kaif@gmail.com    out\n",
      "3   mehul.chopra@neebal.com    out\n",
      "4   narendra.modi@yahoo.com    out\n",
      "5   mehul.chopra@neebal.com    out\n",
      "6   mehul.chopra@neebal.com    out\n",
      "8   mehul.chopra@neebal.com    out\n",
      "9    katrina.kaif@gmail.com    out\n",
      "10  narendra.modi@yahoo.com    out\n",
      "11  narendra.modi@yahoo.com    out\n",
      "13  narendra.modi@yahoo.com    out\n",
      "15  narendra.modi@yahoo.com    out\n",
      "16   katrina.kaif@gmail.com    out\n"
     ]
    }
   ],
   "source": [
    "#filter only out's\n",
    "onlyouts = pdf[pdf['action'] == 'out']\n",
    "print onlyouts"
   ]
  },
  {
   "cell_type": "code",
   "execution_count": 25,
   "metadata": {},
   "outputs": [
    {
     "data": {
      "text/html": [
       "<div>\n",
       "<style>\n",
       "    .dataframe thead tr:only-child th {\n",
       "        text-align: right;\n",
       "    }\n",
       "\n",
       "    .dataframe thead th {\n",
       "        text-align: left;\n",
       "    }\n",
       "\n",
       "    .dataframe tbody tr th {\n",
       "        vertical-align: top;\n",
       "    }\n",
       "</style>\n",
       "<table border=\"1\" class=\"dataframe\">\n",
       "  <thead>\n",
       "    <tr style=\"text-align: right;\">\n",
       "      <th></th>\n",
       "      <th>action</th>\n",
       "    </tr>\n",
       "    <tr>\n",
       "      <th>name</th>\n",
       "      <th></th>\n",
       "    </tr>\n",
       "  </thead>\n",
       "  <tbody>\n",
       "    <tr>\n",
       "      <th>katrina.kaif@gmail.com</th>\n",
       "      <td>3</td>\n",
       "    </tr>\n",
       "    <tr>\n",
       "      <th>mehul.chopra@neebal.com</th>\n",
       "      <td>4</td>\n",
       "    </tr>\n",
       "    <tr>\n",
       "      <th>narendra.modi@yahoo.com</th>\n",
       "      <td>6</td>\n",
       "    </tr>\n",
       "  </tbody>\n",
       "</table>\n",
       "</div>"
      ],
      "text/plain": [
       "                         action\n",
       "name                           \n",
       "katrina.kaif@gmail.com        3\n",
       "mehul.chopra@neebal.com       4\n",
       "narendra.modi@yahoo.com       6"
      ]
     },
     "execution_count": 25,
     "metadata": {},
     "output_type": "execute_result"
    }
   ],
   "source": [
    "pivot = onlyouts.pivot_table('action',aggfunc=np.count_nonzero, index='name')\n",
    "pivot"
   ]
  },
  {
   "cell_type": "code",
   "execution_count": 30,
   "metadata": {},
   "outputs": [
    {
     "name": "stdout",
     "output_type": "stream",
     "text": [
      "narendra.modi@yahoo.com    6\n",
      "mehul.chopra@neebal.com    4\n",
      "katrina.kaif@gmail.com     3\n",
      "Name: name, dtype: int64\n"
     ]
    }
   ],
   "source": [
    "#Same thing mehul did this way\n",
    "\n",
    "p_onlyout = onlyouts['name']\n",
    "number_of_outs = p_onlyout.value_counts()\n",
    "\n",
    "print number_of_outs"
   ]
  },
  {
   "cell_type": "code",
   "execution_count": 33,
   "metadata": {},
   "outputs": [
    {
     "data": {
      "image/png": "[encoded data removed]",
      "text/plain": [
       "<matplotlib.figure.Figure at 0x7f62b059b790>"
      ]
     },
     "metadata": {},
     "output_type": "display_data"
    }
   ],
   "source": [
    "number_of_outs.plot(kind='barh')\n",
    "plt.show()"
   ]
  },
  {
   "cell_type": "code",
   "execution_count": 58,
   "metadata": {},
   "outputs": [
    {
     "name": "stderr",
     "output_type": "stream",
     "text": [
      "/home/sejal/anaconda2/lib/python2.7/site-packages/ipykernel_launcher.py:3: SettingWithCopyWarning: \n",
      "A value is trying to be set on a copy of a slice from a DataFrame.\n",
      "Try using .loc[row_indexer,col_indexer] = value instead\n",
      "\n",
      "See the caveats in the documentation: http://pandas.pydata.org/pandas-docs/stable/indexing.html#indexing-view-versus-copy\n",
      "  This is separate from the ipykernel package so we can avoid doing imports until\n"
     ]
    },
    {
     "data": {
      "text/html": [
       "<div>\n",
       "<style>\n",
       "    .dataframe thead tr:only-child th {\n",
       "        text-align: right;\n",
       "    }\n",
       "\n",
       "    .dataframe thead th {\n",
       "        text-align: left;\n",
       "    }\n",
       "\n",
       "    .dataframe tbody tr th {\n",
       "        vertical-align: top;\n",
       "    }\n",
       "</style>\n",
       "<table border=\"1\" class=\"dataframe\">\n",
       "  <thead>\n",
       "    <tr style=\"text-align: right;\">\n",
       "      <th>action</th>\n",
       "      <th>in</th>\n",
       "      <th>out</th>\n",
       "    </tr>\n",
       "    <tr>\n",
       "      <th>name</th>\n",
       "      <th></th>\n",
       "      <th></th>\n",
       "    </tr>\n",
       "  </thead>\n",
       "  <tbody>\n",
       "    <tr>\n",
       "      <th>katrina.kaif@gmail.com</th>\n",
       "      <td>1.0</td>\n",
       "      <td>3.0</td>\n",
       "    </tr>\n",
       "    <tr>\n",
       "      <th>mehul.chopra@neebal.com</th>\n",
       "      <td>4.0</td>\n",
       "      <td>4.0</td>\n",
       "    </tr>\n",
       "    <tr>\n",
       "      <th>narendra.modi@yahoo.com</th>\n",
       "      <td>0.0</td>\n",
       "      <td>6.0</td>\n",
       "    </tr>\n",
       "  </tbody>\n",
       "</table>\n",
       "</div>"
      ],
      "text/plain": [
       "action                    in  out\n",
       "name                             \n",
       "katrina.kaif@gmail.com   1.0  3.0\n",
       "mehul.chopra@neebal.com  4.0  4.0\n",
       "narendra.modi@yahoo.com  0.0  6.0"
      ]
     },
     "execution_count": 58,
     "metadata": {},
     "output_type": "execute_result"
    }
   ],
   "source": [
    "#get username, numer of logins, number of logout\n",
    "\n",
    "pdf['count'] = 1\n",
    "\n",
    "pivot_table = pdf.pivot_table('count',aggfunc=np.sum,index='name', columns='action').fillna(0)\n",
    "pivot_table"
   ]
  },
  {
   "cell_type": "code",
   "execution_count": 62,
   "metadata": {},
   "outputs": [
    {
     "data": {
      "image/png": "[encoded data removed]",
      "text/plain": [
       "<matplotlib.figure.Figure at 0x7f62acb90cd0>"
      ]
     },
     "metadata": {},
     "output_type": "display_data"
    }
   ],
   "source": [
    "pivot_table.plot(kind='barh')\n",
    "plt.show()"
   ]
  },
  {
   "cell_type": "code",
   "execution_count": 63,
   "metadata": {},
   "outputs": [
    {
     "data": {
      "image/png": "[encoded data removed]",
      "text/plain": [
       "<matplotlib.figure.Figure at 0x7f62acc2fc90>"
      ]
     },
     "metadata": {},
     "output_type": "display_data"
    }
   ],
   "source": [
    "pivot_table.plot(kind='barh',stacked=True)\n",
    "plt.show()"
   ]
  },
  {
   "cell_type": "code",
   "execution_count": null,
   "metadata": {},
   "outputs": [],
   "source": []
  }
 ],
 "metadata": {
  "kernelspec": {
   "display_name": "Python 2",
   "language": "python",
   "name": "python2"
  },
  "language_info": {
   "codemirror_mode": {
    "name": "ipython",
    "version": 2
   },
   "file_extension": ".py",
   "mimetype": "text/x-python",
   "name": "python",
   "nbconvert_exporter": "python",
   "pygments_lexer": "ipython2",
   "version": "2.7.14"
  }
 },
 "nbformat": 4,
 "nbformat_minor": 2
}
