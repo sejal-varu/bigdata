{
 "cells": [
  {
   "cell_type": "code",
   "execution_count": 1,
   "metadata": {
    "collapsed": true
   },
   "outputs": [],
   "source": [
    "import pandas as pd\n",
    "import numpy as np\n",
    "from pandas import Series, DataFrame\n",
    "import matplotlib.pyplot as plt"
   ]
  },
  {
   "cell_type": "code",
   "execution_count": 9,
   "metadata": {},
   "outputs": [
    {
     "name": "stdout",
     "output_type": "stream",
     "text": [
      "     OrderDate   Region       Rep     Item  Units  UnitCost    Total\n",
      "0     1/6/2016     East     Jones   Pencil     95      1.99   189.05\n",
      "1    1/23/2016  Central    Kivell   Binder     50     19.99   999.50\n",
      "2     2/9/2016  Central   Jardine   Pencil     36      4.99   179.64\n",
      "3    2/26/2016  Central      Gill      Pen     27     19.99   539.73\n",
      "4    3/15/2016     West   Sorvino   Pencil     56      2.99   167.44\n",
      "5     4/1/2016     East     Jones   Binder     60      4.99   299.40\n",
      "6    4/18/2016  Central   Andrews   Pencil     75      1.99   149.25\n",
      "7     5/5/2016  Central   Jardine   Pencil     90      4.99   449.10\n",
      "8    5/22/2016     West  Thompson   Pencil     32      1.99    63.68\n",
      "9     6/8/2016     East     Jones   Binder     60      8.99   539.40\n",
      "10   6/25/2016  Central    Morgan   Pencil     90      4.99   449.10\n",
      "11   7/12/2016     East    Howard   Binder     29      1.99    57.71\n",
      "12   7/29/2016     East    Parent   Binder     81     19.99  1619.19\n",
      "13   8/15/2016     East     Jones   Pencil     35      4.99   174.65\n",
      "14    9/1/2016  Central     Smith     Desk      2    125.00   250.00\n",
      "15   9/18/2016     East     Jones  Pen Set     16     15.99   255.84\n",
      "16   10/5/2016  Central    Morgan   Binder     28      8.99   251.72\n",
      "17  10/22/2016     East     Jones      Pen     64      8.99   575.36\n",
      "18   11/8/2016     East    Parent      Pen     15     19.99   299.85\n",
      "19  11/25/2016  Central    Kivell  Pen Set     96      4.99   479.04\n"
     ]
    }
   ],
   "source": [
    "path = '/home/sejal/Documents/datascience/dataset/data/samplexcel.xlsx'\n",
    "data = pd.read_excel(path, sheetname='Sheet1')\n",
    "print data\n",
    "#df = DataFrame(data)\n",
    "#df"
   ]
  }
 ],
 "metadata": {
  "kernelspec": {
   "display_name": "Python 2",
   "language": "python",
   "name": "python2"
  },
  "language_info": {
   "codemirror_mode": {
    "name": "ipython",
    "version": 2
   },
   "file_extension": ".py",
   "mimetype": "text/x-python",
   "name": "python",
   "nbconvert_exporter": "python",
   "pygments_lexer": "ipython2",
   "version": "2.7.14"
  }
 },
 "nbformat": 4,
 "nbformat_minor": 2
}
