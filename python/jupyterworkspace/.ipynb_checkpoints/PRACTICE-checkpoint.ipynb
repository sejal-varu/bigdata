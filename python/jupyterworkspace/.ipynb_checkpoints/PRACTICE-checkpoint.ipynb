{
 "cells": [
  {
   "cell_type": "code",
   "execution_count": 30,
   "metadata": {
    "collapsed": true
   },
   "outputs": [],
   "source": [
    "import numpy as np\n",
    "import numpy.random as rd\n",
    "import matplotlib.pyplot as plt"
   ]
  },
  {
   "cell_type": "code",
   "execution_count": 11,
   "metadata": {},
   "outputs": [
    {
     "name": "stdout",
     "output_type": "stream",
     "text": [
      "<type 'list'>\n",
      "38.8\n",
      "11.399999999999999\n",
      "[-1.12280702 -0.50877193  2.29824561 -0.94736842 -0.42105263  1.42105263\n",
      " -1.21052632  0.45614035  0.98245614 -0.24561404 -1.12280702 -0.15789474\n",
      "  0.36842105  2.03508772 -0.33333333 -0.07017544  0.54385965 -0.59649123\n",
      " -0.94736842 -0.42105263]\n"
     ]
    }
   ],
   "source": [
    "l = [26, 33, 65, 28, 34, 55, 25, 44, 50, 36, 26, 37, 43, 62, 35, 38, 45, 32, 28, 34]\n",
    "print type(l)\n",
    "list1 = np.array(l)\n",
    "m = np.mean(list1)\n",
    "print m\n",
    "s = np.std(list1)\n",
    "print s\n",
    "z = (list1-m)/s\n",
    "print z\n"
   ]
  },
  {
   "cell_type": "code",
   "execution_count": 60,
   "metadata": {},
   "outputs": [
    {
     "name": "stdout",
     "output_type": "stream",
     "text": [
      "100000\n"
     ]
    },
    {
     "data": {
      "image/png": "[encoded data removed]",
      "text/plain": [
       "<matplotlib.figure.Figure at 0x7f71e06dc450>"
      ]
     },
     "metadata": {},
     "output_type": "display_data"
    }
   ],
   "source": [
    "data = np.random.randint(1460,size=10)\n",
    "l1 = []\n",
    "i = 1\n",
    "while i <= 100000:\n",
    "    data = np.random.randint(1460,size=10)\n",
    "    mean = np.mean(data)\n",
    "    l1.append(mean)\n",
    "    i += 1\n",
    "#print list\n",
    "plt.hist(list)\n",
    "plt.axis([0, 1460, 0, 5])\n",
    "plt.show()\n"
   ]
  }
 ],
 "metadata": {
  "kernelspec": {
   "display_name": "Python 2",
   "language": "python",
   "name": "python2"
  },
  "language_info": {
   "codemirror_mode": {
    "name": "ipython",
    "version": 2
   },
   "file_extension": ".py",
   "mimetype": "text/x-python",
   "name": "python",
   "nbconvert_exporter": "python",
   "pygments_lexer": "ipython2",
   "version": "2.7.14"
  }
 },
 "nbformat": 4,
 "nbformat_minor": 2
}
