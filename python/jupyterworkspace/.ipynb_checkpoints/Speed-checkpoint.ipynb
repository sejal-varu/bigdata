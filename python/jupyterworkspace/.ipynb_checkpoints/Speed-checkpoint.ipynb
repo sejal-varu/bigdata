{
 "cells": [
  {
   "cell_type": "code",
   "execution_count": 8,
   "metadata": {},
   "outputs": [],
   "source": [
    "import numpy as np\n",
    "import numpy.random as rd"
   ]
  },
  {
   "cell_type": "code",
   "execution_count": 9,
   "metadata": {},
   "outputs": [
    {
     "name": "stdout",
     "output_type": "stream",
     "text": [
      "[[ 1.12456765 -1.902718    0.81020277  0.7097749 ]\n",
      " [ 1.30700919 -0.10571277  0.37469307 -1.66486059]\n",
      " [-0.81621785  0.24140833 -0.27690025 -0.10452559]]\n"
     ]
    }
   ],
   "source": [
    "%timeit\n",
    "n1 = rd.randn(1000,1000)\n",
    "\n",
    "print n1"
   ]
  }
 ],
 "metadata": {
  "kernelspec": {
   "display_name": "Python 2",
   "language": "python",
   "name": "python2"
  },
  "language_info": {
   "codemirror_mode": {
    "name": "ipython",
    "version": 2
   },
   "file_extension": ".py",
   "mimetype": "text/x-python",
   "name": "python",
   "nbconvert_exporter": "python",
   "pygments_lexer": "ipython2",
   "version": "2.7.14"
  }
 },
 "nbformat": 4,
 "nbformat_minor": 2
}
