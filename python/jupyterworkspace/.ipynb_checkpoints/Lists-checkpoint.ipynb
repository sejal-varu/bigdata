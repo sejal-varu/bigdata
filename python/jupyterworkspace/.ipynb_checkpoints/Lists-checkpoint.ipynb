{
 "cells": [
  {
   "cell_type": "code",
   "execution_count": null,
   "metadata": {
    "collapsed": true
   },
   "outputs": [],
   "source": [
    "a, b, c, d, e = 3, 4, 1, 2,6"
   ]
  },
  {
   "cell_type": "code",
   "execution_count": 2,
   "metadata": {},
   "outputs": [
    {
     "name": "stdout",
     "output_type": "stream",
     "text": [
      "[]\n",
      "<type 'list'>\n"
     ]
    }
   ],
   "source": [
    "l = []\n",
    "print l\n",
    "print type(l)"
   ]
  },
  {
   "cell_type": "code",
   "execution_count": 3,
   "metadata": {},
   "outputs": [
    {
     "name": "stdout",
     "output_type": "stream",
     "text": [
      "[4, 2, 1, 2, 6]\n",
      "<type 'list'>\n"
     ]
    }
   ],
   "source": [
    "l2 = [4, 2, 1, 2 ,6]\n",
    "print l2\n",
    "print type(l2)"
   ]
  },
  {
   "cell_type": "code",
   "execution_count": 4,
   "metadata": {},
   "outputs": [
    {
     "name": "stdout",
     "output_type": "stream",
     "text": [
      "['sejal', 'm', 10]\n",
      "<type 'list'>\n"
     ]
    }
   ],
   "source": [
    "l3 = ['sejal' ,'m' , 10]\n",
    "print l3\n",
    "print type(l3)"
   ]
  },
  {
   "cell_type": "code",
   "execution_count": 5,
   "metadata": {},
   "outputs": [
    {
     "name": "stdout",
     "output_type": "stream",
     "text": [
      "5\n",
      "0\n"
     ]
    }
   ],
   "source": [
    "print len(l2)\n",
    "print len(l)"
   ]
  },
  {
   "cell_type": "code",
   "execution_count": 8,
   "metadata": {},
   "outputs": [
    {
     "name": "stdout",
     "output_type": "stream",
     "text": [
      "[4, 2, 9, 2, 6]\n",
      "2\n",
      "4\n",
      "6\n",
      "2\n",
      "[4, 2, 9, 2, 6]\n"
     ]
    }
   ],
   "source": [
    "#indexing\n",
    "print l2\n",
    "print l2[1]\n",
    "print l2[0]\n",
    "print l2[-1] #lasr element\n",
    "print l2[-2] #second last element\n",
    "\n",
    "\n",
    "l2[2] = 9\n",
    "print l2"
   ]
  },
  {
   "cell_type": "code",
   "execution_count": 17,
   "metadata": {},
   "outputs": [
    {
     "name": "stdout",
     "output_type": "stream",
     "text": [
      "[4, 2, 9, 2, 6]\n",
      "[4, 2, 9]\n",
      "<type 'list'>\n",
      "[4, 2, 9, 2]\n",
      "[2, 9, 2]\n",
      "[9, 2, 6]\n",
      "[2, 6]\n",
      "[4, 9, 6]\n",
      "[4, 2]\n"
     ]
    }
   ],
   "source": [
    "#slicing\n",
    "l4 = l2[0:3] # start index inclusive, End index exclusive\n",
    "print l2\n",
    "print l4\n",
    "print type(l4)\n",
    "print l2[:4] # here, stert index default is 0\n",
    "print l2[1:4]\n",
    "print l2[2:] #End index default to end of list\n",
    "print l2[-2:] #extract lat two wlwmwnts of list\n",
    "print l2[::2] #steps 2  indexes\n",
    "print l2[::3]"
   ]
  },
  {
   "cell_type": "code",
   "execution_count": 18,
   "metadata": {},
   "outputs": [
    {
     "name": "stdout",
     "output_type": "stream",
     "text": [
      "[4, 2, 9, 2, 6]\n",
      "4\n",
      "2\n",
      "9\n",
      "2\n",
      "6\n"
     ]
    }
   ],
   "source": [
    "print l2\n",
    "for element in l2:\n",
    "    print element"
   ]
  },
  {
   "cell_type": "code",
   "execution_count": 21,
   "metadata": {},
   "outputs": [
    {
     "name": "stdout",
     "output_type": "stream",
     "text": [
      "[4, 2, 9, 2, 6, 7, 7]\n",
      "[4, 2, 9, 2, 6, 7, 7, 7]\n",
      "[4, 2, 9, 2, 6, 7, 7, 7, 1, 5, 6]\n"
     ]
    }
   ],
   "source": [
    "print l2\n",
    "l2.append(7)\n",
    "print l2\n",
    "\n",
    "l2.extend([1, 5, 6])\n",
    "print l2"
   ]
  },
  {
   "cell_type": "code",
   "execution_count": 23,
   "metadata": {},
   "outputs": [
    {
     "name": "stdout",
     "output_type": "stream",
     "text": [
      "5\n",
      "[4, 2, 9, 2, 6, 7, 7, 7, 1]\n"
     ]
    }
   ],
   "source": [
    "print l2.pop()\n",
    "print l2"
   ]
  },
  {
   "cell_type": "code",
   "execution_count": 24,
   "metadata": {},
   "outputs": [
    {
     "name": "stdout",
     "output_type": "stream",
     "text": [
      "7\n",
      "[4, 2, 9, 2, 6, 7, 7, 1]\n"
     ]
    }
   ],
   "source": [
    "print l2.pop(7)\n",
    "print l2"
   ]
  },
  {
   "cell_type": "code",
   "execution_count": 26,
   "metadata": {},
   "outputs": [
    {
     "name": "stdout",
     "output_type": "stream",
     "text": [
      "7\n",
      "[4, 2, 9, 2, 6, 1]\n"
     ]
    }
   ],
   "source": [
    "print l2.pop(-2)\n",
    "print l2"
   ]
  },
  {
   "cell_type": "code",
   "execution_count": 27,
   "metadata": {},
   "outputs": [
    {
     "name": "stdout",
     "output_type": "stream",
     "text": [
      "[3, 4, 2, 9, 2, 6, 1]\n"
     ]
    }
   ],
   "source": [
    "l2.insert(0, 3)\n",
    "print l2"
   ]
  },
  {
   "cell_type": "code",
   "execution_count": 29,
   "metadata": {},
   "outputs": [
    {
     "name": "stdout",
     "output_type": "stream",
     "text": [
      "[3, 4, 9, 2, 6]\n"
     ]
    }
   ],
   "source": [
    "l2.pop(-1)\n",
    "print l2"
   ]
  },
  {
   "cell_type": "code",
   "execution_count": 37,
   "metadata": {},
   "outputs": [
    {
     "name": "stdout",
     "output_type": "stream",
     "text": [
      "[2, 3, 4, 4, 5, 6, 7, 9]\n"
     ]
    }
   ],
   "source": [
    "\n",
    "#l2 = [3,4,9,2,6,7,5,4]\n",
    "l2.sort()\n",
    "print l2\n"
   ]
  },
  {
   "cell_type": "code",
   "execution_count": 38,
   "metadata": {},
   "outputs": [
    {
     "name": "stdout",
     "output_type": "stream",
     "text": [
      "2\n"
     ]
    }
   ],
   "source": [
    "print l2.count(4)"
   ]
  },
  {
   "cell_type": "code",
   "execution_count": 40,
   "metadata": {},
   "outputs": [
    {
     "name": "stdout",
     "output_type": "stream",
     "text": [
      "[9, 7, 6, 5, 4, 4, 3, 2]\n"
     ]
    }
   ],
   "source": [
    "l2.sort(reverse=True)\n",
    "print l2"
   ]
  },
  {
   "cell_type": "code",
   "execution_count": 41,
   "metadata": {},
   "outputs": [
    {
     "name": "stdout",
     "output_type": "stream",
     "text": [
      "9\n",
      "2\n",
      "40\n"
     ]
    }
   ],
   "source": [
    "print max(l2)\n",
    "print min(l2)\n",
    "print sum(l2)"
   ]
  },
  {
   "cell_type": "code",
   "execution_count": 43,
   "metadata": {},
   "outputs": [
    {
     "name": "stdout",
     "output_type": "stream",
     "text": [
      "[[5, 6], [2, 3]]\n",
      "<type 'list'>\n"
     ]
    }
   ],
   "source": [
    "l3 = [\n",
    "    [5, 6],\n",
    "    [2, 3]\n",
    "] # Two dimensional list\n",
    "print l3\n",
    "print type(l3)"
   ]
  },
  {
   "cell_type": "code",
   "execution_count": 45,
   "metadata": {},
   "outputs": [
    {
     "name": "stdout",
     "output_type": "stream",
     "text": [
      "2\n"
     ]
    }
   ],
   "source": [
    "print len(l3)"
   ]
  },
  {
   "cell_type": "code",
   "execution_count": 49,
   "metadata": {},
   "outputs": [
    {
     "name": "stdout",
     "output_type": "stream",
     "text": [
      "3\n",
      "6\n",
      "6\n"
     ]
    }
   ],
   "source": [
    "print l3[1][1]\n",
    "print l3[0][1]\n",
    "print l3[0][-1]"
   ]
  },
  {
   "cell_type": "raw",
   "metadata": {},
   "source": []
  }
 ],
 "metadata": {
  "kernelspec": {
   "display_name": "Python 2",
   "language": "python",
   "name": "python2"
  },
  "language_info": {
   "codemirror_mode": {
    "name": "ipython",
    "version": 2
   },
   "file_extension": ".py",
   "mimetype": "text/x-python",
   "name": "python",
   "nbconvert_exporter": "python",
   "pygments_lexer": "ipython2",
   "version": "2.7.14"
  }
 },
 "nbformat": 4,
 "nbformat_minor": 2
}
