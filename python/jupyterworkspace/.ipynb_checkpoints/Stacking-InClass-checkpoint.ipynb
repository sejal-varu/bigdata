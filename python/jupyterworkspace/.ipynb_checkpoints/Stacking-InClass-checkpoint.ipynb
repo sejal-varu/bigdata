{
 "cells": [
  {
   "cell_type": "code",
   "execution_count": 33,
   "metadata": {
    "collapsed": true
   },
   "outputs": [],
   "source": [
    "# Importing necessary packages\n",
    "import pandas as pd\n",
    "import numpy as np\n",
    "from sklearn.tree import DecisionTreeClassifier \n",
    "from sklearn.metrics import accuracy_score\n",
    "from sklearn.model_selection import train_test_split\n",
    "from sklearn.linear_model import LogisticRegression\n"
   ]
  },
  {
   "cell_type": "code",
   "execution_count": 2,
   "metadata": {
    "collapsed": true
   },
   "outputs": [],
   "source": [
    "dataframe = pd.read_csv('/home/sejal/Documents/datascience/dataset/data/loan_prediction.csv')"
   ]
  },
  {
   "cell_type": "code",
   "execution_count": 3,
   "metadata": {},
   "outputs": [
    {
     "data": {
      "text/html": [
       "<div>\n",
       "<style>\n",
       "    .dataframe thead tr:only-child th {\n",
       "        text-align: right;\n",
       "    }\n",
       "\n",
       "    .dataframe thead th {\n",
       "        text-align: left;\n",
       "    }\n",
       "\n",
       "    .dataframe tbody tr th {\n",
       "        vertical-align: top;\n",
       "    }\n",
       "</style>\n",
       "<table border=\"1\" class=\"dataframe\">\n",
       "  <thead>\n",
       "    <tr style=\"text-align: right;\">\n",
       "      <th></th>\n",
       "      <th>ApplicantIncome</th>\n",
       "      <th>CoapplicantIncome</th>\n",
       "      <th>LoanAmount</th>\n",
       "      <th>Loan_Amount_Term</th>\n",
       "      <th>Credit_History</th>\n",
       "      <th>Loan_Status</th>\n",
       "    </tr>\n",
       "  </thead>\n",
       "  <tbody>\n",
       "    <tr>\n",
       "      <th>0</th>\n",
       "      <td>5849</td>\n",
       "      <td>0.0</td>\n",
       "      <td>0.0</td>\n",
       "      <td>360.0</td>\n",
       "      <td>1.0</td>\n",
       "      <td>1</td>\n",
       "    </tr>\n",
       "    <tr>\n",
       "      <th>1</th>\n",
       "      <td>4583</td>\n",
       "      <td>1508.0</td>\n",
       "      <td>128.0</td>\n",
       "      <td>360.0</td>\n",
       "      <td>1.0</td>\n",
       "      <td>0</td>\n",
       "    </tr>\n",
       "    <tr>\n",
       "      <th>2</th>\n",
       "      <td>3000</td>\n",
       "      <td>0.0</td>\n",
       "      <td>66.0</td>\n",
       "      <td>360.0</td>\n",
       "      <td>1.0</td>\n",
       "      <td>1</td>\n",
       "    </tr>\n",
       "    <tr>\n",
       "      <th>3</th>\n",
       "      <td>2583</td>\n",
       "      <td>2358.0</td>\n",
       "      <td>120.0</td>\n",
       "      <td>360.0</td>\n",
       "      <td>1.0</td>\n",
       "      <td>1</td>\n",
       "    </tr>\n",
       "    <tr>\n",
       "      <th>4</th>\n",
       "      <td>6000</td>\n",
       "      <td>0.0</td>\n",
       "      <td>141.0</td>\n",
       "      <td>360.0</td>\n",
       "      <td>1.0</td>\n",
       "      <td>1</td>\n",
       "    </tr>\n",
       "  </tbody>\n",
       "</table>\n",
       "</div>"
      ],
      "text/plain": [
       "   ApplicantIncome  CoapplicantIncome  LoanAmount  Loan_Amount_Term  \\\n",
       "0             5849                0.0         0.0             360.0   \n",
       "1             4583             1508.0       128.0             360.0   \n",
       "2             3000                0.0        66.0             360.0   \n",
       "3             2583             2358.0       120.0             360.0   \n",
       "4             6000                0.0       141.0             360.0   \n",
       "\n",
       "   Credit_History  Loan_Status  \n",
       "0             1.0            1  \n",
       "1             1.0            0  \n",
       "2             1.0            1  \n",
       "3             1.0            1  \n",
       "4             1.0            1  "
      ]
     },
     "execution_count": 3,
     "metadata": {},
     "output_type": "execute_result"
    }
   ],
   "source": [
    "dataframe.head(5)"
   ]
  },
  {
   "cell_type": "code",
   "execution_count": 4,
   "metadata": {
    "collapsed": true
   },
   "outputs": [],
   "source": [
    "X = dataframe.iloc[:,0:5]\n",
    "y = dataframe.iloc[:,5]"
   ]
  },
  {
   "cell_type": "code",
   "execution_count": 5,
   "metadata": {},
   "outputs": [
    {
     "data": {
      "text/html": [
       "<div>\n",
       "<style>\n",
       "    .dataframe thead tr:only-child th {\n",
       "        text-align: right;\n",
       "    }\n",
       "\n",
       "    .dataframe thead th {\n",
       "        text-align: left;\n",
       "    }\n",
       "\n",
       "    .dataframe tbody tr th {\n",
       "        vertical-align: top;\n",
       "    }\n",
       "</style>\n",
       "<table border=\"1\" class=\"dataframe\">\n",
       "  <thead>\n",
       "    <tr style=\"text-align: right;\">\n",
       "      <th></th>\n",
       "      <th>ApplicantIncome</th>\n",
       "      <th>CoapplicantIncome</th>\n",
       "      <th>LoanAmount</th>\n",
       "      <th>Loan_Amount_Term</th>\n",
       "      <th>Credit_History</th>\n",
       "    </tr>\n",
       "  </thead>\n",
       "  <tbody>\n",
       "    <tr>\n",
       "      <th>0</th>\n",
       "      <td>5849</td>\n",
       "      <td>0.0</td>\n",
       "      <td>0.0</td>\n",
       "      <td>360.0</td>\n",
       "      <td>1.0</td>\n",
       "    </tr>\n",
       "    <tr>\n",
       "      <th>1</th>\n",
       "      <td>4583</td>\n",
       "      <td>1508.0</td>\n",
       "      <td>128.0</td>\n",
       "      <td>360.0</td>\n",
       "      <td>1.0</td>\n",
       "    </tr>\n",
       "    <tr>\n",
       "      <th>2</th>\n",
       "      <td>3000</td>\n",
       "      <td>0.0</td>\n",
       "      <td>66.0</td>\n",
       "      <td>360.0</td>\n",
       "      <td>1.0</td>\n",
       "    </tr>\n",
       "    <tr>\n",
       "      <th>3</th>\n",
       "      <td>2583</td>\n",
       "      <td>2358.0</td>\n",
       "      <td>120.0</td>\n",
       "      <td>360.0</td>\n",
       "      <td>1.0</td>\n",
       "    </tr>\n",
       "    <tr>\n",
       "      <th>4</th>\n",
       "      <td>6000</td>\n",
       "      <td>0.0</td>\n",
       "      <td>141.0</td>\n",
       "      <td>360.0</td>\n",
       "      <td>1.0</td>\n",
       "    </tr>\n",
       "  </tbody>\n",
       "</table>\n",
       "</div>"
      ],
      "text/plain": [
       "   ApplicantIncome  CoapplicantIncome  LoanAmount  Loan_Amount_Term  \\\n",
       "0             5849                0.0         0.0             360.0   \n",
       "1             4583             1508.0       128.0             360.0   \n",
       "2             3000                0.0        66.0             360.0   \n",
       "3             2583             2358.0       120.0             360.0   \n",
       "4             6000                0.0       141.0             360.0   \n",
       "\n",
       "   Credit_History  \n",
       "0             1.0  \n",
       "1             1.0  \n",
       "2             1.0  \n",
       "3             1.0  \n",
       "4             1.0  "
      ]
     },
     "execution_count": 5,
     "metadata": {},
     "output_type": "execute_result"
    }
   ],
   "source": [
    "X.head()"
   ]
  },
  {
   "cell_type": "code",
   "execution_count": 6,
   "metadata": {},
   "outputs": [
    {
     "data": {
      "text/plain": [
       "0    1\n",
       "1    0\n",
       "2    1\n",
       "3    1\n",
       "4    1\n",
       "Name: Loan_Status, dtype: int64"
      ]
     },
     "execution_count": 6,
     "metadata": {},
     "output_type": "execute_result"
    }
   ],
   "source": [
    "y.head()"
   ]
  },
  {
   "cell_type": "code",
   "execution_count": 9,
   "metadata": {},
   "outputs": [
    {
     "name": "stdout",
     "output_type": "stream",
     "text": [
      "(552, 5) (552,)\n",
      "(62, 5) (62,)\n"
     ]
    }
   ],
   "source": [
    "# create training and testing vars\n",
    "X_train, X_test, y_train, y_test = train_test_split(X, y, test_size=0.1)\n",
    "print X_train.shape, y_train.shape\n",
    "print X_test.shape, y_test.shape"
   ]
  },
  {
   "cell_type": "code",
   "execution_count": 18,
   "metadata": {},
   "outputs": [
    {
     "name": "stdout",
     "output_type": "stream",
     "text": [
      "(496, 5) (496,)\n",
      "(56, 5) (56,)\n"
     ]
    }
   ],
   "source": [
    "X_train1, X_test1, y_train1, y_test1 = train_test_split(X_train, y_train, test_size=0.1)\n",
    "\n",
    "print X_train1.shape, y_train1.shape\n",
    "print X_test1.shape, y_test1.shape"
   ]
  },
  {
   "cell_type": "code",
   "execution_count": 45,
   "metadata": {},
   "outputs": [
    {
     "name": "stdout",
     "output_type": "stream",
     "text": [
      "[[0.19736842 0.80263158]\n",
      " [0.19736842 0.80263158]\n",
      " [0.19736842 0.80263158]\n",
      " [0.19736842 0.80263158]\n",
      " [0.19736842 0.80263158]\n",
      " [0.19736842 0.80263158]\n",
      " [0.19736842 0.80263158]\n",
      " [0.19736842 0.80263158]\n",
      " [0.19736842 0.80263158]\n",
      " [0.19736842 0.80263158]\n",
      " [0.19736842 0.80263158]\n",
      " [0.19736842 0.80263158]\n",
      " [0.19736842 0.80263158]\n",
      " [0.19736842 0.80263158]\n",
      " [0.19736842 0.80263158]\n",
      " [0.19736842 0.80263158]\n",
      " [0.77941176 0.22058824]\n",
      " [0.19736842 0.80263158]\n",
      " [0.77941176 0.22058824]\n",
      " [0.19736842 0.80263158]\n",
      " [0.19736842 0.80263158]\n",
      " [0.19736842 0.80263158]\n",
      " [0.19736842 0.80263158]\n",
      " [0.19736842 0.80263158]\n",
      " [0.19736842 0.80263158]\n",
      " [0.19736842 0.80263158]\n",
      " [0.19736842 0.80263158]\n",
      " [0.19736842 0.80263158]\n",
      " [0.19736842 0.80263158]\n",
      " [0.77941176 0.22058824]\n",
      " [0.19736842 0.80263158]\n",
      " [0.19736842 0.80263158]\n",
      " [0.19736842 0.80263158]\n",
      " [0.77941176 0.22058824]\n",
      " [0.19736842 0.80263158]\n",
      " [0.19736842 0.80263158]\n",
      " [0.19736842 0.80263158]\n",
      " [0.19736842 0.80263158]\n",
      " [0.19736842 0.80263158]\n",
      " [0.19736842 0.80263158]\n",
      " [0.77941176 0.22058824]\n",
      " [0.19736842 0.80263158]\n",
      " [0.19736842 0.80263158]\n",
      " [0.19736842 0.80263158]\n",
      " [0.19736842 0.80263158]\n",
      " [0.77941176 0.22058824]\n",
      " [0.19736842 0.80263158]\n",
      " [0.19736842 0.80263158]\n",
      " [0.19736842 0.80263158]\n",
      " [0.19736842 0.80263158]\n",
      " [0.19736842 0.80263158]\n",
      " [0.19736842 0.80263158]\n",
      " [0.63636364 0.36363636]\n",
      " [0.19736842 0.80263158]\n",
      " [0.19736842 0.80263158]\n",
      " [0.19736842 0.80263158]\n",
      " [0.77941176 0.22058824]\n",
      " [0.77941176 0.22058824]\n",
      " [0.19736842 0.80263158]\n",
      " [0.77941176 0.22058824]\n",
      " [0.19736842 0.80263158]\n",
      " [0.63636364 0.36363636]]\n"
     ]
    }
   ],
   "source": [
    "#model-1\n",
    "clf1 = DecisionTreeClassifier(criterion='gini',max_depth=2)\n",
    "clf1.fit(X_train1,y_train1)\n",
    "y1_pred = clf1.predict_proba(X_test)[:,1]\n",
    "print y1_pred"
   ]
  },
  {
   "cell_type": "code",
   "execution_count": 30,
   "metadata": {},
   "outputs": [
    {
     "name": "stdout",
     "output_type": "stream",
     "text": [
      "[0.82392027 0.82392027 0.82392027 0.82392027 0.82392027 0.82392027\n",
      " 0.82392027 0.82392027 0.82392027 0.82392027 0.72151899 0.82392027\n",
      " 0.82392027 0.82392027 0.82392027 0.82392027 0.30693069 0.82392027\n",
      " 0.30693069 0.82392027 0.72151899 0.82392027 0.72151899 0.82392027\n",
      " 0.82392027 0.82392027 0.82392027 0.82392027 0.82392027 0.30693069\n",
      " 0.72151899 0.82392027 0.82392027 0.30693069 0.82392027 0.82392027\n",
      " 0.82392027 0.72151899 0.82392027 0.72151899 0.30693069 0.72151899\n",
      " 0.72151899 0.82392027 0.82392027 0.30693069 0.82392027 0.72151899\n",
      " 0.72151899 0.82392027 0.82392027 0.82392027 0.30693069 0.82392027\n",
      " 0.82392027 0.82392027 0.30693069 0.30693069 0.82392027 0.30693069\n",
      " 0.72151899 0.30693069]\n"
     ]
    }
   ],
   "source": [
    "#model-2\n",
    "clf2 = DecisionTreeClassifier(criterion='entropy',max_depth=3)\n",
    "clf2.fit(X_train1,y_train1)\n",
    "y2_pred = clf2.predict_proba(X_test)[:,1]\n",
    "print y2_pred"
   ]
  },
  {
   "cell_type": "code",
   "execution_count": 34,
   "metadata": {},
   "outputs": [
    {
     "name": "stdout",
     "output_type": "stream",
     "text": [
      "[0.79262332 0.78002297 0.76851961 0.56809993 0.77125111 0.75595932\n",
      " 0.79558155 0.78044514 0.79448475 0.79731618 0.88219993 0.79700078\n",
      " 0.79521764 0.85063218 0.53557951 0.79091205 0.33758086 0.83470263\n",
      " 0.33652649 0.77677274 0.78985582 0.7901574  0.76433581 0.71723385\n",
      " 0.78203637 0.75232375 0.79126454 0.80326783 0.79547545 0.33485865\n",
      " 0.83922173 0.78336275 0.75859446 0.26570791 0.75318382 0.78091577\n",
      " 0.47132545 0.65239193 0.78737472 0.75422193 0.40380486 0.7198772\n",
      " 0.85237545 0.80736491 0.73745506 0.34726927 0.75234583 0.79334696\n",
      " 0.79848079 0.78230839 0.78556623 0.76092118 0.33697309 0.88622966\n",
      " 0.7843374  0.7886961  0.33086823 0.3474155  0.79010512 0.3091044\n",
      " 0.82402856 0.41222093]\n"
     ]
    }
   ],
   "source": [
    "#model-3\n",
    "clf3 = LogisticRegression()\n",
    "clf3.fit(X_train1,y_train1)\n",
    "y3_pred = clf3.predict_proba(X_test)[:,1]\n",
    "print y3_pred"
   ]
  },
  {
   "cell_type": "code",
   "execution_count": 37,
   "metadata": {},
   "outputs": [
    {
     "name": "stdout",
     "output_type": "stream",
     "text": [
      "[0.80189612 0.7928901  0.77884348 0.61487607 0.78288691 0.77264954\n",
      " 0.80495851 0.79109371 0.80494161 0.80981905 0.86338529 0.80573571\n",
      " 0.80523989 0.84231898 0.55465483 0.80657531 0.29509683 0.83505457\n",
      " 0.29712191 0.78692159 0.79390016 0.79916443 0.76974874 0.75619799\n",
      " 0.79483483 0.76569895 0.80155182 0.81492207 0.80377417 0.29463594\n",
      " 0.82752592 0.79318851 0.78028137 0.23457013 0.76508147 0.79583231\n",
      " 0.48578086 0.65910338 0.79902783 0.75901995 0.33952725 0.72764353\n",
      " 0.82748846 0.83185999 0.75964696 0.30642962 0.7815755  0.80008069\n",
      " 0.80473618 0.79565374 0.79465588 0.77456206 0.30251973 0.86573825\n",
      " 0.79410785 0.8023781  0.28893936 0.30598262 0.7987902  0.27418293\n",
      " 0.81795813 0.3441845 ]\n"
     ]
    }
   ],
   "source": [
    "#model-4\n",
    "clf4 = LogisticRegression(penalty=\"l1\")\n",
    "clf4.fit(X_train1,y_train1)\n",
    "y4_pred = clf4.predict_proba(X_test)[:,1]\n",
    "print y4_pred"
   ]
  },
  {
   "cell_type": "code",
   "execution_count": 44,
   "metadata": {},
   "outputs": [
    {
     "name": "stdout",
     "output_type": "stream",
     "text": [
      "[[0.12849162 0.87150838]\n",
      " [0.28409091 0.71590909]\n",
      " [0.12849162 0.87150838]\n",
      " [0.28409091 0.71590909]\n",
      " [0.12849162 0.87150838]\n",
      " [0.28409091 0.71590909]\n",
      " [0.12849162 0.87150838]\n",
      " [0.12849162 0.87150838]\n",
      " [0.12849162 0.87150838]\n",
      " [0.28409091 0.71590909]\n",
      " [0.29850746 0.70149254]\n",
      " [0.12849162 0.87150838]\n",
      " [0.12849162 0.87150838]\n",
      " [0.12849162 0.87150838]\n",
      " [0.28409091 0.71590909]\n",
      " [0.28409091 0.71590909]\n",
      " [0.55       0.45      ]\n",
      " [0.28409091 0.71590909]\n",
      " [0.74683544 0.25316456]\n",
      " [0.12849162 0.87150838]\n",
      " [0.29850746 0.70149254]\n",
      " [0.12849162 0.87150838]\n",
      " [0.         1.        ]\n",
      " [0.12121212 0.87878788]\n",
      " [0.28409091 0.71590909]\n",
      " [0.28409091 0.71590909]\n",
      " [0.12849162 0.87150838]\n",
      " [0.28409091 0.71590909]\n",
      " [0.12849162 0.87150838]\n",
      " [0.55       0.45      ]\n",
      " [0.29850746 0.70149254]\n",
      " [0.12849162 0.87150838]\n",
      " [0.12121212 0.87878788]\n",
      " [0.74683544 0.25316456]\n",
      " [0.12849162 0.87150838]\n",
      " [0.28409091 0.71590909]\n",
      " [0.28409091 0.71590909]\n",
      " [0.29850746 0.70149254]\n",
      " [0.12849162 0.87150838]\n",
      " [0.29850746 0.70149254]\n",
      " [0.74683544 0.25316456]\n",
      " [0.29850746 0.70149254]\n",
      " [1.         0.        ]\n",
      " [0.28409091 0.71590909]\n",
      " [0.28409091 0.71590909]\n",
      " [0.55       0.45      ]\n",
      " [0.28409091 0.71590909]\n",
      " [0.29850746 0.70149254]\n",
      " [0.29850746 0.70149254]\n",
      " [0.12121212 0.87878788]\n",
      " [0.12849162 0.87150838]\n",
      " [0.12121212 0.87878788]\n",
      " [0.55       0.45      ]\n",
      " [0.12849162 0.87150838]\n",
      " [0.12849162 0.87150838]\n",
      " [0.28409091 0.71590909]\n",
      " [0.74683544 0.25316456]\n",
      " [0.74683544 0.25316456]\n",
      " [0.12849162 0.87150838]\n",
      " [0.74683544 0.25316456]\n",
      " [0.29850746 0.70149254]\n",
      " [0.55       0.45      ]]\n"
     ]
    }
   ],
   "source": [
    "#model-5\n",
    "clf5 = DecisionTreeClassifier(criterion='entropy',max_depth=5)\n",
    "clf5.fit(X_train1,y_train1)\n",
    "y5_pred = clf5.predict_proba(X_test)[:,1]\n",
    "print y5_pred"
   ]
  },
  {
   "cell_type": "code",
   "execution_count": 40,
   "metadata": {},
   "outputs": [],
   "source": [
    "all_probs = dataframe"
   ]
  },
  {
   "cell_type": "code",
   "execution_count": 42,
   "metadata": {},
   "outputs": [
    {
     "ename": "ValueError",
     "evalue": "Length of values does not match length of index",
     "output_type": "error",
     "traceback": [
      "\u001b[0;31m---------------------------------------------------------------------------\u001b[0m",
      "\u001b[0;31mValueError\u001b[0m                                Traceback (most recent call last)",
      "\u001b[0;32m<ipython-input-42-84d690131ed4>\u001b[0m in \u001b[0;36m<module>\u001b[0;34m()\u001b[0m\n\u001b[0;32m----> 1\u001b[0;31m \u001b[0mall_probs\u001b[0m\u001b[0;34m[\u001b[0m\u001b[0;34m\"p1\"\u001b[0m\u001b[0;34m,\u001b[0m\u001b[0;34m\"p2\"\u001b[0m\u001b[0;34m,\u001b[0m\u001b[0;34m\"p3\"\u001b[0m\u001b[0;34m,\u001b[0m\u001b[0;34m\"p4\"\u001b[0m\u001b[0;34m,\u001b[0m\u001b[0;34m\"p5\"\u001b[0m\u001b[0;34m]\u001b[0m \u001b[0;34m=\u001b[0m \u001b[0;34m[\u001b[0m\u001b[0my1_pred\u001b[0m\u001b[0;34m,\u001b[0m\u001b[0my2_pred\u001b[0m\u001b[0;34m,\u001b[0m\u001b[0my3_pred\u001b[0m\u001b[0;34m,\u001b[0m\u001b[0my4_pred\u001b[0m\u001b[0;34m,\u001b[0m\u001b[0my5_pred\u001b[0m\u001b[0;34m]\u001b[0m\u001b[0;34m\u001b[0m\u001b[0m\n\u001b[0m\u001b[1;32m      2\u001b[0m \u001b[0mall_probs\u001b[0m\u001b[0;34m\u001b[0m\u001b[0m\n",
      "\u001b[0;32m/home/sejal/anaconda2/lib/python2.7/site-packages/pandas/core/frame.pyc\u001b[0m in \u001b[0;36m__setitem__\u001b[0;34m(self, key, value)\u001b[0m\n\u001b[1;32m   2329\u001b[0m         \u001b[0;32melse\u001b[0m\u001b[0;34m:\u001b[0m\u001b[0;34m\u001b[0m\u001b[0m\n\u001b[1;32m   2330\u001b[0m             \u001b[0;31m# set column\u001b[0m\u001b[0;34m\u001b[0m\u001b[0;34m\u001b[0m\u001b[0m\n\u001b[0;32m-> 2331\u001b[0;31m             \u001b[0mself\u001b[0m\u001b[0;34m.\u001b[0m\u001b[0m_set_item\u001b[0m\u001b[0;34m(\u001b[0m\u001b[0mkey\u001b[0m\u001b[0;34m,\u001b[0m \u001b[0mvalue\u001b[0m\u001b[0;34m)\u001b[0m\u001b[0;34m\u001b[0m\u001b[0m\n\u001b[0m\u001b[1;32m   2332\u001b[0m \u001b[0;34m\u001b[0m\u001b[0m\n\u001b[1;32m   2333\u001b[0m     \u001b[0;32mdef\u001b[0m \u001b[0m_setitem_slice\u001b[0m\u001b[0;34m(\u001b[0m\u001b[0mself\u001b[0m\u001b[0;34m,\u001b[0m \u001b[0mkey\u001b[0m\u001b[0;34m,\u001b[0m \u001b[0mvalue\u001b[0m\u001b[0;34m)\u001b[0m\u001b[0;34m:\u001b[0m\u001b[0;34m\u001b[0m\u001b[0m\n",
      "\u001b[0;32m/home/sejal/anaconda2/lib/python2.7/site-packages/pandas/core/frame.pyc\u001b[0m in \u001b[0;36m_set_item\u001b[0;34m(self, key, value)\u001b[0m\n\u001b[1;32m   2395\u001b[0m \u001b[0;34m\u001b[0m\u001b[0m\n\u001b[1;32m   2396\u001b[0m         \u001b[0mself\u001b[0m\u001b[0;34m.\u001b[0m\u001b[0m_ensure_valid_index\u001b[0m\u001b[0;34m(\u001b[0m\u001b[0mvalue\u001b[0m\u001b[0;34m)\u001b[0m\u001b[0;34m\u001b[0m\u001b[0m\n\u001b[0;32m-> 2397\u001b[0;31m         \u001b[0mvalue\u001b[0m \u001b[0;34m=\u001b[0m \u001b[0mself\u001b[0m\u001b[0;34m.\u001b[0m\u001b[0m_sanitize_column\u001b[0m\u001b[0;34m(\u001b[0m\u001b[0mkey\u001b[0m\u001b[0;34m,\u001b[0m \u001b[0mvalue\u001b[0m\u001b[0;34m)\u001b[0m\u001b[0;34m\u001b[0m\u001b[0m\n\u001b[0m\u001b[1;32m   2398\u001b[0m         \u001b[0mNDFrame\u001b[0m\u001b[0;34m.\u001b[0m\u001b[0m_set_item\u001b[0m\u001b[0;34m(\u001b[0m\u001b[0mself\u001b[0m\u001b[0;34m,\u001b[0m \u001b[0mkey\u001b[0m\u001b[0;34m,\u001b[0m \u001b[0mvalue\u001b[0m\u001b[0;34m)\u001b[0m\u001b[0;34m\u001b[0m\u001b[0m\n\u001b[1;32m   2399\u001b[0m \u001b[0;34m\u001b[0m\u001b[0m\n",
      "\u001b[0;32m/home/sejal/anaconda2/lib/python2.7/site-packages/pandas/core/frame.pyc\u001b[0m in \u001b[0;36m_sanitize_column\u001b[0;34m(self, key, value, broadcast)\u001b[0m\n\u001b[1;32m   2566\u001b[0m \u001b[0;34m\u001b[0m\u001b[0m\n\u001b[1;32m   2567\u001b[0m             \u001b[0;31m# turn me into an ndarray\u001b[0m\u001b[0;34m\u001b[0m\u001b[0;34m\u001b[0m\u001b[0m\n\u001b[0;32m-> 2568\u001b[0;31m             \u001b[0mvalue\u001b[0m \u001b[0;34m=\u001b[0m \u001b[0m_sanitize_index\u001b[0m\u001b[0;34m(\u001b[0m\u001b[0mvalue\u001b[0m\u001b[0;34m,\u001b[0m \u001b[0mself\u001b[0m\u001b[0;34m.\u001b[0m\u001b[0mindex\u001b[0m\u001b[0;34m,\u001b[0m \u001b[0mcopy\u001b[0m\u001b[0;34m=\u001b[0m\u001b[0mFalse\u001b[0m\u001b[0;34m)\u001b[0m\u001b[0;34m\u001b[0m\u001b[0m\n\u001b[0m\u001b[1;32m   2569\u001b[0m             \u001b[0;32mif\u001b[0m \u001b[0;32mnot\u001b[0m \u001b[0misinstance\u001b[0m\u001b[0;34m(\u001b[0m\u001b[0mvalue\u001b[0m\u001b[0;34m,\u001b[0m \u001b[0;34m(\u001b[0m\u001b[0mnp\u001b[0m\u001b[0;34m.\u001b[0m\u001b[0mndarray\u001b[0m\u001b[0;34m,\u001b[0m \u001b[0mIndex\u001b[0m\u001b[0;34m)\u001b[0m\u001b[0;34m)\u001b[0m\u001b[0;34m:\u001b[0m\u001b[0;34m\u001b[0m\u001b[0m\n\u001b[1;32m   2570\u001b[0m                 \u001b[0;32mif\u001b[0m \u001b[0misinstance\u001b[0m\u001b[0;34m(\u001b[0m\u001b[0mvalue\u001b[0m\u001b[0;34m,\u001b[0m \u001b[0mlist\u001b[0m\u001b[0;34m)\u001b[0m \u001b[0;32mand\u001b[0m \u001b[0mlen\u001b[0m\u001b[0;34m(\u001b[0m\u001b[0mvalue\u001b[0m\u001b[0;34m)\u001b[0m \u001b[0;34m>\u001b[0m \u001b[0;36m0\u001b[0m\u001b[0;34m:\u001b[0m\u001b[0;34m\u001b[0m\u001b[0m\n",
      "\u001b[0;32m/home/sejal/anaconda2/lib/python2.7/site-packages/pandas/core/series.pyc\u001b[0m in \u001b[0;36m_sanitize_index\u001b[0;34m(data, index, copy)\u001b[0m\n\u001b[1;32m   2877\u001b[0m \u001b[0;34m\u001b[0m\u001b[0m\n\u001b[1;32m   2878\u001b[0m     \u001b[0;32mif\u001b[0m \u001b[0mlen\u001b[0m\u001b[0;34m(\u001b[0m\u001b[0mdata\u001b[0m\u001b[0;34m)\u001b[0m \u001b[0;34m!=\u001b[0m \u001b[0mlen\u001b[0m\u001b[0;34m(\u001b[0m\u001b[0mindex\u001b[0m\u001b[0;34m)\u001b[0m\u001b[0;34m:\u001b[0m\u001b[0;34m\u001b[0m\u001b[0m\n\u001b[0;32m-> 2879\u001b[0;31m         \u001b[0;32mraise\u001b[0m \u001b[0mValueError\u001b[0m\u001b[0;34m(\u001b[0m\u001b[0;34m'Length of values does not match length of '\u001b[0m \u001b[0;34m'index'\u001b[0m\u001b[0;34m)\u001b[0m\u001b[0;34m\u001b[0m\u001b[0m\n\u001b[0m\u001b[1;32m   2880\u001b[0m \u001b[0;34m\u001b[0m\u001b[0m\n\u001b[1;32m   2881\u001b[0m     \u001b[0;32mif\u001b[0m \u001b[0misinstance\u001b[0m\u001b[0;34m(\u001b[0m\u001b[0mdata\u001b[0m\u001b[0;34m,\u001b[0m \u001b[0mPeriodIndex\u001b[0m\u001b[0;34m)\u001b[0m\u001b[0;34m:\u001b[0m\u001b[0;34m\u001b[0m\u001b[0m\n",
      "\u001b[0;31mValueError\u001b[0m: Length of values does not match length of index"
     ]
    }
   ],
   "source": [
    "all_probs[\"p1\",\"p2\",\"p3\",\"p4\",\"p5\"] = [y1_pred,y2_pred,y3_pred,y4_pred,y5_pred]\n",
    "all_probs"
   ]
  }
 ],
 "metadata": {
  "kernelspec": {
   "display_name": "Python 2",
   "language": "python",
   "name": "python2"
  },
  "language_info": {
   "codemirror_mode": {
    "name": "ipython",
    "version": 2
   },
   "file_extension": ".py",
   "mimetype": "text/x-python",
   "name": "python",
   "nbconvert_exporter": "python",
   "pygments_lexer": "ipython2",
   "version": "2.7.14"
  }
 },
 "nbformat": 4,
 "nbformat_minor": 2
}
