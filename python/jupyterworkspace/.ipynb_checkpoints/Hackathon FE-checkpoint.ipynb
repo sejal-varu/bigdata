{
 "cells": [
  {
   "cell_type": "code",
   "execution_count": 51,
   "metadata": {
    "collapsed": true
   },
   "outputs": [],
   "source": [
    "import numpy as np \n",
    "import pandas as pd\n",
    "%matplotlib inline\n",
    "import matplotlib.pyplot as plt  \n",
    "import seaborn as sns\n",
    "from scipy import stats\n",
    "#For some Statistics\n",
    "from scipy.stats import norm, skew\n",
    "from sklearn.preprocessing import Imputer\n",
    "from sklearn.preprocessing import LabelEncoder, OneHotEncoder, StandardScaler\n",
    "from sklearn.model_selection import train_test_split\n",
    "from sklearn.linear_model import LogisticRegression\n",
    "from sklearn import metrics\n",
    "from sklearn.tree import DecisionTreeClassifier\n",
    "from imblearn.over_sampling import SMOTE\n",
    "from sklearn.ensemble import RandomForestClassifier\n",
    "from sklearn.ensemble import AdaBoostClassifier"
   ]
  },
  {
   "cell_type": "code",
   "execution_count": 5,
   "metadata": {
    "collapsed": true
   },
   "outputs": [],
   "source": [
    "def load_csv():\n",
    "    path = \"/home/sejal/Documents/datascience/dataset/data/bank-additional/bank-additional-full.csv\"\n",
    "    #return pd.read_csv('/Users/acko068/Desktop/bank-additional/bank-additional-full.csv', sep=';')\n",
    "    return pd.read_csv(path, sep=';')"
   ]
  },
  {
   "cell_type": "code",
   "execution_count": 6,
   "metadata": {
    "collapsed": true
   },
   "outputs": [],
   "source": [
    "def get_train_test(df, test_size=0.2):\n",
    "    y = df.y\n",
    "    X = df.drop('y', axis=1)\n",
    "    return train_test_split(X, y, test_size=test_size, random_state=9)"
   ]
  },
  {
   "cell_type": "code",
   "execution_count": 7,
   "metadata": {
    "collapsed": true
   },
   "outputs": [],
   "source": [
    "df = load_csv()\n",
    "df.head()\n",
    "df.y.replace(('yes','no'),(1,0), inplace=True)"
   ]
  },
  {
   "cell_type": "code",
   "execution_count": 8,
   "metadata": {
    "collapsed": true
   },
   "outputs": [],
   "source": [
    "def get_categorical_features(df):\n",
    "    numeric_feature = [a for a in range(len(df.dtypes)) if df.dtypes[a] in ['int8','int64','float64']]\n",
    "    return df.columns.difference(df.columns[numeric_feature])"
   ]
  },
  {
   "cell_type": "code",
   "execution_count": 9,
   "metadata": {
    "collapsed": true
   },
   "outputs": [],
   "source": [
    "def label_encode(column_list, df):\n",
    "    le = LabelEncoder()\n",
    "    for col in column_list:\n",
    "        df[col] = le.fit_transform(df[col])\n"
   ]
  },
  {
   "cell_type": "code",
   "execution_count": 10,
   "metadata": {
    "collapsed": true
   },
   "outputs": [],
   "source": [
    "def preprocess_data(X):\n",
    "    clist= get_categorical_features(X)\n",
    "    label_encode(clist,X)\n",
    "    X[\"age\"] = pd.qcut(X[\"age\"],4 ,labels=False)\n",
    "    X[\"called_before\"] = np.where(X[\"pdays\"]==999,0,1)\n",
    "    X.drop(\"pdays\",axis=1, inplace=True)\n",
    "    X.drop(\"duration\",axis=1, inplace=True)\n",
    "    X.drop(\"nr.employed\",axis=1, inplace=True)"
   ]
  },
  {
   "cell_type": "code",
   "execution_count": 11,
   "metadata": {
    "collapsed": true
   },
   "outputs": [],
   "source": [
    "X_train, X_test, y_train, y_test = get_train_test(df, 0.1)"
   ]
  },
  {
   "cell_type": "code",
   "execution_count": 12,
   "metadata": {
    "collapsed": true
   },
   "outputs": [],
   "source": [
    "X_train_2, X_test_2, y_train_2, y_test_2 = train_test_split(X_train, y_train, test_size=0.1, random_state=9)"
   ]
  },
  {
   "cell_type": "code",
   "execution_count": 13,
   "metadata": {},
   "outputs": [
    {
     "name": "stderr",
     "output_type": "stream",
     "text": [
      "/home/sejal/anaconda2/lib/python2.7/site-packages/ipykernel_launcher.py:4: SettingWithCopyWarning: \n",
      "A value is trying to be set on a copy of a slice from a DataFrame.\n",
      "Try using .loc[row_indexer,col_indexer] = value instead\n",
      "\n",
      "See the caveats in the documentation: http://pandas.pydata.org/pandas-docs/stable/indexing.html#indexing-view-versus-copy\n",
      "  after removing the cwd from sys.path.\n",
      "/home/sejal/anaconda2/lib/python2.7/site-packages/ipykernel_launcher.py:5: SettingWithCopyWarning: \n",
      "A value is trying to be set on a copy of a slice from a DataFrame.\n",
      "Try using .loc[row_indexer,col_indexer] = value instead\n",
      "\n",
      "See the caveats in the documentation: http://pandas.pydata.org/pandas-docs/stable/indexing.html#indexing-view-versus-copy\n",
      "  \"\"\"\n",
      "/home/sejal/anaconda2/lib/python2.7/site-packages/ipykernel_launcher.py:6: SettingWithCopyWarning: \n",
      "A value is trying to be set on a copy of a slice from a DataFrame\n",
      "\n",
      "See the caveats in the documentation: http://pandas.pydata.org/pandas-docs/stable/indexing.html#indexing-view-versus-copy\n",
      "  \n",
      "/home/sejal/anaconda2/lib/python2.7/site-packages/ipykernel_launcher.py:7: SettingWithCopyWarning: \n",
      "A value is trying to be set on a copy of a slice from a DataFrame\n",
      "\n",
      "See the caveats in the documentation: http://pandas.pydata.org/pandas-docs/stable/indexing.html#indexing-view-versus-copy\n",
      "  import sys\n",
      "/home/sejal/anaconda2/lib/python2.7/site-packages/ipykernel_launcher.py:8: SettingWithCopyWarning: \n",
      "A value is trying to be set on a copy of a slice from a DataFrame\n",
      "\n",
      "See the caveats in the documentation: http://pandas.pydata.org/pandas-docs/stable/indexing.html#indexing-view-versus-copy\n",
      "  \n"
     ]
    }
   ],
   "source": [
    "preprocess_data(X_train_2)"
   ]
  },
  {
   "cell_type": "code",
   "execution_count": 14,
   "metadata": {},
   "outputs": [
    {
     "name": "stderr",
     "output_type": "stream",
     "text": [
      "/home/sejal/anaconda2/lib/python2.7/site-packages/ipykernel_launcher.py:4: SettingWithCopyWarning: \n",
      "A value is trying to be set on a copy of a slice from a DataFrame.\n",
      "Try using .loc[row_indexer,col_indexer] = value instead\n",
      "\n",
      "See the caveats in the documentation: http://pandas.pydata.org/pandas-docs/stable/indexing.html#indexing-view-versus-copy\n",
      "  after removing the cwd from sys.path.\n",
      "/home/sejal/anaconda2/lib/python2.7/site-packages/ipykernel_launcher.py:5: SettingWithCopyWarning: \n",
      "A value is trying to be set on a copy of a slice from a DataFrame.\n",
      "Try using .loc[row_indexer,col_indexer] = value instead\n",
      "\n",
      "See the caveats in the documentation: http://pandas.pydata.org/pandas-docs/stable/indexing.html#indexing-view-versus-copy\n",
      "  \"\"\"\n",
      "/home/sejal/anaconda2/lib/python2.7/site-packages/ipykernel_launcher.py:6: SettingWithCopyWarning: \n",
      "A value is trying to be set on a copy of a slice from a DataFrame\n",
      "\n",
      "See the caveats in the documentation: http://pandas.pydata.org/pandas-docs/stable/indexing.html#indexing-view-versus-copy\n",
      "  \n",
      "/home/sejal/anaconda2/lib/python2.7/site-packages/ipykernel_launcher.py:7: SettingWithCopyWarning: \n",
      "A value is trying to be set on a copy of a slice from a DataFrame\n",
      "\n",
      "See the caveats in the documentation: http://pandas.pydata.org/pandas-docs/stable/indexing.html#indexing-view-versus-copy\n",
      "  import sys\n",
      "/home/sejal/anaconda2/lib/python2.7/site-packages/ipykernel_launcher.py:8: SettingWithCopyWarning: \n",
      "A value is trying to be set on a copy of a slice from a DataFrame\n",
      "\n",
      "See the caveats in the documentation: http://pandas.pydata.org/pandas-docs/stable/indexing.html#indexing-view-versus-copy\n",
      "  \n"
     ]
    }
   ],
   "source": [
    "preprocess_data(X_test_2)"
   ]
  },
  {
   "cell_type": "code",
   "execution_count": 36,
   "metadata": {
    "collapsed": true
   },
   "outputs": [],
   "source": [
    "preprocess_data(X_test)"
   ]
  },
  {
   "cell_type": "code",
   "execution_count": 15,
   "metadata": {
    "collapsed": true
   },
   "outputs": [],
   "source": [
    "sm = SMOTE(random_state=12)\n",
    "x_train_res, y_train_res = sm.fit_sample(X_train_2, y_train_2)"
   ]
  },
  {
   "cell_type": "code",
   "execution_count": 16,
   "metadata": {
    "collapsed": true
   },
   "outputs": [],
   "source": [
    "test_smote = pd.DataFrame(x_train_res, columns = X_test_2.columns.values)"
   ]
  },
  {
   "cell_type": "code",
   "execution_count": 17,
   "metadata": {
    "collapsed": true
   },
   "outputs": [],
   "source": [
    "test_y = pd.Series(y_train_res)"
   ]
  },
  {
   "cell_type": "code",
   "execution_count": 18,
   "metadata": {},
   "outputs": [
    {
     "data": {
      "text/plain": [
       "RandomForestClassifier(bootstrap=True, class_weight=None, criterion='gini',\n",
       "            max_depth=None, max_features='auto', max_leaf_nodes=None,\n",
       "            min_impurity_decrease=0.0, min_impurity_split=None,\n",
       "            min_samples_leaf=1, min_samples_split=2,\n",
       "            min_weight_fraction_leaf=0.0, n_estimators=10, n_jobs=1,\n",
       "            oob_score=False, random_state=None, verbose=0,\n",
       "            warm_start=False)"
      ]
     },
     "execution_count": 18,
     "metadata": {},
     "output_type": "execute_result"
    }
   ],
   "source": [
    "rf = RandomForestClassifier()\n",
    "rf.fit(test_smote, test_y)"
   ]
  },
  {
   "cell_type": "code",
   "execution_count": 19,
   "metadata": {
    "collapsed": true
   },
   "outputs": [],
   "source": [
    "y_pred = rf.predict_proba(X_test_2)[:,1]"
   ]
  },
  {
   "cell_type": "code",
   "execution_count": 20,
   "metadata": {
    "collapsed": true
   },
   "outputs": [],
   "source": [
    "y_pred1 = rf.predict(X_test_2)"
   ]
  },
  {
   "cell_type": "code",
   "execution_count": 21,
   "metadata": {},
   "outputs": [
    {
     "data": {
      "text/plain": [
       "array([0.0738556 , 0.05470008, 0.08255895, 0.05694841, 0.0664758 ,\n",
       "       0.03052944, 0.02524546, 0.06717036, 0.01988542, 0.06085822,\n",
       "       0.07890937, 0.04197644, 0.03347315, 0.02896696, 0.0254223 ,\n",
       "       0.02756182, 0.19229799, 0.03316422])"
      ]
     },
     "execution_count": 21,
     "metadata": {},
     "output_type": "execute_result"
    }
   ],
   "source": [
    "rf.feature_importances_"
   ]
  },
  {
   "cell_type": "code",
   "execution_count": 22,
   "metadata": {},
   "outputs": [
    {
     "data": {
      "text/plain": [
       "0.7363545653735306"
      ]
     },
     "execution_count": 22,
     "metadata": {},
     "output_type": "execute_result"
    }
   ],
   "source": [
    "metrics.roc_auc_score(y_test_2,y_pred)"
   ]
  },
  {
   "cell_type": "code",
   "execution_count": 23,
   "metadata": {},
   "outputs": [
    {
     "data": {
      "text/plain": [
       "0.2807017543859649"
      ]
     },
     "execution_count": 23,
     "metadata": {},
     "output_type": "execute_result"
    }
   ],
   "source": [
    "metrics.recall_score(y_test_2,y_pred1)"
   ]
  },
  {
   "cell_type": "code",
   "execution_count": 27,
   "metadata": {},
   "outputs": [],
   "source": [
    "#Model-1\n",
    "clf_gini = DecisionTreeClassifier(criterion='gini', max_depth=6)\n",
    "clf_gini.fit(X_train_2, y_train_2)\n",
    "\n",
    "y_prediction_gini = clf_gini.predict_proba(X_test_2)[:,1]"
   ]
  },
  {
   "cell_type": "code",
   "execution_count": 28,
   "metadata": {},
   "outputs": [],
   "source": [
    "#Model-2\n",
    "clf_entropy = DecisionTreeClassifier(criterion='entropy', max_depth=6)\n",
    "clf_entropy.fit(X_train_2, y_train_2)\n",
    "\n",
    "y_prediction_entropy = clf_entropy.predict_proba(X_test_2)[:,1]"
   ]
  },
  {
   "cell_type": "code",
   "execution_count": 29,
   "metadata": {
    "collapsed": true
   },
   "outputs": [],
   "source": [
    "#Model-2\n",
    "clf_random = RandomForestClassifier(n_estimators=2, max_depth=3)\n",
    "clf_random.fit(X_train_2, y_train_2)\n",
    "\n",
    "y_prediction_random = clf_random.predict_proba(X_test_2)[:,1]"
   ]
  },
  {
   "cell_type": "code",
   "execution_count": 30,
   "metadata": {},
   "outputs": [
    {
     "data": {
      "text/html": [
       "<div>\n",
       "<style>\n",
       "    .dataframe thead tr:only-child th {\n",
       "        text-align: right;\n",
       "    }\n",
       "\n",
       "    .dataframe thead th {\n",
       "        text-align: left;\n",
       "    }\n",
       "\n",
       "    .dataframe tbody tr th {\n",
       "        vertical-align: top;\n",
       "    }\n",
       "</style>\n",
       "<table border=\"1\" class=\"dataframe\">\n",
       "  <thead>\n",
       "    <tr style=\"text-align: right;\">\n",
       "      <th></th>\n",
       "      <th>p1</th>\n",
       "      <th>p2</th>\n",
       "      <th>p3</th>\n",
       "    </tr>\n",
       "  </thead>\n",
       "  <tbody>\n",
       "    <tr>\n",
       "      <th>0</th>\n",
       "      <td>0.040090</td>\n",
       "      <td>0.040090</td>\n",
       "      <td>0.065073</td>\n",
       "    </tr>\n",
       "    <tr>\n",
       "      <th>1</th>\n",
       "      <td>0.024860</td>\n",
       "      <td>0.024823</td>\n",
       "      <td>0.047121</td>\n",
       "    </tr>\n",
       "    <tr>\n",
       "      <th>2</th>\n",
       "      <td>0.074935</td>\n",
       "      <td>0.052687</td>\n",
       "      <td>0.065073</td>\n",
       "    </tr>\n",
       "    <tr>\n",
       "      <th>3</th>\n",
       "      <td>0.058924</td>\n",
       "      <td>0.058924</td>\n",
       "      <td>0.092660</td>\n",
       "    </tr>\n",
       "    <tr>\n",
       "      <th>4</th>\n",
       "      <td>0.040090</td>\n",
       "      <td>0.040090</td>\n",
       "      <td>0.047121</td>\n",
       "    </tr>\n",
       "    <tr>\n",
       "      <th>5</th>\n",
       "      <td>0.024860</td>\n",
       "      <td>0.024823</td>\n",
       "      <td>0.065073</td>\n",
       "    </tr>\n",
       "    <tr>\n",
       "      <th>6</th>\n",
       "      <td>0.024860</td>\n",
       "      <td>0.024823</td>\n",
       "      <td>0.065073</td>\n",
       "    </tr>\n",
       "    <tr>\n",
       "      <th>7</th>\n",
       "      <td>0.024860</td>\n",
       "      <td>0.024823</td>\n",
       "      <td>0.065073</td>\n",
       "    </tr>\n",
       "    <tr>\n",
       "      <th>8</th>\n",
       "      <td>0.047636</td>\n",
       "      <td>0.052687</td>\n",
       "      <td>0.065073</td>\n",
       "    </tr>\n",
       "    <tr>\n",
       "      <th>9</th>\n",
       "      <td>0.290954</td>\n",
       "      <td>0.290954</td>\n",
       "      <td>0.437983</td>\n",
       "    </tr>\n",
       "    <tr>\n",
       "      <th>10</th>\n",
       "      <td>0.673469</td>\n",
       "      <td>0.797189</td>\n",
       "      <td>0.572193</td>\n",
       "    </tr>\n",
       "    <tr>\n",
       "      <th>11</th>\n",
       "      <td>0.040090</td>\n",
       "      <td>0.040090</td>\n",
       "      <td>0.065073</td>\n",
       "    </tr>\n",
       "    <tr>\n",
       "      <th>12</th>\n",
       "      <td>0.058924</td>\n",
       "      <td>0.058924</td>\n",
       "      <td>0.110612</td>\n",
       "    </tr>\n",
       "    <tr>\n",
       "      <th>13</th>\n",
       "      <td>0.058924</td>\n",
       "      <td>0.058924</td>\n",
       "      <td>0.110612</td>\n",
       "    </tr>\n",
       "    <tr>\n",
       "      <th>14</th>\n",
       "      <td>0.040090</td>\n",
       "      <td>0.040090</td>\n",
       "      <td>0.047121</td>\n",
       "    </tr>\n",
       "    <tr>\n",
       "      <th>15</th>\n",
       "      <td>0.325260</td>\n",
       "      <td>0.334566</td>\n",
       "      <td>0.110612</td>\n",
       "    </tr>\n",
       "    <tr>\n",
       "      <th>16</th>\n",
       "      <td>0.047636</td>\n",
       "      <td>0.052687</td>\n",
       "      <td>0.065073</td>\n",
       "    </tr>\n",
       "    <tr>\n",
       "      <th>17</th>\n",
       "      <td>0.109398</td>\n",
       "      <td>0.167224</td>\n",
       "      <td>0.110612</td>\n",
       "    </tr>\n",
       "    <tr>\n",
       "      <th>18</th>\n",
       "      <td>0.047636</td>\n",
       "      <td>0.000000</td>\n",
       "      <td>0.065073</td>\n",
       "    </tr>\n",
       "    <tr>\n",
       "      <th>19</th>\n",
       "      <td>0.106112</td>\n",
       "      <td>0.106112</td>\n",
       "      <td>0.110612</td>\n",
       "    </tr>\n",
       "    <tr>\n",
       "      <th>20</th>\n",
       "      <td>0.040090</td>\n",
       "      <td>0.040090</td>\n",
       "      <td>0.065073</td>\n",
       "    </tr>\n",
       "    <tr>\n",
       "      <th>21</th>\n",
       "      <td>0.040090</td>\n",
       "      <td>0.040090</td>\n",
       "      <td>0.047121</td>\n",
       "    </tr>\n",
       "    <tr>\n",
       "      <th>22</th>\n",
       "      <td>0.040090</td>\n",
       "      <td>0.040090</td>\n",
       "      <td>0.065073</td>\n",
       "    </tr>\n",
       "    <tr>\n",
       "      <th>23</th>\n",
       "      <td>0.109398</td>\n",
       "      <td>0.167224</td>\n",
       "      <td>0.110612</td>\n",
       "    </tr>\n",
       "    <tr>\n",
       "      <th>24</th>\n",
       "      <td>0.060787</td>\n",
       "      <td>0.066533</td>\n",
       "      <td>0.047121</td>\n",
       "    </tr>\n",
       "    <tr>\n",
       "      <th>25</th>\n",
       "      <td>0.074935</td>\n",
       "      <td>0.052687</td>\n",
       "      <td>0.047121</td>\n",
       "    </tr>\n",
       "    <tr>\n",
       "      <th>26</th>\n",
       "      <td>0.060787</td>\n",
       "      <td>0.066533</td>\n",
       "      <td>0.065073</td>\n",
       "    </tr>\n",
       "    <tr>\n",
       "      <th>27</th>\n",
       "      <td>0.024860</td>\n",
       "      <td>0.024823</td>\n",
       "      <td>0.065073</td>\n",
       "    </tr>\n",
       "    <tr>\n",
       "      <th>28</th>\n",
       "      <td>0.058924</td>\n",
       "      <td>0.058924</td>\n",
       "      <td>0.110612</td>\n",
       "    </tr>\n",
       "    <tr>\n",
       "      <th>29</th>\n",
       "      <td>0.074935</td>\n",
       "      <td>0.052687</td>\n",
       "      <td>0.065073</td>\n",
       "    </tr>\n",
       "    <tr>\n",
       "      <th>...</th>\n",
       "      <td>...</td>\n",
       "      <td>...</td>\n",
       "      <td>...</td>\n",
       "    </tr>\n",
       "    <tr>\n",
       "      <th>3677</th>\n",
       "      <td>0.040090</td>\n",
       "      <td>0.040090</td>\n",
       "      <td>0.047121</td>\n",
       "    </tr>\n",
       "    <tr>\n",
       "      <th>3678</th>\n",
       "      <td>0.024860</td>\n",
       "      <td>0.024823</td>\n",
       "      <td>0.065073</td>\n",
       "    </tr>\n",
       "    <tr>\n",
       "      <th>3679</th>\n",
       "      <td>0.088050</td>\n",
       "      <td>0.088050</td>\n",
       "      <td>0.385518</td>\n",
       "    </tr>\n",
       "    <tr>\n",
       "      <th>3680</th>\n",
       "      <td>0.058924</td>\n",
       "      <td>0.058924</td>\n",
       "      <td>0.110612</td>\n",
       "    </tr>\n",
       "    <tr>\n",
       "      <th>3681</th>\n",
       "      <td>0.047636</td>\n",
       "      <td>0.052687</td>\n",
       "      <td>0.065073</td>\n",
       "    </tr>\n",
       "    <tr>\n",
       "      <th>3682</th>\n",
       "      <td>0.106112</td>\n",
       "      <td>0.106112</td>\n",
       "      <td>0.110612</td>\n",
       "    </tr>\n",
       "    <tr>\n",
       "      <th>3683</th>\n",
       "      <td>0.047636</td>\n",
       "      <td>0.052687</td>\n",
       "      <td>0.065073</td>\n",
       "    </tr>\n",
       "    <tr>\n",
       "      <th>3684</th>\n",
       "      <td>0.479730</td>\n",
       "      <td>0.561905</td>\n",
       "      <td>0.531658</td>\n",
       "    </tr>\n",
       "    <tr>\n",
       "      <th>3685</th>\n",
       "      <td>0.325260</td>\n",
       "      <td>0.334566</td>\n",
       "      <td>0.292853</td>\n",
       "    </tr>\n",
       "    <tr>\n",
       "      <th>3686</th>\n",
       "      <td>0.060787</td>\n",
       "      <td>0.066533</td>\n",
       "      <td>0.047121</td>\n",
       "    </tr>\n",
       "    <tr>\n",
       "      <th>3687</th>\n",
       "      <td>0.732240</td>\n",
       "      <td>0.588235</td>\n",
       "      <td>0.572193</td>\n",
       "    </tr>\n",
       "    <tr>\n",
       "      <th>3688</th>\n",
       "      <td>0.215385</td>\n",
       "      <td>0.309392</td>\n",
       "      <td>0.531658</td>\n",
       "    </tr>\n",
       "    <tr>\n",
       "      <th>3689</th>\n",
       "      <td>0.058924</td>\n",
       "      <td>0.058924</td>\n",
       "      <td>0.110612</td>\n",
       "    </tr>\n",
       "    <tr>\n",
       "      <th>3690</th>\n",
       "      <td>0.024860</td>\n",
       "      <td>0.024823</td>\n",
       "      <td>0.065073</td>\n",
       "    </tr>\n",
       "    <tr>\n",
       "      <th>3691</th>\n",
       "      <td>0.060787</td>\n",
       "      <td>0.066533</td>\n",
       "      <td>0.065073</td>\n",
       "    </tr>\n",
       "    <tr>\n",
       "      <th>3692</th>\n",
       "      <td>0.060787</td>\n",
       "      <td>0.066533</td>\n",
       "      <td>0.065073</td>\n",
       "    </tr>\n",
       "    <tr>\n",
       "      <th>3693</th>\n",
       "      <td>0.047636</td>\n",
       "      <td>0.052687</td>\n",
       "      <td>0.065073</td>\n",
       "    </tr>\n",
       "    <tr>\n",
       "      <th>3694</th>\n",
       "      <td>0.305085</td>\n",
       "      <td>0.305085</td>\n",
       "      <td>0.362149</td>\n",
       "    </tr>\n",
       "    <tr>\n",
       "      <th>3695</th>\n",
       "      <td>0.058924</td>\n",
       "      <td>0.058924</td>\n",
       "      <td>0.092660</td>\n",
       "    </tr>\n",
       "    <tr>\n",
       "      <th>3696</th>\n",
       "      <td>0.109398</td>\n",
       "      <td>0.064560</td>\n",
       "      <td>0.110612</td>\n",
       "    </tr>\n",
       "    <tr>\n",
       "      <th>3697</th>\n",
       "      <td>0.106112</td>\n",
       "      <td>0.106112</td>\n",
       "      <td>0.092660</td>\n",
       "    </tr>\n",
       "    <tr>\n",
       "      <th>3698</th>\n",
       "      <td>0.106112</td>\n",
       "      <td>0.106112</td>\n",
       "      <td>0.110612</td>\n",
       "    </tr>\n",
       "    <tr>\n",
       "      <th>3699</th>\n",
       "      <td>0.040090</td>\n",
       "      <td>0.040090</td>\n",
       "      <td>0.065073</td>\n",
       "    </tr>\n",
       "    <tr>\n",
       "      <th>3700</th>\n",
       "      <td>0.503030</td>\n",
       "      <td>0.503030</td>\n",
       "      <td>0.292853</td>\n",
       "    </tr>\n",
       "    <tr>\n",
       "      <th>3701</th>\n",
       "      <td>0.088050</td>\n",
       "      <td>0.088050</td>\n",
       "      <td>0.385518</td>\n",
       "    </tr>\n",
       "    <tr>\n",
       "      <th>3702</th>\n",
       "      <td>0.290954</td>\n",
       "      <td>0.290954</td>\n",
       "      <td>0.362149</td>\n",
       "    </tr>\n",
       "    <tr>\n",
       "      <th>3703</th>\n",
       "      <td>0.074935</td>\n",
       "      <td>0.052687</td>\n",
       "      <td>0.065073</td>\n",
       "    </tr>\n",
       "    <tr>\n",
       "      <th>3704</th>\n",
       "      <td>0.040090</td>\n",
       "      <td>0.040090</td>\n",
       "      <td>0.065073</td>\n",
       "    </tr>\n",
       "    <tr>\n",
       "      <th>3705</th>\n",
       "      <td>0.040090</td>\n",
       "      <td>0.040090</td>\n",
       "      <td>0.065073</td>\n",
       "    </tr>\n",
       "    <tr>\n",
       "      <th>3706</th>\n",
       "      <td>0.111111</td>\n",
       "      <td>0.066533</td>\n",
       "      <td>0.065073</td>\n",
       "    </tr>\n",
       "  </tbody>\n",
       "</table>\n",
       "<p>3707 rows × 3 columns</p>\n",
       "</div>"
      ],
      "text/plain": [
       "            p1        p2        p3\n",
       "0     0.040090  0.040090  0.065073\n",
       "1     0.024860  0.024823  0.047121\n",
       "2     0.074935  0.052687  0.065073\n",
       "3     0.058924  0.058924  0.092660\n",
       "4     0.040090  0.040090  0.047121\n",
       "5     0.024860  0.024823  0.065073\n",
       "6     0.024860  0.024823  0.065073\n",
       "7     0.024860  0.024823  0.065073\n",
       "8     0.047636  0.052687  0.065073\n",
       "9     0.290954  0.290954  0.437983\n",
       "10    0.673469  0.797189  0.572193\n",
       "11    0.040090  0.040090  0.065073\n",
       "12    0.058924  0.058924  0.110612\n",
       "13    0.058924  0.058924  0.110612\n",
       "14    0.040090  0.040090  0.047121\n",
       "15    0.325260  0.334566  0.110612\n",
       "16    0.047636  0.052687  0.065073\n",
       "17    0.109398  0.167224  0.110612\n",
       "18    0.047636  0.000000  0.065073\n",
       "19    0.106112  0.106112  0.110612\n",
       "20    0.040090  0.040090  0.065073\n",
       "21    0.040090  0.040090  0.047121\n",
       "22    0.040090  0.040090  0.065073\n",
       "23    0.109398  0.167224  0.110612\n",
       "24    0.060787  0.066533  0.047121\n",
       "25    0.074935  0.052687  0.047121\n",
       "26    0.060787  0.066533  0.065073\n",
       "27    0.024860  0.024823  0.065073\n",
       "28    0.058924  0.058924  0.110612\n",
       "29    0.074935  0.052687  0.065073\n",
       "...        ...       ...       ...\n",
       "3677  0.040090  0.040090  0.047121\n",
       "3678  0.024860  0.024823  0.065073\n",
       "3679  0.088050  0.088050  0.385518\n",
       "3680  0.058924  0.058924  0.110612\n",
       "3681  0.047636  0.052687  0.065073\n",
       "3682  0.106112  0.106112  0.110612\n",
       "3683  0.047636  0.052687  0.065073\n",
       "3684  0.479730  0.561905  0.531658\n",
       "3685  0.325260  0.334566  0.292853\n",
       "3686  0.060787  0.066533  0.047121\n",
       "3687  0.732240  0.588235  0.572193\n",
       "3688  0.215385  0.309392  0.531658\n",
       "3689  0.058924  0.058924  0.110612\n",
       "3690  0.024860  0.024823  0.065073\n",
       "3691  0.060787  0.066533  0.065073\n",
       "3692  0.060787  0.066533  0.065073\n",
       "3693  0.047636  0.052687  0.065073\n",
       "3694  0.305085  0.305085  0.362149\n",
       "3695  0.058924  0.058924  0.092660\n",
       "3696  0.109398  0.064560  0.110612\n",
       "3697  0.106112  0.106112  0.092660\n",
       "3698  0.106112  0.106112  0.110612\n",
       "3699  0.040090  0.040090  0.065073\n",
       "3700  0.503030  0.503030  0.292853\n",
       "3701  0.088050  0.088050  0.385518\n",
       "3702  0.290954  0.290954  0.362149\n",
       "3703  0.074935  0.052687  0.065073\n",
       "3704  0.040090  0.040090  0.065073\n",
       "3705  0.040090  0.040090  0.065073\n",
       "3706  0.111111  0.066533  0.065073\n",
       "\n",
       "[3707 rows x 3 columns]"
      ]
     },
     "execution_count": 30,
     "metadata": {},
     "output_type": "execute_result"
    }
   ],
   "source": [
    "all_probs = pd.DataFrame(list(zip(y_prediction_gini, y_prediction_entropy, y_prediction_random)), columns=['p1','p2','p3'])\n",
    "all_probs"
   ]
  },
  {
   "cell_type": "code",
   "execution_count": 52,
   "metadata": {},
   "outputs": [
    {
     "data": {
      "text/plain": [
       "AdaBoostClassifier(algorithm='SAMME.R',\n",
       "          base_estimator=RandomForestClassifier(bootstrap=True, class_weight=None, criterion='gini',\n",
       "            max_depth=None, max_features='auto', max_leaf_nodes=None,\n",
       "            min_impurity_decrease=0.0, min_impurity_split=None,\n",
       "            min_samples_leaf=1, min_samples_split=2,\n",
       "            min_weight_fraction_leaf=0.0, n_estimators=10, n_jobs=1,\n",
       "            oob_score=False, random_state=3, verbose=0, warm_start=False),\n",
       "          learning_rate=1.0, n_estimators=50, random_state=None)"
      ]
     },
     "execution_count": 52,
     "metadata": {},
     "output_type": "execute_result"
    }
   ],
   "source": [
    "meta_classifier =  RandomForestClassifier(n_estimators= 10, random_state=3)\n",
    "meta_classifier.fit(all_probs, y_test_2)\n",
    "#meta_prob = rf.predict(X_test1)\n",
    "#print meta_prob"
   ]
  },
  {
   "cell_type": "code",
   "execution_count": 54,
   "metadata": {},
   "outputs": [],
   "source": [
    "result_Pred1 = clf_gini.predict_proba(X_test)\n",
    "result_Pred2 = clf_entropy.predict_proba(X_test)\n",
    "result_Pred3 = clf_random.predict_proba(X_test)"
   ]
  },
  {
   "cell_type": "code",
   "execution_count": 55,
   "metadata": {},
   "outputs": [
    {
     "data": {
      "text/html": [
       "<div>\n",
       "<style>\n",
       "    .dataframe thead tr:only-child th {\n",
       "        text-align: right;\n",
       "    }\n",
       "\n",
       "    .dataframe thead th {\n",
       "        text-align: left;\n",
       "    }\n",
       "\n",
       "    .dataframe tbody tr th {\n",
       "        vertical-align: top;\n",
       "    }\n",
       "</style>\n",
       "<table border=\"1\" class=\"dataframe\">\n",
       "  <thead>\n",
       "    <tr style=\"text-align: right;\">\n",
       "      <th></th>\n",
       "      <th>0</th>\n",
       "      <th>0</th>\n",
       "      <th>0</th>\n",
       "    </tr>\n",
       "  </thead>\n",
       "  <tbody>\n",
       "    <tr>\n",
       "      <th>0</th>\n",
       "      <td>0.106112</td>\n",
       "      <td>0.106112</td>\n",
       "      <td>0.110612</td>\n",
       "    </tr>\n",
       "    <tr>\n",
       "      <th>1</th>\n",
       "      <td>0.290954</td>\n",
       "      <td>0.290954</td>\n",
       "      <td>0.362149</td>\n",
       "    </tr>\n",
       "    <tr>\n",
       "      <th>2</th>\n",
       "      <td>0.503030</td>\n",
       "      <td>0.503030</td>\n",
       "      <td>0.292853</td>\n",
       "    </tr>\n",
       "    <tr>\n",
       "      <th>3</th>\n",
       "      <td>0.060787</td>\n",
       "      <td>0.066533</td>\n",
       "      <td>0.065073</td>\n",
       "    </tr>\n",
       "    <tr>\n",
       "      <th>4</th>\n",
       "      <td>0.109398</td>\n",
       "      <td>0.167224</td>\n",
       "      <td>0.110612</td>\n",
       "    </tr>\n",
       "  </tbody>\n",
       "</table>\n",
       "</div>"
      ],
      "text/plain": [
       "          0         0         0\n",
       "0  0.106112  0.106112  0.110612\n",
       "1  0.290954  0.290954  0.362149\n",
       "2  0.503030  0.503030  0.292853\n",
       "3  0.060787  0.066533  0.065073\n",
       "4  0.109398  0.167224  0.110612"
      ]
     },
     "execution_count": 55,
     "metadata": {},
     "output_type": "execute_result"
    }
   ],
   "source": [
    "meta_data = pd.concat([pd.DataFrame(result_Pred1[:,1]), pd.DataFrame(result_Pred2[:,1]), pd.DataFrame(result_Pred3[:,1])], axis=1)\n",
    "meta_data.head()"
   ]
  },
  {
   "cell_type": "code",
   "execution_count": 56,
   "metadata": {
    "collapsed": true
   },
   "outputs": [],
   "source": [
    "meta_predict =  meta_classifier.predict_proba(meta_data)"
   ]
  },
  {
   "cell_type": "code",
   "execution_count": 57,
   "metadata": {},
   "outputs": [
    {
     "data": {
      "text/plain": [
       "0.7285778601568074"
      ]
     },
     "execution_count": 57,
     "metadata": {},
     "output_type": "execute_result"
    }
   ],
   "source": [
    "metrics.roc_auc_score(y_test, meta_predict[:,1])"
   ]
  },
  {
   "cell_type": "code",
   "execution_count": 50,
   "metadata": {},
   "outputs": [
    {
     "data": {
      "text/plain": [
       "0.29605263157894735"
      ]
     },
     "execution_count": 50,
     "metadata": {},
     "output_type": "execute_result"
    }
   ],
   "source": [
    "meta_predict1 =   meta_classifier.predict(meta_data)\n",
    "metrics.recall_score(y_test, meta_predict1)"
   ]
  }
 ],
 "metadata": {
  "kernelspec": {
   "display_name": "Python 2",
   "language": "python",
   "name": "python2"
  },
  "language_info": {
   "codemirror_mode": {
    "name": "ipython",
    "version": 2
   },
   "file_extension": ".py",
   "mimetype": "text/x-python",
   "name": "python",
   "nbconvert_exporter": "python",
   "pygments_lexer": "ipython2",
   "version": "2.7.14"
  }
 },
 "nbformat": 4,
 "nbformat_minor": 2
}
