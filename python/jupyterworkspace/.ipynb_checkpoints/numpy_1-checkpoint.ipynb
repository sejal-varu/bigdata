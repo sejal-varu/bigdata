{
 "cells": [
  {
   "cell_type": "code",
   "execution_count": 5,
   "metadata": {
    "collapsed": true
   },
   "outputs": [],
   "source": [
    "marks = (7,8,9,9,2,1,1,5,4,5)"
   ]
  },
  {
   "cell_type": "code",
   "execution_count": 6,
   "metadata": {
    "collapsed": true
   },
   "outputs": [],
   "source": [
    "import numpy as np"
   ]
  },
  {
   "cell_type": "code",
   "execution_count": 12,
   "metadata": {},
   "outputs": [
    {
     "name": "stdout",
     "output_type": "stream",
     "text": [
      "[7 8 9 9 2 1 1 5 4 5]\n",
      "<type 'numpy.ndarray'>\n",
      "1\n",
      "(10,)\n",
      "int64\n"
     ]
    }
   ],
   "source": [
    "#ID numpy array\n",
    "n1 = np.array(marks)\n",
    "print n1\n",
    "print type(n1)\n",
    "print n1.ndim  # one dimension\n",
    "print n1.shape # is a tuple\n",
    "print n1.dtype #data type"
   ]
  },
  {
   "cell_type": "code",
   "execution_count": 15,
   "metadata": {},
   "outputs": [
    {
     "name": "stdout",
     "output_type": "stream",
     "text": [
      "[7 8 9 9 2 1 1 5 4 5]\n",
      "<type 'numpy.ndarray'>\n",
      "1\n",
      "(10,)\n",
      "int16\n"
     ]
    }
   ],
   "source": [
    "#ID numpy array\n",
    "n1 = np.array(marks, dtype =np.int16) #adds data type as int16\n",
    "print n1\n",
    "print type(n1)\n",
    "print n1.ndim  # one dimension\n",
    "print n1.shape # is a tuple\n",
    "print n1.dtype #data type"
   ]
  },
  {
   "cell_type": "code",
   "execution_count": 18,
   "metadata": {},
   "outputs": [
    {
     "name": "stdout",
     "output_type": "stream",
     "text": [
      "[ 8  9 10 10  3  2  2  6  5  6]\n",
      "<type 'numpy.ndarray'>\n",
      "[49 64 81 81  4  1  1 25 16 25]\n",
      "[24 32 40 40  2  0  0 12  8 12]\n"
     ]
    }
   ],
   "source": [
    "# vectorized computation\n",
    "corrected_marks = n1 + 1 # Easily add 1 to all elements of array\n",
    "print corrected_marks\n",
    "print type(corrected_marks)\n",
    "\n",
    "\n",
    "sq = n1 ** 2\n",
    "print sq\n",
    "print sq / 2"
   ]
  },
  {
   "cell_type": "code",
   "execution_count": 27,
   "metadata": {},
   "outputs": [
    {
     "name": "stdout",
     "output_type": "stream",
     "text": [
      "[7 8 9 9 2 1 1 5 4 5]\n",
      "7\n",
      "8\n",
      "5\n",
      "[7 9]\n",
      "[1 2 5 1]\n",
      "<type 'numpy.ndarray'>\n",
      "[7 5 4]\n"
     ]
    }
   ],
   "source": [
    "# Indexing\n",
    "print n1\n",
    "print n1[0]\n",
    "print n1[1]\n",
    "print n1[-1]\n",
    "\n",
    "\n",
    "print n1[[0,2]]\n",
    "print n1[[5,4, -1, -5]] # return data from multiple indexes\n",
    "na = n1 [[0, -1, -2]]\n",
    "print type(na)\n",
    "print na\n"
   ]
  },
  {
   "cell_type": "code",
   "execution_count": 33,
   "metadata": {},
   "outputs": [
    {
     "name": "stdout",
     "output_type": "stream",
     "text": [
      "[7 8 9 9 2 1 1 5 4 5]\n",
      "[7 8 9]\n",
      "<type 'numpy.ndarray'>\n",
      "[5 4 5]\n"
     ]
    }
   ],
   "source": [
    "# Slicing\n",
    "print n1\n",
    "first_three = n1[:3]\n",
    "print first_three\n",
    "print type(first_three)\n",
    "\n",
    "print n1[-3 :]"
   ]
  },
  {
   "cell_type": "code",
   "execution_count": 39,
   "metadata": {},
   "outputs": [
    {
     "name": "stdout",
     "output_type": "stream",
     "text": [
      "[7 8 9 9 2 1 1 5 4 5]\n",
      "[ True  True  True  True False False False False False False]\n",
      "[7 8 9 9]\n"
     ]
    }
   ],
   "source": [
    "# Filtering\n",
    "print n1\n",
    "\n",
    "# marks greater than 5\n",
    "greater_than_5 = n1 > 5\n",
    "print greater_than_5\n",
    "\n",
    "greater_than_5 = n1[n1 > 5]\n",
    "print greater_than_5\n"
   ]
  },
  {
   "cell_type": "code",
   "execution_count": 43,
   "metadata": {},
   "outputs": [
    {
     "name": "stdout",
     "output_type": "stream",
     "text": [
      "[7 8 9 9 2 4]\n"
     ]
    }
   ],
   "source": [
    "evens = n1[(n1 % 2 == 0) | (n1 > 5)] # get evens OR no > 5\n",
    "print evens"
   ]
  },
  {
   "cell_type": "code",
   "execution_count": 48,
   "metadata": {},
   "outputs": [
    {
     "name": "stdout",
     "output_type": "stream",
     "text": [
      "[10  4  5  6  2  2  3 10 10]\n",
      "<type 'numpy.ndarray'>\n",
      "[9 4 5 6 2 2 3 9 9]\n"
     ]
    }
   ],
   "source": [
    "n2 = [10, 4, 5, 6, 2, 2, 3, 10, 10]\n",
    "n2 = np.array(n2 , dtype = np.int16)\n",
    "\n",
    "print n2\n",
    "print type(n2)\n",
    "#multiple indexing + assignment\n",
    "n2[[0, -1 ,-2]] = 9 # DO -1 from all 10's\n",
    "\n",
    "n2[[0, -1 ,-2]] = 10\n",
    "\n",
    "#filtering + assignment\n",
    "n2[n2 == 10] = 9 \n",
    "print n2\n"
   ]
  },
  {
   "cell_type": "code",
   "execution_count": 52,
   "metadata": {},
   "outputs": [
    {
     "name": "stdout",
     "output_type": "stream",
     "text": [
      "[7 8 9 9 2 1 1 5 4 5]\n",
      "[1 1 1 1 0 0 0 1 0 1]\n",
      "['abc' 'abc' 'abc' 'abc' 'dumb' 'dumb' 'dumb' 'abc' 'dumb' 'abc']\n"
     ]
    }
   ],
   "source": [
    "print n1\n",
    "\n",
    "n3 = np.where(n1 >= 5, 1, 0)\n",
    "print n3\n",
    "\n",
    "n4 = np.where(n1 >=5 , 'abc', 'dumb')\n",
    "print n4"
   ]
  },
  {
   "cell_type": "code",
   "execution_count": 61,
   "metadata": {},
   "outputs": [
    {
     "name": "stdout",
     "output_type": "stream",
     "text": [
      "[7 8 9 9 2 1 1 5 4 5]\n",
      "51\n",
      "5.1\n",
      "9\n",
      "1\n",
      "5.0\n",
      "2.9478805946\n",
      "8.69\n"
     ]
    }
   ],
   "source": [
    "# Aggregations \n",
    "\n",
    "print n1\n",
    "print n1.sum()\n",
    "print n1.mean() # mean\n",
    "print n1.max()\n",
    "print n1.min()\n",
    "print np.median(n1) # median\n",
    "print np.std(n1) # standard deviation\n",
    "print np.var(n1) # variance\n"
   ]
  },
  {
   "cell_type": "code",
   "execution_count": 79,
   "metadata": {},
   "outputs": [
    {
     "name": "stdout",
     "output_type": "stream",
     "text": [
      "[7 8 9 9 2 1 1 5 4 5]\n",
      "[ 7 15 24 33 35 36 37 42 46 51]\n",
      "[1 2 4 5 7 8 9]\n",
      "<type 'numpy.ndarray'>\n",
      "(array([1, 2, 4, 5, 7, 8, 9], dtype=int16), array([2, 1, 1, 2, 1, 1, 2]))\n",
      "[1 2 4 5 7 8 9]\n",
      "1  :  2\n",
      "2  :  1\n",
      "4  :  1\n",
      "5  :  2\n",
      "7  :  1\n",
      "8  :  1\n",
      "9  :  2\n"
     ]
    }
   ],
   "source": [
    "print n1\n",
    "print n1.cumsum()\n",
    "uu = np.unique(n1) # get unique\n",
    "print uu\n",
    "print type(uu) \n",
    "\n",
    "\n",
    "\n",
    "# count how many times marks is repeated\n",
    "marks_count = np.unique(n1, return_counts=True)\n",
    "print marks_count\n",
    "\n",
    "print marks_count[0]\n",
    "\n",
    "# print elemets with its respective occurence counts\n",
    "element , counts = marks_count\n",
    "i = 0\n",
    "while i < len(element):\n",
    "    print element[i], ' : ', counts[i]\n",
    "    i = i + 1"
   ]
  },
  {
   "cell_type": "code",
   "execution_count": 83,
   "metadata": {},
   "outputs": [
    {
     "name": "stdout",
     "output_type": "stream",
     "text": [
      "[(1, 2), (2, 1), (4, 1), (5, 2), (7, 1), (8, 1), (9, 2)]\n",
      "1  :  2\n",
      "2  :  1\n",
      "4  :  1\n",
      "5  :  2\n",
      "7  :  1\n",
      "8  :  1\n",
      "9  :  2\n"
     ]
    }
   ],
   "source": [
    "marks_freq = zip(element, counts)\n",
    "print marks_freq\n",
    "\n",
    "\n",
    "\n",
    "for element in marks_freq:\n",
    "    print element[0], ' : ', element[1]"
   ]
  }
 ],
 "metadata": {
  "kernelspec": {
   "display_name": "Python 2",
   "language": "python",
   "name": "python2"
  },
  "language_info": {
   "codemirror_mode": {
    "name": "ipython",
    "version": 2
   },
   "file_extension": ".py",
   "mimetype": "text/x-python",
   "name": "python",
   "nbconvert_exporter": "python",
   "pygments_lexer": "ipython2",
   "version": "2.7.14"
  }
 },
 "nbformat": 4,
 "nbformat_minor": 2
}
