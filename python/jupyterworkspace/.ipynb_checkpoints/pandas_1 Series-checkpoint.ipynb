{
 "cells": [
  {
   "cell_type": "code",
   "execution_count": 89,
   "metadata": {
    "collapsed": true
   },
   "outputs": [],
   "source": [
    "import pandas as pd #Industry specific alias is pd\n",
    "import numpy as np\n",
    "#If you have One-dim data structures, then use \"Series\" as data structure\n",
    "# Series is a class in pandas module, call series class to have series module.\n",
    "from pandas import Series\n",
    "\n",
    "import matplotlib.pyplot as plt #for plotting"
   ]
  },
  {
   "cell_type": "code",
   "execution_count": 15,
   "metadata": {},
   "outputs": [
    {
     "name": "stdout",
     "output_type": "stream",
     "text": [
      "0    10\n",
      "1    10\n",
      "2     4\n",
      "3     5\n",
      "4     1\n",
      "5     2\n",
      "6     2\n",
      "7     3\n",
      "8     3\n",
      "9    10\n",
      "dtype: int8\n",
      "<class 'pandas.core.series.Series'>\n",
      "[10 10  4  5  1  2  2  3  3 10]\n",
      "<type 'numpy.ndarray'>\n",
      "RangeIndex(start=0, stop=10, step=1)\n",
      "<class 'pandas.core.indexes.range.RangeIndex'>\n",
      "0\n",
      "1\n",
      "2\n",
      "3\n",
      "4\n",
      "5\n",
      "6\n",
      "7\n",
      "8\n",
      "9\n",
      "int8\n"
     ]
    }
   ],
   "source": [
    "pointers = [10, 10, 4, 5, 1, 2, 2, 3, 3, 10]\n",
    "\n",
    "#load in panda series\n",
    "s1 = Series(pointers, dtype=np.int8) # can pass dtype as we pass for numpy array, its optional\n",
    "print s1\n",
    "# prints index and values, values is tightly associated or bound  with index, index can be string or any datatype, index can be duplicate as well\n",
    "print type(s1) \n",
    "\n",
    "v = s1.values\n",
    "print v #prints only values on series\n",
    "print type(v) #its a numpy array\n",
    "\n",
    "i = s1.index\n",
    "print i #gives indexs of series\n",
    "print type(i) #its a python range\n",
    "\n",
    "for ii in i:\n",
    "    print ii #Yes, we can loop over indexes\n",
    "\n",
    "print s1.dtype # yes, its nunmpy array with dtype as int64\n",
    "\n"
   ]
  },
  {
   "cell_type": "code",
   "execution_count": 19,
   "metadata": {},
   "outputs": [
    {
     "name": "stdout",
     "output_type": "stream",
     "text": [
      "[10, 10, 4, 5, 1, 2, 2, 3, 3, 10]\n",
      "Roll No\n",
      "1     10\n",
      "4     10\n",
      "5      4\n",
      "2      5\n",
      "3      1\n",
      "10     2\n",
      "9      2\n",
      "8      3\n",
      "6      3\n",
      "11    10\n",
      "Name: Pointers out of 10, dtype: int64\n"
     ]
    }
   ],
   "source": [
    "print pointers\n",
    "roll_no =  [1, 4, 5, 2, 3, 10, 9, 8, 6, 11]\n",
    "\n",
    "#dont want default index I'll assign my own indexes\n",
    "s2 = Series(pointers, index=roll_no)\n",
    "s2.index.name = 'Roll No' #Assign title to indexes for easy reading\n",
    "s2.name = 'Pointers out of 10' #Give a name to series to represent in output\n",
    "print s2\n",
    "\n"
   ]
  },
  {
   "cell_type": "markdown",
   "metadata": {},
   "source": [
    "index in series can be duplicate. Its like a key in a dict data structure but may not be unique like key.\n",
    "In pandas every value is tightly bound to its index.\n",
    "Index in pandas can be any data type"
   ]
  },
  {
   "cell_type": "code",
   "execution_count": 30,
   "metadata": {},
   "outputs": [
    {
     "name": "stdout",
     "output_type": "stream",
     "text": [
      "1     10\n",
      "2      5\n",
      "4      6\n",
      "7     10\n",
      "10     3\n",
      "dtype: int8\n"
     ]
    }
   ],
   "source": [
    "marks = {10:3, 1:10, 2:5, 4:6, 7:10} # a dict like rollno:marks\n",
    "s3 = Series(marks, dtype=np.int8) \n",
    "# Smart enough to understand data structure as index:value. pandas unserstands pythons data structure\n",
    "\n",
    "\n",
    "\n",
    "print s3"
   ]
  },
  {
   "cell_type": "code",
   "execution_count": 31,
   "metadata": {},
   "outputs": [
    {
     "name": "stdout",
     "output_type": "stream",
     "text": [
      "10     3\n",
      "7     10\n",
      "4      6\n",
      "2      5\n",
      "1     10\n",
      "dtype: int8\n",
      "<class 'pandas.core.series.Series'>\n"
     ]
    }
   ],
   "source": [
    "#Always keeps index sorted in ascending order (at least foe numeric values)\n",
    "\n",
    "#let;s sort desc\n",
    "\n",
    "s4 = s3.sort_index(ascending=False)\n",
    "\n",
    "print s4\n",
    "print type(s4) # gives new series\n",
    "#values tightly bound so keys shuffle according to index\n"
   ]
  },
  {
   "cell_type": "code",
   "execution_count": 32,
   "metadata": {},
   "outputs": [
    {
     "name": "stdout",
     "output_type": "stream",
     "text": [
      "7     10\n",
      "1     10\n",
      "4      6\n",
      "2      5\n",
      "10     3\n",
      "dtype: int8\n"
     ]
    }
   ],
   "source": [
    "#lets sort by highest marks on top\n",
    "s5 = s3.sort_values(ascending=False)\n",
    "print s5"
   ]
  },
  {
   "cell_type": "code",
   "execution_count": 47,
   "metadata": {},
   "outputs": [
    {
     "name": "stdout",
     "output_type": "stream",
     "text": [
      "Roll No\n",
      "1     10\n",
      "4     10\n",
      "5      4\n",
      "2      5\n",
      "3      1\n",
      "10     2\n",
      "9      2\n",
      "8      3\n",
      "6      3\n",
      "11    10\n",
      "Name: Pointers out of 10, dtype: int64\n",
      "2\n",
      "10\n",
      "Roll No\n",
      "10     2\n",
      "11    10\n",
      "Name: Pointers out of 10, dtype: int64\n",
      "10\n",
      "3\n",
      "10\n",
      "Roll No\n",
      "1     10\n",
      "11    10\n",
      "Name: Pointers out of 10, dtype: int64\n",
      "1\n",
      "4\n",
      "Roll No\n",
      "5     4\n",
      "10    2\n",
      "Name: Pointers out of 10, dtype: int64\n"
     ]
    }
   ],
   "source": [
    "#indexing in serries Let's take s2 the bigger one :)\n",
    "\n",
    "print s2\n",
    "\n",
    "#get marks scored by roll number 10\n",
    "print s2[10]\n",
    "print s2[4] #indexing using series index\n",
    "\n",
    "#multiple series indexing\n",
    "print s2[[10, 11]] # need to pass a list of indexes, return a new Series\n",
    "\n",
    "#get marks scored by last student of class, you dont know his index?\n",
    "print s2.iloc[-1] #indexing using native indices as in python & numpy\n",
    "print s2.iloc[-2] #indexing using native indices\n",
    "print s2.iloc[0] #indexing using native indices\n",
    "\n",
    "#iloc is not a function its index, So []\n",
    "\n",
    "#Multiple iloc indexing\n",
    "#lets get first and last student marks\n",
    "print s2.iloc[[0,-1]] # make sure double brackets for multiple indexes in Series\n",
    "\n",
    "\n",
    "#ALTERNATE AND HUGHLY PRESCRIBED BY PANDAS TO GET DATA BY SERIES-INDEXES\n",
    "print s2.loc[3]\n",
    "print s2.loc[5]\n",
    "print s2.loc[[5,10]]\n",
    "\n",
    "#So, loc[] for series-index & iloc[] for native numpy/python index"
   ]
  },
  {
   "cell_type": "code",
   "execution_count": 52,
   "metadata": {},
   "outputs": [
    {
     "name": "stdout",
     "output_type": "stream",
     "text": [
      "Roll No\n",
      "1     10\n",
      "4     10\n",
      "5      4\n",
      "2      5\n",
      "3      1\n",
      "10     2\n",
      "9      2\n",
      "8      3\n",
      "6      3\n",
      "11    10\n",
      "Name: Pointers out of 10, dtype: int64\n",
      "Roll No\n",
      "1    10\n",
      "4    10\n",
      "5     4\n",
      "Name: Pointers out of 10, dtype: int64\n",
      "Roll No\n",
      "8      3\n",
      "6      3\n",
      "11    10\n",
      "Name: Pointers out of 10, dtype: int64\n",
      "Roll No\n",
      "1     10\n",
      "2      5\n",
      "3      1\n",
      "4     10\n",
      "5      4\n",
      "6      3\n",
      "8      3\n",
      "9      2\n",
      "10     2\n",
      "11    10\n",
      "Name: Pointers out of 10, dtype: int64\n",
      "Roll No\n",
      "1    10\n",
      "2     5\n",
      "3     1\n",
      "4    10\n",
      "5     4\n",
      "6     3\n",
      "Name: Pointers out of 10, dtype: int64\n"
     ]
    }
   ],
   "source": [
    "print s2\n",
    "\n",
    "#get marks of first students in class\n",
    "print s2[0:3]\n",
    "#last 3 students\n",
    "print s2[-3:]\n",
    "\n",
    "#That was regular python way of slicing\n",
    "#What if I want to do slicing on basis of series indexing.\n",
    "s5 = s2.sort_index(ascending=True) #Sorted by index\n",
    "\n",
    "\n",
    "#Let slice on basis of series index\n",
    "\n",
    "#get maeks scored from roll number 1 to roll number 7\n",
    "print s5\n",
    "print s5.loc[1:7] #Series based slicing\n",
    "# Again loc for indexing by series. So roll no 1 to 7\n",
    "# End index in inclusive unlike one in regular slicing\n"
   ]
  },
  {
   "cell_type": "code",
   "execution_count": 58,
   "metadata": {},
   "outputs": [
    {
     "name": "stdout",
     "output_type": "stream",
     "text": [
      "Roll No\n",
      "1     10\n",
      "4     10\n",
      "5      4\n",
      "2      5\n",
      "3      1\n",
      "10     2\n",
      "9      2\n",
      "8      3\n",
      "6      3\n",
      "11    10\n",
      "Name: Pointers out of 10, dtype: int64\n",
      "Roll No\n",
      "1      True\n",
      "4      True\n",
      "5     False\n",
      "2     False\n",
      "3     False\n",
      "10    False\n",
      "9     False\n",
      "8     False\n",
      "6     False\n",
      "11     True\n",
      "Name: Pointers out of 10, dtype: bool\n",
      "Roll No\n",
      "1     10\n",
      "4     10\n",
      "11    10\n",
      "Name: Pointers out of 10, dtype: int64\n",
      "Roll No\n",
      "5     4\n",
      "3     1\n",
      "10    2\n",
      "9     2\n",
      "8     3\n",
      "6     3\n",
      "Name: Pointers out of 10, dtype: int64\n",
      "Roll No\n",
      "3     1\n",
      "5     4\n",
      "6     3\n",
      "8     3\n",
      "9     2\n",
      "10    2\n",
      "Name: Pointers out of 10, dtype: int64\n"
     ]
    }
   ],
   "source": [
    "#Filtering\n",
    "\n",
    "# No loops, purely vectorized filtering\n",
    "print s2\n",
    "\n",
    "#data of ppl who have scored 10\n",
    "print s2 == 10 #Gives you new series with true/false\n",
    "\n",
    "#lets give the above as index to s2 \n",
    "s6 =  s2[s2==10] #All True in above series are returned\n",
    "print s6\n",
    "\n",
    "#get all those are less than 5 pointer\n",
    "print s2[s2 < 5]\n",
    "\n",
    "# Above is series, So we can even sort this\n",
    "print s2[s2 < 5].sort_index(ascending=True)\n",
    "\n"
   ]
  },
  {
   "cell_type": "code",
   "execution_count": 66,
   "metadata": {},
   "outputs": [
    {
     "name": "stdout",
     "output_type": "stream",
     "text": [
      "Roll No\n",
      "1     9\n",
      "4     9\n",
      "5     4\n",
      "2     5\n",
      "3     1\n",
      "10    2\n",
      "9     2\n",
      "8     3\n",
      "6     3\n",
      "11    9\n",
      "Name: Pointers out of 10, dtype: int64\n",
      "Roll No\n",
      "1     9\n",
      "4     9\n",
      "5     4\n",
      "2     5\n",
      "3     1\n",
      "10    2\n",
      "9     2\n",
      "8     3\n",
      "6     3\n",
      "11    9\n",
      "Name: Pointers out of 10, dtype: int64\n"
     ]
    }
   ],
   "source": [
    "#FILTERING + ASSUGNMENT\n",
    "\n",
    "#all stus with pointer as 10, copied so reduce by 1\n",
    "\n",
    "print s2\n",
    "s2[s2 == 10] = 9\n",
    "print s2"
   ]
  },
  {
   "cell_type": "code",
   "execution_count": 70,
   "metadata": {},
   "outputs": [
    {
     "name": "stdout",
     "output_type": "stream",
     "text": [
      "Roll No\n",
      "1     9\n",
      "4     9\n",
      "5     4\n",
      "2     5\n",
      "3     1\n",
      "10    2\n",
      "9     2\n",
      "8     3\n",
      "6     3\n",
      "11    9\n",
      "Name: Pointers out of 10, dtype: int64\n",
      "4.7\n",
      "3.5\n",
      "count    10.000000\n",
      "mean      4.700000\n",
      "std       3.164034\n",
      "min       1.000000\n",
      "25%       2.250000\n",
      "50%       3.500000\n",
      "75%       8.000000\n",
      "max       9.000000\n",
      "Name: Pointers out of 10, dtype: float64\n"
     ]
    }
   ],
   "source": [
    "#AGGREGATIONS\n",
    "\n",
    "print s2\n",
    "print s2.mean()\n",
    "print s2.median()\n",
    "print s2.describe() #return you new series, having index as \"type\" and its value"
   ]
  },
  {
   "cell_type": "code",
   "execution_count": 75,
   "metadata": {},
   "outputs": [
    {
     "name": "stdout",
     "output_type": "stream",
     "text": [
      "Roll No\n",
      "1     9\n",
      "4     9\n",
      "5     4\n",
      "2     5\n",
      "3     1\n",
      "10    2\n",
      "9     2\n",
      "8     3\n",
      "6     3\n",
      "11    9\n",
      "Name: Pointers out of 10, dtype: int64\n",
      "[9 4 5 1 2 3]\n",
      "<type 'numpy.ndarray'>\n",
      "9    3\n",
      "3    2\n",
      "2    2\n",
      "5    1\n",
      "4    1\n",
      "1    1\n",
      "Name: Pointers out of 10, dtype: int64\n",
      "<class 'pandas.core.series.Series'>\n",
      "9    3\n",
      "3    2\n",
      "Name: Pointers out of 10, dtype: int64\n"
     ]
    }
   ],
   "source": [
    "print s2\n",
    "\n",
    "#want to know unique marks in class\n",
    "\n",
    "print s2.unique() #set of pointers\n",
    "print type(s2.unique()) # its a numpy array\n",
    "\n",
    "df = s2.value_counts() \n",
    "# return panda series, index in unique value(not index) and value is count number of times its repeated in descending order\n",
    "print df \n",
    "print type(df)\n",
    "\n",
    "\n",
    "#get top 2 marks and its count\n",
    "print df.iloc[:2] # value_count has already returned in desc order, so lets just slice it"
   ]
  },
  {
   "cell_type": "code",
   "execution_count": 86,
   "metadata": {},
   "outputs": [
    {
     "name": "stdout",
     "output_type": "stream",
     "text": [
      "mehul    287\n",
      "jane     300\n",
      "jill     260\n",
      "mark     260\n",
      "dtype: int64\n",
      "260\n",
      "mehul    287\n",
      "jane     300\n",
      "dtype: int64\n",
      "name\n",
      "mehul    287\n",
      "jane     300\n",
      "jill     260\n",
      "mark     260\n",
      "Name: marks, dtype: int64\n"
     ]
    }
   ],
   "source": [
    "path = '/home/sejal/Documents/datascience/pandas/pcm.csv'\n",
    "pcm = Series.from_csv(path)\n",
    "\n",
    "print pcm #student names became index, values are marks\n",
    "\n",
    "#only one-dim data can be stored in series, So names became indexes and not values\n",
    "\n",
    "pcm.mean()\n",
    "\n",
    "#get marks of Jill\n",
    "print pcm.loc['jill']\n",
    "\n",
    "#get all marks more then 260\n",
    "print pcm[pcm > 260]\n",
    "\n",
    "#from_csv() is Deprecated function :(\n",
    "\n",
    "#Lets read file with headers.\n",
    "path = '/home/sejal/Documents/datascience/pandas/pcm_headers.csv'\n",
    "pcm_h = Series.from_csv(path, header=0)\n",
    "print pcm_h\n"
   ]
  },
  {
   "cell_type": "code",
   "execution_count": 92,
   "metadata": {},
   "outputs": [
    {
     "name": "stdout",
     "output_type": "stream",
     "text": [
      "mehul    287\n",
      "jane     300\n",
      "jill     260\n",
      "mark     260\n",
      "dtype: int64\n"
     ]
    }
   ],
   "source": [
    "# PLOTTING\n",
    "\n",
    "print pcm\n",
    "\n",
    "pcm.plot(kind='bar')  # can use barh as well\n",
    "\n",
    "#pandas supports matplotlib functions, but to show use .show()\n",
    "#plt.show()\n",
    "\n",
    "#Can also save it into file\n",
    "plt.savefig('/home/sejal/Documents/datascience/python/graphDocs/barFromPanda', format='png') #first arg is path with filename(NO extension), second is filetype OR extension\n"
   ]
  }
 ],
 "metadata": {
  "kernelspec": {
   "display_name": "Python 2",
   "language": "python",
   "name": "python2"
  },
  "language_info": {
   "codemirror_mode": {
    "name": "ipython",
    "version": 2
   },
   "file_extension": ".py",
   "mimetype": "text/x-python",
   "name": "python",
   "nbconvert_exporter": "python",
   "pygments_lexer": "ipython2",
   "version": "2.7.14"
  }
 },
 "nbformat": 4,
 "nbformat_minor": 2
}
