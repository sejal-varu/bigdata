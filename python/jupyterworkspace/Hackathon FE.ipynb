{
 "cells": [
  {
   "cell_type": "code",
   "execution_count": 1,
   "metadata": {
    "collapsed": true
   },
   "outputs": [],
   "source": [
    "import numpy as np \n",
    "import pandas as pd\n",
    "%matplotlib inline\n",
    "import matplotlib.pyplot as plt  \n",
    "import seaborn as sns\n",
    "from scipy import stats\n",
    "#For some Statistics\n",
    "from scipy.stats import norm, skew\n",
    "from sklearn.preprocessing import Imputer\n",
    "from sklearn.preprocessing import LabelEncoder, OneHotEncoder, StandardScaler\n",
    "from sklearn.model_selection import train_test_split\n",
    "from sklearn.linear_model import LogisticRegression\n",
    "from sklearn import metrics\n",
    "from sklearn.tree import DecisionTreeClassifier\n",
    "from imblearn.over_sampling import SMOTE\n",
    "from sklearn.ensemble import RandomForestClassifier\n",
    "from sklearn.ensemble import AdaBoostClassifier"
   ]
  },
  {
   "cell_type": "code",
   "execution_count": 2,
   "metadata": {
    "collapsed": true
   },
   "outputs": [],
   "source": [
    "def load_csv():\n",
    "    path = \"/home/sejal/Documents/datascience/dataset/data/bank-additional/bank-additional-full.csv\"\n",
    "    #return pd.read_csv('/Users/acko068/Desktop/bank-additional/bank-additional-full.csv', sep=';')\n",
    "    return pd.read_csv(path, sep=';')"
   ]
  },
  {
   "cell_type": "code",
   "execution_count": 3,
   "metadata": {
    "collapsed": true
   },
   "outputs": [],
   "source": [
    "def get_train_test(df, test_size=0.2):\n",
    "    y = df.y\n",
    "    X = df.drop('y', axis=1)\n",
    "    return train_test_split(X, y, test_size=test_size, random_state=9)"
   ]
  },
  {
   "cell_type": "code",
   "execution_count": 4,
   "metadata": {
    "collapsed": true
   },
   "outputs": [],
   "source": [
    "df = load_csv()\n",
    "df.head()\n",
    "df.y.replace(('yes','no'),(1,0), inplace=True)"
   ]
  },
  {
   "cell_type": "code",
   "execution_count": 32,
   "metadata": {},
   "outputs": [
    {
     "data": {
      "text/html": [
       "<div>\n",
       "<style>\n",
       "    .dataframe thead tr:only-child th {\n",
       "        text-align: right;\n",
       "    }\n",
       "\n",
       "    .dataframe thead th {\n",
       "        text-align: left;\n",
       "    }\n",
       "\n",
       "    .dataframe tbody tr th {\n",
       "        vertical-align: top;\n",
       "    }\n",
       "</style>\n",
       "<table border=\"1\" class=\"dataframe\">\n",
       "  <thead>\n",
       "    <tr style=\"text-align: right;\">\n",
       "      <th></th>\n",
       "      <th>age</th>\n",
       "      <th>job</th>\n",
       "      <th>marital</th>\n",
       "      <th>education</th>\n",
       "      <th>default</th>\n",
       "      <th>housing</th>\n",
       "      <th>loan</th>\n",
       "      <th>contact</th>\n",
       "      <th>month</th>\n",
       "      <th>day_of_week</th>\n",
       "      <th>...</th>\n",
       "      <th>campaign</th>\n",
       "      <th>pdays</th>\n",
       "      <th>previous</th>\n",
       "      <th>poutcome</th>\n",
       "      <th>emp.var.rate</th>\n",
       "      <th>cons.price.idx</th>\n",
       "      <th>cons.conf.idx</th>\n",
       "      <th>euribor3m</th>\n",
       "      <th>nr.employed</th>\n",
       "      <th>y</th>\n",
       "    </tr>\n",
       "  </thead>\n",
       "  <tbody>\n",
       "    <tr>\n",
       "      <th>0</th>\n",
       "      <td>56</td>\n",
       "      <td>housemaid</td>\n",
       "      <td>married</td>\n",
       "      <td>basic.4y</td>\n",
       "      <td>no</td>\n",
       "      <td>no</td>\n",
       "      <td>no</td>\n",
       "      <td>telephone</td>\n",
       "      <td>may</td>\n",
       "      <td>mon</td>\n",
       "      <td>...</td>\n",
       "      <td>1</td>\n",
       "      <td>999</td>\n",
       "      <td>0</td>\n",
       "      <td>nonexistent</td>\n",
       "      <td>1.1</td>\n",
       "      <td>93.994</td>\n",
       "      <td>-36.4</td>\n",
       "      <td>4.857</td>\n",
       "      <td>5191.0</td>\n",
       "      <td>0</td>\n",
       "    </tr>\n",
       "    <tr>\n",
       "      <th>1</th>\n",
       "      <td>57</td>\n",
       "      <td>services</td>\n",
       "      <td>married</td>\n",
       "      <td>high.school</td>\n",
       "      <td>unknown</td>\n",
       "      <td>no</td>\n",
       "      <td>no</td>\n",
       "      <td>telephone</td>\n",
       "      <td>may</td>\n",
       "      <td>mon</td>\n",
       "      <td>...</td>\n",
       "      <td>1</td>\n",
       "      <td>999</td>\n",
       "      <td>0</td>\n",
       "      <td>nonexistent</td>\n",
       "      <td>1.1</td>\n",
       "      <td>93.994</td>\n",
       "      <td>-36.4</td>\n",
       "      <td>4.857</td>\n",
       "      <td>5191.0</td>\n",
       "      <td>0</td>\n",
       "    </tr>\n",
       "    <tr>\n",
       "      <th>2</th>\n",
       "      <td>37</td>\n",
       "      <td>services</td>\n",
       "      <td>married</td>\n",
       "      <td>high.school</td>\n",
       "      <td>no</td>\n",
       "      <td>yes</td>\n",
       "      <td>no</td>\n",
       "      <td>telephone</td>\n",
       "      <td>may</td>\n",
       "      <td>mon</td>\n",
       "      <td>...</td>\n",
       "      <td>1</td>\n",
       "      <td>999</td>\n",
       "      <td>0</td>\n",
       "      <td>nonexistent</td>\n",
       "      <td>1.1</td>\n",
       "      <td>93.994</td>\n",
       "      <td>-36.4</td>\n",
       "      <td>4.857</td>\n",
       "      <td>5191.0</td>\n",
       "      <td>0</td>\n",
       "    </tr>\n",
       "    <tr>\n",
       "      <th>3</th>\n",
       "      <td>40</td>\n",
       "      <td>admin.</td>\n",
       "      <td>married</td>\n",
       "      <td>basic.6y</td>\n",
       "      <td>no</td>\n",
       "      <td>no</td>\n",
       "      <td>no</td>\n",
       "      <td>telephone</td>\n",
       "      <td>may</td>\n",
       "      <td>mon</td>\n",
       "      <td>...</td>\n",
       "      <td>1</td>\n",
       "      <td>999</td>\n",
       "      <td>0</td>\n",
       "      <td>nonexistent</td>\n",
       "      <td>1.1</td>\n",
       "      <td>93.994</td>\n",
       "      <td>-36.4</td>\n",
       "      <td>4.857</td>\n",
       "      <td>5191.0</td>\n",
       "      <td>0</td>\n",
       "    </tr>\n",
       "    <tr>\n",
       "      <th>4</th>\n",
       "      <td>56</td>\n",
       "      <td>services</td>\n",
       "      <td>married</td>\n",
       "      <td>high.school</td>\n",
       "      <td>no</td>\n",
       "      <td>no</td>\n",
       "      <td>yes</td>\n",
       "      <td>telephone</td>\n",
       "      <td>may</td>\n",
       "      <td>mon</td>\n",
       "      <td>...</td>\n",
       "      <td>1</td>\n",
       "      <td>999</td>\n",
       "      <td>0</td>\n",
       "      <td>nonexistent</td>\n",
       "      <td>1.1</td>\n",
       "      <td>93.994</td>\n",
       "      <td>-36.4</td>\n",
       "      <td>4.857</td>\n",
       "      <td>5191.0</td>\n",
       "      <td>0</td>\n",
       "    </tr>\n",
       "  </tbody>\n",
       "</table>\n",
       "<p>5 rows × 21 columns</p>\n",
       "</div>"
      ],
      "text/plain": [
       "   age        job  marital    education  default housing loan    contact  \\\n",
       "0   56  housemaid  married     basic.4y       no      no   no  telephone   \n",
       "1   57   services  married  high.school  unknown      no   no  telephone   \n",
       "2   37   services  married  high.school       no     yes   no  telephone   \n",
       "3   40     admin.  married     basic.6y       no      no   no  telephone   \n",
       "4   56   services  married  high.school       no      no  yes  telephone   \n",
       "\n",
       "  month day_of_week ...  campaign  pdays  previous     poutcome emp.var.rate  \\\n",
       "0   may         mon ...         1    999         0  nonexistent          1.1   \n",
       "1   may         mon ...         1    999         0  nonexistent          1.1   \n",
       "2   may         mon ...         1    999         0  nonexistent          1.1   \n",
       "3   may         mon ...         1    999         0  nonexistent          1.1   \n",
       "4   may         mon ...         1    999         0  nonexistent          1.1   \n",
       "\n",
       "   cons.price.idx  cons.conf.idx  euribor3m  nr.employed  y  \n",
       "0          93.994          -36.4      4.857       5191.0  0  \n",
       "1          93.994          -36.4      4.857       5191.0  0  \n",
       "2          93.994          -36.4      4.857       5191.0  0  \n",
       "3          93.994          -36.4      4.857       5191.0  0  \n",
       "4          93.994          -36.4      4.857       5191.0  0  \n",
       "\n",
       "[5 rows x 21 columns]"
      ]
     },
     "execution_count": 32,
     "metadata": {},
     "output_type": "execute_result"
    }
   ],
   "source": [
    "df.head()"
   ]
  },
  {
   "cell_type": "code",
   "execution_count": 35,
   "metadata": {},
   "outputs": [
    {
     "data": {
      "text/plain": [
       "<bound method DataFrame.describe of        age            job   marital            education  default  housing  \\\n",
       "0       56      housemaid   married             basic.4y       no       no   \n",
       "1       57       services   married          high.school  unknown       no   \n",
       "2       37       services   married          high.school       no      yes   \n",
       "3       40         admin.   married             basic.6y       no       no   \n",
       "4       56       services   married          high.school       no       no   \n",
       "5       45       services   married             basic.9y  unknown       no   \n",
       "6       59         admin.   married  professional.course       no       no   \n",
       "7       41    blue-collar   married              unknown  unknown       no   \n",
       "8       24     technician    single  professional.course       no      yes   \n",
       "9       25       services    single          high.school       no      yes   \n",
       "10      41    blue-collar   married              unknown  unknown       no   \n",
       "11      25       services    single          high.school       no      yes   \n",
       "12      29    blue-collar    single          high.school       no       no   \n",
       "13      57      housemaid  divorced             basic.4y       no      yes   \n",
       "14      35    blue-collar   married             basic.6y       no      yes   \n",
       "15      54        retired   married             basic.9y  unknown      yes   \n",
       "16      35    blue-collar   married             basic.6y       no      yes   \n",
       "17      46    blue-collar   married             basic.6y  unknown      yes   \n",
       "18      50    blue-collar   married             basic.9y       no      yes   \n",
       "19      39     management    single             basic.9y  unknown       no   \n",
       "20      30     unemployed   married          high.school       no       no   \n",
       "21      55    blue-collar   married             basic.4y  unknown      yes   \n",
       "22      55        retired    single          high.school       no      yes   \n",
       "23      41     technician    single          high.school       no      yes   \n",
       "24      37         admin.   married          high.school       no      yes   \n",
       "25      35     technician   married    university.degree       no       no   \n",
       "26      59     technician   married              unknown       no      yes   \n",
       "27      39  self-employed   married             basic.9y  unknown       no   \n",
       "28      54     technician    single    university.degree  unknown       no   \n",
       "29      55        unknown   married    university.degree  unknown  unknown   \n",
       "...    ...            ...       ...                  ...      ...      ...   \n",
       "41158   35     technician  divorced             basic.4y       no       no   \n",
       "41159   35     technician  divorced             basic.4y       no      yes   \n",
       "41160   33         admin.   married    university.degree       no       no   \n",
       "41161   33         admin.   married    university.degree       no      yes   \n",
       "41162   60    blue-collar   married             basic.4y       no      yes   \n",
       "41163   35     technician  divorced             basic.4y       no      yes   \n",
       "41164   54         admin.   married  professional.course       no       no   \n",
       "41165   38      housemaid  divorced    university.degree       no       no   \n",
       "41166   32         admin.   married    university.degree       no       no   \n",
       "41167   32         admin.   married    university.degree       no      yes   \n",
       "41168   38   entrepreneur   married    university.degree       no       no   \n",
       "41169   62       services   married          high.school       no      yes   \n",
       "41170   40     management  divorced    university.degree       no      yes   \n",
       "41171   33        student   married  professional.course       no      yes   \n",
       "41172   31         admin.    single    university.degree       no      yes   \n",
       "41173   62        retired   married    university.degree       no      yes   \n",
       "41174   62        retired   married    university.degree       no      yes   \n",
       "41175   34        student    single              unknown       no      yes   \n",
       "41176   38      housemaid  divorced          high.school       no      yes   \n",
       "41177   57        retired   married  professional.course       no      yes   \n",
       "41178   62        retired   married    university.degree       no       no   \n",
       "41179   64        retired  divorced  professional.course       no      yes   \n",
       "41180   36         admin.   married    university.degree       no       no   \n",
       "41181   37         admin.   married    university.degree       no      yes   \n",
       "41182   29     unemployed    single             basic.4y       no      yes   \n",
       "41183   73        retired   married  professional.course       no      yes   \n",
       "41184   46    blue-collar   married  professional.course       no       no   \n",
       "41185   56        retired   married    university.degree       no      yes   \n",
       "41186   44     technician   married  professional.course       no       no   \n",
       "41187   74        retired   married  professional.course       no      yes   \n",
       "\n",
       "          loan    contact month day_of_week ...  campaign  pdays  previous  \\\n",
       "0           no  telephone   may         mon ...         1    999         0   \n",
       "1           no  telephone   may         mon ...         1    999         0   \n",
       "2           no  telephone   may         mon ...         1    999         0   \n",
       "3           no  telephone   may         mon ...         1    999         0   \n",
       "4          yes  telephone   may         mon ...         1    999         0   \n",
       "5           no  telephone   may         mon ...         1    999         0   \n",
       "6           no  telephone   may         mon ...         1    999         0   \n",
       "7           no  telephone   may         mon ...         1    999         0   \n",
       "8           no  telephone   may         mon ...         1    999         0   \n",
       "9           no  telephone   may         mon ...         1    999         0   \n",
       "10          no  telephone   may         mon ...         1    999         0   \n",
       "11          no  telephone   may         mon ...         1    999         0   \n",
       "12         yes  telephone   may         mon ...         1    999         0   \n",
       "13          no  telephone   may         mon ...         1    999         0   \n",
       "14          no  telephone   may         mon ...         1    999         0   \n",
       "15         yes  telephone   may         mon ...         1    999         0   \n",
       "16          no  telephone   may         mon ...         1    999         0   \n",
       "17         yes  telephone   may         mon ...         1    999         0   \n",
       "18         yes  telephone   may         mon ...         1    999         0   \n",
       "19          no  telephone   may         mon ...         1    999         0   \n",
       "20          no  telephone   may         mon ...         1    999         0   \n",
       "21          no  telephone   may         mon ...         1    999         0   \n",
       "22          no  telephone   may         mon ...         1    999         0   \n",
       "23          no  telephone   may         mon ...         1    999         0   \n",
       "24          no  telephone   may         mon ...         1    999         0   \n",
       "25         yes  telephone   may         mon ...         1    999         0   \n",
       "26          no  telephone   may         mon ...         1    999         0   \n",
       "27          no  telephone   may         mon ...         1    999         0   \n",
       "28          no  telephone   may         mon ...         2    999         0   \n",
       "29     unknown  telephone   may         mon ...         1    999         0   \n",
       "...        ...        ...   ...         ... ...       ...    ...       ...   \n",
       "41158       no   cellular   nov         tue ...         1    999         0   \n",
       "41159       no   cellular   nov         tue ...         1      9         4   \n",
       "41160       no   cellular   nov         tue ...         1    999         0   \n",
       "41161       no   cellular   nov         tue ...         1    999         1   \n",
       "41162       no   cellular   nov         tue ...         2      4         1   \n",
       "41163       no   cellular   nov         tue ...         3      4         2   \n",
       "41164       no   cellular   nov         tue ...         2     10         1   \n",
       "41165       no   cellular   nov         wed ...         2    999         0   \n",
       "41166       no  telephone   nov         wed ...         1    999         1   \n",
       "41167       no   cellular   nov         wed ...         3    999         0   \n",
       "41168       no   cellular   nov         wed ...         2    999         0   \n",
       "41169       no   cellular   nov         wed ...         5    999         0   \n",
       "41170       no   cellular   nov         wed ...         2    999         4   \n",
       "41171       no  telephone   nov         thu ...         1    999         0   \n",
       "41172       no   cellular   nov         thu ...         1    999         0   \n",
       "41173       no   cellular   nov         thu ...         1    999         2   \n",
       "41174       no   cellular   nov         thu ...         1      1         6   \n",
       "41175       no   cellular   nov         thu ...         1    999         2   \n",
       "41176      yes   cellular   nov         thu ...         1    999         0   \n",
       "41177       no   cellular   nov         thu ...         6    999         0   \n",
       "41178       no   cellular   nov         thu ...         2      6         3   \n",
       "41179       no   cellular   nov         fri ...         3    999         0   \n",
       "41180       no   cellular   nov         fri ...         2    999         0   \n",
       "41181       no   cellular   nov         fri ...         1    999         0   \n",
       "41182       no   cellular   nov         fri ...         1      9         1   \n",
       "41183       no   cellular   nov         fri ...         1    999         0   \n",
       "41184       no   cellular   nov         fri ...         1    999         0   \n",
       "41185       no   cellular   nov         fri ...         2    999         0   \n",
       "41186       no   cellular   nov         fri ...         1    999         0   \n",
       "41187       no   cellular   nov         fri ...         3    999         1   \n",
       "\n",
       "          poutcome emp.var.rate  cons.price.idx  cons.conf.idx  euribor3m  \\\n",
       "0      nonexistent          1.1          93.994          -36.4      4.857   \n",
       "1      nonexistent          1.1          93.994          -36.4      4.857   \n",
       "2      nonexistent          1.1          93.994          -36.4      4.857   \n",
       "3      nonexistent          1.1          93.994          -36.4      4.857   \n",
       "4      nonexistent          1.1          93.994          -36.4      4.857   \n",
       "5      nonexistent          1.1          93.994          -36.4      4.857   \n",
       "6      nonexistent          1.1          93.994          -36.4      4.857   \n",
       "7      nonexistent          1.1          93.994          -36.4      4.857   \n",
       "8      nonexistent          1.1          93.994          -36.4      4.857   \n",
       "9      nonexistent          1.1          93.994          -36.4      4.857   \n",
       "10     nonexistent          1.1          93.994          -36.4      4.857   \n",
       "11     nonexistent          1.1          93.994          -36.4      4.857   \n",
       "12     nonexistent          1.1          93.994          -36.4      4.857   \n",
       "13     nonexistent          1.1          93.994          -36.4      4.857   \n",
       "14     nonexistent          1.1          93.994          -36.4      4.857   \n",
       "15     nonexistent          1.1          93.994          -36.4      4.857   \n",
       "16     nonexistent          1.1          93.994          -36.4      4.857   \n",
       "17     nonexistent          1.1          93.994          -36.4      4.857   \n",
       "18     nonexistent          1.1          93.994          -36.4      4.857   \n",
       "19     nonexistent          1.1          93.994          -36.4      4.857   \n",
       "20     nonexistent          1.1          93.994          -36.4      4.857   \n",
       "21     nonexistent          1.1          93.994          -36.4      4.857   \n",
       "22     nonexistent          1.1          93.994          -36.4      4.857   \n",
       "23     nonexistent          1.1          93.994          -36.4      4.857   \n",
       "24     nonexistent          1.1          93.994          -36.4      4.857   \n",
       "25     nonexistent          1.1          93.994          -36.4      4.857   \n",
       "26     nonexistent          1.1          93.994          -36.4      4.857   \n",
       "27     nonexistent          1.1          93.994          -36.4      4.857   \n",
       "28     nonexistent          1.1          93.994          -36.4      4.857   \n",
       "29     nonexistent          1.1          93.994          -36.4      4.857   \n",
       "...            ...          ...             ...            ...        ...   \n",
       "41158  nonexistent         -1.1          94.767          -50.8      1.035   \n",
       "41159      success         -1.1          94.767          -50.8      1.035   \n",
       "41160  nonexistent         -1.1          94.767          -50.8      1.035   \n",
       "41161      failure         -1.1          94.767          -50.8      1.035   \n",
       "41162      success         -1.1          94.767          -50.8      1.035   \n",
       "41163      success         -1.1          94.767          -50.8      1.035   \n",
       "41164      success         -1.1          94.767          -50.8      1.035   \n",
       "41165  nonexistent         -1.1          94.767          -50.8      1.030   \n",
       "41166      failure         -1.1          94.767          -50.8      1.030   \n",
       "41167  nonexistent         -1.1          94.767          -50.8      1.030   \n",
       "41168  nonexistent         -1.1          94.767          -50.8      1.030   \n",
       "41169  nonexistent         -1.1          94.767          -50.8      1.030   \n",
       "41170      failure         -1.1          94.767          -50.8      1.030   \n",
       "41171  nonexistent         -1.1          94.767          -50.8      1.031   \n",
       "41172  nonexistent         -1.1          94.767          -50.8      1.031   \n",
       "41173      failure         -1.1          94.767          -50.8      1.031   \n",
       "41174      success         -1.1          94.767          -50.8      1.031   \n",
       "41175      failure         -1.1          94.767          -50.8      1.031   \n",
       "41176  nonexistent         -1.1          94.767          -50.8      1.031   \n",
       "41177  nonexistent         -1.1          94.767          -50.8      1.031   \n",
       "41178      success         -1.1          94.767          -50.8      1.031   \n",
       "41179  nonexistent         -1.1          94.767          -50.8      1.028   \n",
       "41180  nonexistent         -1.1          94.767          -50.8      1.028   \n",
       "41181  nonexistent         -1.1          94.767          -50.8      1.028   \n",
       "41182      success         -1.1          94.767          -50.8      1.028   \n",
       "41183  nonexistent         -1.1          94.767          -50.8      1.028   \n",
       "41184  nonexistent         -1.1          94.767          -50.8      1.028   \n",
       "41185  nonexistent         -1.1          94.767          -50.8      1.028   \n",
       "41186  nonexistent         -1.1          94.767          -50.8      1.028   \n",
       "41187      failure         -1.1          94.767          -50.8      1.028   \n",
       "\n",
       "       nr.employed  y  \n",
       "0           5191.0  0  \n",
       "1           5191.0  0  \n",
       "2           5191.0  0  \n",
       "3           5191.0  0  \n",
       "4           5191.0  0  \n",
       "5           5191.0  0  \n",
       "6           5191.0  0  \n",
       "7           5191.0  0  \n",
       "8           5191.0  0  \n",
       "9           5191.0  0  \n",
       "10          5191.0  0  \n",
       "11          5191.0  0  \n",
       "12          5191.0  0  \n",
       "13          5191.0  0  \n",
       "14          5191.0  0  \n",
       "15          5191.0  0  \n",
       "16          5191.0  0  \n",
       "17          5191.0  0  \n",
       "18          5191.0  0  \n",
       "19          5191.0  0  \n",
       "20          5191.0  0  \n",
       "21          5191.0  0  \n",
       "22          5191.0  0  \n",
       "23          5191.0  0  \n",
       "24          5191.0  0  \n",
       "25          5191.0  0  \n",
       "26          5191.0  0  \n",
       "27          5191.0  0  \n",
       "28          5191.0  0  \n",
       "29          5191.0  0  \n",
       "...            ... ..  \n",
       "41158       4963.6  1  \n",
       "41159       4963.6  1  \n",
       "41160       4963.6  1  \n",
       "41161       4963.6  0  \n",
       "41162       4963.6  0  \n",
       "41163       4963.6  1  \n",
       "41164       4963.6  1  \n",
       "41165       4963.6  1  \n",
       "41166       4963.6  1  \n",
       "41167       4963.6  0  \n",
       "41168       4963.6  0  \n",
       "41169       4963.6  0  \n",
       "41170       4963.6  0  \n",
       "41171       4963.6  1  \n",
       "41172       4963.6  1  \n",
       "41173       4963.6  1  \n",
       "41174       4963.6  1  \n",
       "41175       4963.6  0  \n",
       "41176       4963.6  0  \n",
       "41177       4963.6  0  \n",
       "41178       4963.6  1  \n",
       "41179       4963.6  0  \n",
       "41180       4963.6  0  \n",
       "41181       4963.6  1  \n",
       "41182       4963.6  0  \n",
       "41183       4963.6  1  \n",
       "41184       4963.6  0  \n",
       "41185       4963.6  0  \n",
       "41186       4963.6  1  \n",
       "41187       4963.6  0  \n",
       "\n",
       "[41188 rows x 21 columns]>"
      ]
     },
     "execution_count": 35,
     "metadata": {},
     "output_type": "execute_result"
    }
   ],
   "source": [
    "df.describe\n"
   ]
  },
  {
   "cell_type": "code",
   "execution_count": 5,
   "metadata": {
    "collapsed": true
   },
   "outputs": [],
   "source": [
    "def get_categorical_features(df):\n",
    "    numeric_feature = [a for a in range(len(df.dtypes)) if df.dtypes[a] in ['int8','int64','float64']]\n",
    "    return df.columns.difference(df.columns[numeric_feature])"
   ]
  },
  {
   "cell_type": "code",
   "execution_count": 6,
   "metadata": {
    "collapsed": true
   },
   "outputs": [],
   "source": [
    "def label_encode(column_list, df):\n",
    "    le = LabelEncoder()\n",
    "    for col in column_list:\n",
    "        df[col] = le.fit_transform(df[col])\n"
   ]
  },
  {
   "cell_type": "code",
   "execution_count": 7,
   "metadata": {
    "collapsed": true
   },
   "outputs": [],
   "source": [
    "def preprocess_data(X):\n",
    "    clist= get_categorical_features(X)\n",
    "    label_encode(clist,X)\n",
    "    X[\"age\"] = pd.qcut(X[\"age\"],4 ,labels=False)\n",
    "    X[\"called_before\"] = np.where(X[\"pdays\"]==999,0,1)\n",
    "    X.drop(\"pdays\",axis=1, inplace=True)\n",
    "    X.drop(\"duration\",axis=1, inplace=True)\n",
    "    X.drop(\"nr.employed\",axis=1, inplace=True)"
   ]
  },
  {
   "cell_type": "code",
   "execution_count": 8,
   "metadata": {
    "collapsed": true
   },
   "outputs": [],
   "source": [
    "X_train, X_test, y_train, y_test = get_train_test(df, 0.1)"
   ]
  },
  {
   "cell_type": "code",
   "execution_count": 9,
   "metadata": {
    "collapsed": true
   },
   "outputs": [],
   "source": [
    "X_train_2, X_test_2, y_train_2, y_test_2 = train_test_split(X_train, y_train, test_size=0.1, random_state=9)"
   ]
  },
  {
   "cell_type": "code",
   "execution_count": 10,
   "metadata": {},
   "outputs": [
    {
     "name": "stderr",
     "output_type": "stream",
     "text": [
      "/home/sejal/anaconda2/lib/python2.7/site-packages/ipykernel_launcher.py:4: SettingWithCopyWarning: \n",
      "A value is trying to be set on a copy of a slice from a DataFrame.\n",
      "Try using .loc[row_indexer,col_indexer] = value instead\n",
      "\n",
      "See the caveats in the documentation: http://pandas.pydata.org/pandas-docs/stable/indexing.html#indexing-view-versus-copy\n",
      "  after removing the cwd from sys.path.\n",
      "/home/sejal/anaconda2/lib/python2.7/site-packages/ipykernel_launcher.py:5: SettingWithCopyWarning: \n",
      "A value is trying to be set on a copy of a slice from a DataFrame.\n",
      "Try using .loc[row_indexer,col_indexer] = value instead\n",
      "\n",
      "See the caveats in the documentation: http://pandas.pydata.org/pandas-docs/stable/indexing.html#indexing-view-versus-copy\n",
      "  \"\"\"\n",
      "/home/sejal/anaconda2/lib/python2.7/site-packages/ipykernel_launcher.py:6: SettingWithCopyWarning: \n",
      "A value is trying to be set on a copy of a slice from a DataFrame\n",
      "\n",
      "See the caveats in the documentation: http://pandas.pydata.org/pandas-docs/stable/indexing.html#indexing-view-versus-copy\n",
      "  \n",
      "/home/sejal/anaconda2/lib/python2.7/site-packages/ipykernel_launcher.py:7: SettingWithCopyWarning: \n",
      "A value is trying to be set on a copy of a slice from a DataFrame\n",
      "\n",
      "See the caveats in the documentation: http://pandas.pydata.org/pandas-docs/stable/indexing.html#indexing-view-versus-copy\n",
      "  import sys\n",
      "/home/sejal/anaconda2/lib/python2.7/site-packages/ipykernel_launcher.py:8: SettingWithCopyWarning: \n",
      "A value is trying to be set on a copy of a slice from a DataFrame\n",
      "\n",
      "See the caveats in the documentation: http://pandas.pydata.org/pandas-docs/stable/indexing.html#indexing-view-versus-copy\n",
      "  \n"
     ]
    }
   ],
   "source": [
    "preprocess_data(X_train_2)"
   ]
  },
  {
   "cell_type": "code",
   "execution_count": 11,
   "metadata": {},
   "outputs": [
    {
     "name": "stderr",
     "output_type": "stream",
     "text": [
      "/home/sejal/anaconda2/lib/python2.7/site-packages/ipykernel_launcher.py:4: SettingWithCopyWarning: \n",
      "A value is trying to be set on a copy of a slice from a DataFrame.\n",
      "Try using .loc[row_indexer,col_indexer] = value instead\n",
      "\n",
      "See the caveats in the documentation: http://pandas.pydata.org/pandas-docs/stable/indexing.html#indexing-view-versus-copy\n",
      "  after removing the cwd from sys.path.\n",
      "/home/sejal/anaconda2/lib/python2.7/site-packages/ipykernel_launcher.py:5: SettingWithCopyWarning: \n",
      "A value is trying to be set on a copy of a slice from a DataFrame.\n",
      "Try using .loc[row_indexer,col_indexer] = value instead\n",
      "\n",
      "See the caveats in the documentation: http://pandas.pydata.org/pandas-docs/stable/indexing.html#indexing-view-versus-copy\n",
      "  \"\"\"\n",
      "/home/sejal/anaconda2/lib/python2.7/site-packages/ipykernel_launcher.py:6: SettingWithCopyWarning: \n",
      "A value is trying to be set on a copy of a slice from a DataFrame\n",
      "\n",
      "See the caveats in the documentation: http://pandas.pydata.org/pandas-docs/stable/indexing.html#indexing-view-versus-copy\n",
      "  \n",
      "/home/sejal/anaconda2/lib/python2.7/site-packages/ipykernel_launcher.py:7: SettingWithCopyWarning: \n",
      "A value is trying to be set on a copy of a slice from a DataFrame\n",
      "\n",
      "See the caveats in the documentation: http://pandas.pydata.org/pandas-docs/stable/indexing.html#indexing-view-versus-copy\n",
      "  import sys\n",
      "/home/sejal/anaconda2/lib/python2.7/site-packages/ipykernel_launcher.py:8: SettingWithCopyWarning: \n",
      "A value is trying to be set on a copy of a slice from a DataFrame\n",
      "\n",
      "See the caveats in the documentation: http://pandas.pydata.org/pandas-docs/stable/indexing.html#indexing-view-versus-copy\n",
      "  \n"
     ]
    }
   ],
   "source": [
    "preprocess_data(X_test_2)"
   ]
  },
  {
   "cell_type": "code",
   "execution_count": 12,
   "metadata": {
    "collapsed": true
   },
   "outputs": [],
   "source": [
    "preprocess_data(X_test)"
   ]
  },
  {
   "cell_type": "code",
   "execution_count": 13,
   "metadata": {
    "collapsed": true
   },
   "outputs": [],
   "source": [
    "sm = SMOTE(random_state=12)\n",
    "x_train_res, y_train_res = sm.fit_sample(X_train_2, y_train_2)"
   ]
  },
  {
   "cell_type": "code",
   "execution_count": 14,
   "metadata": {
    "collapsed": true
   },
   "outputs": [],
   "source": [
    "test_smote = pd.DataFrame(x_train_res, columns = X_test_2.columns.values)"
   ]
  },
  {
   "cell_type": "code",
   "execution_count": 15,
   "metadata": {
    "collapsed": true
   },
   "outputs": [],
   "source": [
    "test_y = pd.Series(y_train_res)"
   ]
  },
  {
   "cell_type": "code",
   "execution_count": 16,
   "metadata": {},
   "outputs": [
    {
     "data": {
      "text/plain": [
       "RandomForestClassifier(bootstrap=True, class_weight=None, criterion='gini',\n",
       "            max_depth=None, max_features='auto', max_leaf_nodes=None,\n",
       "            min_impurity_decrease=0.0, min_impurity_split=None,\n",
       "            min_samples_leaf=1, min_samples_split=2,\n",
       "            min_weight_fraction_leaf=0.0, n_estimators=10, n_jobs=1,\n",
       "            oob_score=False, random_state=None, verbose=0,\n",
       "            warm_start=False)"
      ]
     },
     "execution_count": 16,
     "metadata": {},
     "output_type": "execute_result"
    }
   ],
   "source": [
    "rf = RandomForestClassifier()\n",
    "rf.fit(test_smote, test_y)"
   ]
  },
  {
   "cell_type": "code",
   "execution_count": 17,
   "metadata": {
    "collapsed": true
   },
   "outputs": [],
   "source": [
    "y_pred = rf.predict_proba(X_test_2)[:,1]"
   ]
  },
  {
   "cell_type": "code",
   "execution_count": 18,
   "metadata": {
    "collapsed": true
   },
   "outputs": [],
   "source": [
    "y_pred1 = rf.predict(X_test_2)"
   ]
  },
  {
   "cell_type": "code",
   "execution_count": 19,
   "metadata": {},
   "outputs": [
    {
     "data": {
      "text/plain": [
       "array([0.07551957, 0.05509677, 0.08413194, 0.0578936 , 0.06618739,\n",
       "       0.03080797, 0.02243441, 0.04251766, 0.03371534, 0.06401717,\n",
       "       0.07512091, 0.0306449 , 0.04879191, 0.06321724, 0.03573904,\n",
       "       0.02022719, 0.16239602, 0.03154098])"
      ]
     },
     "execution_count": 19,
     "metadata": {},
     "output_type": "execute_result"
    }
   ],
   "source": [
    "rf.feature_importances_"
   ]
  },
  {
   "cell_type": "code",
   "execution_count": 20,
   "metadata": {},
   "outputs": [
    {
     "data": {
      "text/plain": [
       "0.7205975943486285"
      ]
     },
     "execution_count": 20,
     "metadata": {},
     "output_type": "execute_result"
    }
   ],
   "source": [
    "metrics.roc_auc_score(y_test_2,y_pred)"
   ]
  },
  {
   "cell_type": "code",
   "execution_count": 21,
   "metadata": {},
   "outputs": [
    {
     "data": {
      "text/plain": [
       "0.2656641604010025"
      ]
     },
     "execution_count": 21,
     "metadata": {},
     "output_type": "execute_result"
    }
   ],
   "source": [
    "metrics.recall_score(y_test_2,y_pred1)"
   ]
  },
  {
   "cell_type": "code",
   "execution_count": 22,
   "metadata": {
    "collapsed": true
   },
   "outputs": [],
   "source": [
    "#Model-1\n",
    "clf_gini =  DecisionTreeClassifier(criterion='gini', max_depth=6)\n",
    "clf_gini.fit(X_train_2, y_train_2)\n",
    "\n",
    "y_prediction_gini = clf_gini.predict_proba(X_test_2)[:,1]"
   ]
  },
  {
   "cell_type": "code",
   "execution_count": 23,
   "metadata": {
    "collapsed": true
   },
   "outputs": [],
   "source": [
    "#Model-2\n",
    "clf_entropy = DecisionTreeClassifier(criterion='entropy', max_depth=6)\n",
    "clf_entropy.fit(X_train_2, y_train_2)\n",
    "\n",
    "y_prediction_entropy = clf_entropy.predict_proba(X_test_2)[:,1]"
   ]
  },
  {
   "cell_type": "code",
   "execution_count": 24,
   "metadata": {
    "collapsed": true
   },
   "outputs": [],
   "source": [
    "#Model-3\n",
    "clf_random = RandomForestClassifier(n_estimators=2, max_depth=3)\n",
    "clf_random.fit(X_train_2, y_train_2)\n",
    "\n",
    "y_prediction_random = clf_random.predict_proba(X_test_2)[:,1]"
   ]
  },
  {
   "cell_type": "code",
   "execution_count": 25,
   "metadata": {
    "collapsed": true
   },
   "outputs": [],
   "source": [
    "all_probs = pd.DataFrame(list(zip(y_prediction_gini, y_prediction_entropy, y_prediction_random)), columns=['p1','p2','p3'])"
   ]
  },
  {
   "cell_type": "code",
   "execution_count": 26,
   "metadata": {},
   "outputs": [
    {
     "data": {
      "text/plain": [
       "RandomForestClassifier(bootstrap=True, class_weight=None, criterion='gini',\n",
       "            max_depth=None, max_features='auto', max_leaf_nodes=None,\n",
       "            min_impurity_decrease=0.0, min_impurity_split=None,\n",
       "            min_samples_leaf=1, min_samples_split=2,\n",
       "            min_weight_fraction_leaf=0.0, n_estimators=10, n_jobs=1,\n",
       "            oob_score=False, random_state=3, verbose=0, warm_start=False)"
      ]
     },
     "execution_count": 26,
     "metadata": {},
     "output_type": "execute_result"
    }
   ],
   "source": [
    "meta_classifier =  RandomForestClassifier(n_estimators= 10, random_state=3)\n",
    "meta_classifier.fit(all_probs, y_test_2)\n",
    "#meta_prob = rf.predict(X_test1)\n",
    "#print meta_prob"
   ]
  },
  {
   "cell_type": "code",
   "execution_count": 27,
   "metadata": {
    "collapsed": true
   },
   "outputs": [],
   "source": [
    "result_Pred1 = clf_gini.predict_proba(X_test)\n",
    "result_Pred2 = clf_entropy.predict_proba(X_test)\n",
    "result_Pred3 = clf_random.predict_proba(X_test)"
   ]
  },
  {
   "cell_type": "code",
   "execution_count": 28,
   "metadata": {},
   "outputs": [
    {
     "data": {
      "text/html": [
       "<div>\n",
       "<style>\n",
       "    .dataframe thead tr:only-child th {\n",
       "        text-align: right;\n",
       "    }\n",
       "\n",
       "    .dataframe thead th {\n",
       "        text-align: left;\n",
       "    }\n",
       "\n",
       "    .dataframe tbody tr th {\n",
       "        vertical-align: top;\n",
       "    }\n",
       "</style>\n",
       "<table border=\"1\" class=\"dataframe\">\n",
       "  <thead>\n",
       "    <tr style=\"text-align: right;\">\n",
       "      <th></th>\n",
       "      <th>0</th>\n",
       "      <th>0</th>\n",
       "      <th>0</th>\n",
       "    </tr>\n",
       "  </thead>\n",
       "  <tbody>\n",
       "    <tr>\n",
       "      <th>0</th>\n",
       "      <td>0.106112</td>\n",
       "      <td>0.106112</td>\n",
       "      <td>0.140277</td>\n",
       "    </tr>\n",
       "    <tr>\n",
       "      <th>1</th>\n",
       "      <td>0.290954</td>\n",
       "      <td>0.290954</td>\n",
       "      <td>0.389774</td>\n",
       "    </tr>\n",
       "    <tr>\n",
       "      <th>2</th>\n",
       "      <td>0.503030</td>\n",
       "      <td>0.503030</td>\n",
       "      <td>0.336302</td>\n",
       "    </tr>\n",
       "    <tr>\n",
       "      <th>3</th>\n",
       "      <td>0.060787</td>\n",
       "      <td>0.066533</td>\n",
       "      <td>0.050764</td>\n",
       "    </tr>\n",
       "    <tr>\n",
       "      <th>4</th>\n",
       "      <td>0.109398</td>\n",
       "      <td>0.167224</td>\n",
       "      <td>0.140277</td>\n",
       "    </tr>\n",
       "  </tbody>\n",
       "</table>\n",
       "</div>"
      ],
      "text/plain": [
       "          0         0         0\n",
       "0  0.106112  0.106112  0.140277\n",
       "1  0.290954  0.290954  0.389774\n",
       "2  0.503030  0.503030  0.336302\n",
       "3  0.060787  0.066533  0.050764\n",
       "4  0.109398  0.167224  0.140277"
      ]
     },
     "execution_count": 28,
     "metadata": {},
     "output_type": "execute_result"
    }
   ],
   "source": [
    "meta_data = pd.concat([pd.DataFrame(result_Pred1[:,1]), pd.DataFrame(result_Pred2[:,1]), pd.DataFrame(result_Pred3[:,1])], axis=1)\n",
    "meta_data.head()"
   ]
  },
  {
   "cell_type": "code",
   "execution_count": 29,
   "metadata": {
    "collapsed": true
   },
   "outputs": [],
   "source": [
    "meta_predict =  meta_classifier.predict_proba(meta_data)"
   ]
  },
  {
   "cell_type": "code",
   "execution_count": 30,
   "metadata": {},
   "outputs": [
    {
     "data": {
      "text/plain": [
       "0.7943541627752155"
      ]
     },
     "execution_count": 30,
     "metadata": {},
     "output_type": "execute_result"
    }
   ],
   "source": [
    "metrics.roc_auc_score(y_test, meta_predict[:,1])"
   ]
  },
  {
   "cell_type": "code",
   "execution_count": 31,
   "metadata": {},
   "outputs": [
    {
     "data": {
      "text/plain": [
       "0.27850877192982454"
      ]
     },
     "execution_count": 31,
     "metadata": {},
     "output_type": "execute_result"
    }
   ],
   "source": [
    "meta_predict1 =   meta_classifier.predict(meta_data)\n",
    "metrics.recall_score(y_test, meta_predict1)"
   ]
  }
 ],
 "metadata": {
  "kernelspec": {
   "display_name": "Python 2",
   "language": "python",
   "name": "python2"
  },
  "language_info": {
   "codemirror_mode": {
    "name": "ipython",
    "version": 2
   },
   "file_extension": ".py",
   "mimetype": "text/x-python",
   "name": "python",
   "nbconvert_exporter": "python",
   "pygments_lexer": "ipython2",
   "version": "2.7.14"
  }
 },
 "nbformat": 4,
 "nbformat_minor": 2
}
