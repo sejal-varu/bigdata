{
 "cells": [
  {
   "cell_type": "markdown",
   "metadata": {},
   "source": [
    "Sets = For storing unique elements. There is no order in a set"
   ]
  },
  {
   "cell_type": "code",
   "execution_count": 13,
   "metadata": {
    "collapsed": true
   },
   "outputs": [],
   "source": [
    "l = [10, 10, 4, 5, 2, 2, 3, 10, 10, 1, 1, 6]"
   ]
  },
  {
   "cell_type": "code",
   "execution_count": 14,
   "metadata": {},
   "outputs": [
    {
     "name": "stdout",
     "output_type": "stream",
     "text": [
      "set([1, 2, 3, 4, 5, 6, 10])\n",
      "<type 'set'>\n",
      "set([1, 2, 3, 4, 5, 6, 10])\n"
     ]
    }
   ],
   "source": [
    "unique_marks = set(l)\n",
    "print unique_marks\n",
    "print type(unique_marks)\n",
    "print unique_marks"
   ]
  },
  {
   "cell_type": "code",
   "execution_count": 15,
   "metadata": {},
   "outputs": [
    {
     "name": "stdout",
     "output_type": "stream",
     "text": [
      "set([1, 3, 4, 5, 6])\n",
      "<type 'set'>\n"
     ]
    }
   ],
   "source": [
    "s1 = {5,6,4,3,5,6,4,1}\n",
    "print s1\n",
    "print type(s1)"
   ]
  },
  {
   "cell_type": "code",
   "execution_count": 16,
   "metadata": {},
   "outputs": [
    {
     "name": "stdout",
     "output_type": "stream",
     "text": [
      "{}\n",
      "<type 'dict'>\n"
     ]
    }
   ],
   "source": [
    "#empty set\n",
    "s2 = {}\n",
    "print s2\n",
    "print type(s2)"
   ]
  },
  {
   "cell_type": "code",
   "execution_count": 17,
   "metadata": {},
   "outputs": [
    {
     "name": "stdout",
     "output_type": "stream",
     "text": [
      "set([])\n",
      "<type 'set'>\n"
     ]
    }
   ],
   "source": [
    "s2 = set() # for creating empty set\n",
    "print s2\n",
    "print type(s2)"
   ]
  },
  {
   "cell_type": "code",
   "execution_count": 18,
   "metadata": {},
   "outputs": [
    {
     "name": "stdout",
     "output_type": "stream",
     "text": [
      "set([10, 5, 6])\n"
     ]
    }
   ],
   "source": [
    "s2.add(5)\n",
    "s2.add(6)\n",
    "s2.add(5)\n",
    "s2.add(5)\n",
    "s2.add(10)\n",
    "print s2"
   ]
  },
  {
   "cell_type": "code",
   "execution_count": 19,
   "metadata": {},
   "outputs": [
    {
     "name": "stdout",
     "output_type": "stream",
     "text": [
      "set([10, 5, 6])\n"
     ]
    }
   ],
   "source": [
    "s2.add(10)\n",
    "print s2\n"
   ]
  },
  {
   "cell_type": "code",
   "execution_count": 20,
   "metadata": {},
   "outputs": [
    {
     "name": "stdout",
     "output_type": "stream",
     "text": [
      "set([10, 6])\n"
     ]
    }
   ],
   "source": [
    "# Remove an element\n",
    "s2.remove(5)\n",
    "print (s2)"
   ]
  },
  {
   "cell_type": "code",
   "execution_count": 21,
   "metadata": {},
   "outputs": [
    {
     "name": "stdout",
     "output_type": "stream",
     "text": [
      "set(['sejal', 10, 6])\n"
     ]
    }
   ],
   "source": [
    "s2.add('sejal')\n",
    "print s2"
   ]
  },
  {
   "cell_type": "code",
   "execution_count": 22,
   "metadata": {},
   "outputs": [
    {
     "name": "stdout",
     "output_type": "stream",
     "text": [
      "set([10, 6])\n"
     ]
    }
   ],
   "source": [
    "s2.remove('sejal')\n",
    "print s2"
   ]
  },
  {
   "cell_type": "code",
   "execution_count": 23,
   "metadata": {},
   "outputs": [],
   "source": [
    "#s2[0] = 11\n",
    "#print s2"
   ]
  },
  {
   "cell_type": "code",
   "execution_count": 24,
   "metadata": {},
   "outputs": [
    {
     "name": "stdout",
     "output_type": "stream",
     "text": [
      "set([])\n"
     ]
    }
   ],
   "source": [
    "s2.clear()\n",
    "print s2"
   ]
  },
  {
   "cell_type": "code",
   "execution_count": 25,
   "metadata": {},
   "outputs": [
    {
     "name": "stdout",
     "output_type": "stream",
     "text": [
      "set([1, 10, 3, 4, 5])\n",
      "set([8, 9, 2, 3, 5])\n"
     ]
    }
   ],
   "source": [
    "m1 = {10,4,5,1,3}\n",
    "m2 = {8,5,3,9,2}\n",
    "print m1\n",
    "print m2"
   ]
  },
  {
   "cell_type": "code",
   "execution_count": 26,
   "metadata": {},
   "outputs": [
    {
     "name": "stdout",
     "output_type": "stream",
     "text": [
      "set([1, 10, 4])\n",
      "set([3, 5])\n",
      "set([1, 2, 3, 4, 5, 8, 9, 10])\n",
      "set([1, 2, 4, 8, 9, 10])\n"
     ]
    }
   ],
   "source": [
    "print m1 - m2 # Remove comman ones and get remaining from first set\n",
    "print m1 & m2 #Union Comman in both\n",
    "print m1 | m2 # Intersections a+b All elements of both\n",
    "print m1 ^ m2 #Uncommnam ones Uniques from both"
   ]
  }
 ],
 "metadata": {
  "kernelspec": {
   "display_name": "Python 2",
   "language": "python",
   "name": "python2"
  },
  "language_info": {
   "codemirror_mode": {
    "name": "ipython",
    "version": 2
   },
   "file_extension": ".py",
   "mimetype": "text/x-python",
   "name": "python",
   "nbconvert_exporter": "python",
   "pygments_lexer": "ipython2",
   "version": "2.7.14"
  }
 },
 "nbformat": 4,
 "nbformat_minor": 2
}
