{
 "cells": [
  {
   "cell_type": "code",
   "execution_count": 130,
   "metadata": {
    "collapsed": true
   },
   "outputs": [],
   "source": [
    "pcm = [\n",
    "    [67,99,100],\n",
    "    [99,100,76],\n",
    "    [90,90,100]    \n",
    "]"
   ]
  },
  {
   "cell_type": "code",
   "execution_count": 131,
   "metadata": {},
   "outputs": [
    {
     "name": "stdout",
     "output_type": "stream",
     "text": [
      "[[  67.   99.  100.]\n",
      " [  99.  100.   76.]\n",
      " [  90.   90.  100.]]\n",
      "<type 'numpy.ndarray'>\n",
      "2\n",
      "(3, 3)\n",
      "float16\n"
     ]
    }
   ],
   "source": [
    "import numpy as np\n",
    "\n",
    "\n",
    "n1 = np.array(pcm, dtype=np.float16)\n",
    "print n1\n",
    "print type(n1)\n",
    "print n1.ndim\n",
    "print n1.shape\n",
    "print n1.dtype"
   ]
  },
  {
   "cell_type": "code",
   "execution_count": 132,
   "metadata": {},
   "outputs": [
    {
     "name": "stdout",
     "output_type": "stream",
     "text": [
      "[  67.   99.  100.]\n",
      "99.0\n",
      "99.0\n",
      "90.0\n",
      "90.0\n",
      "100.0\n",
      "[[  67.   99.  100.]\n",
      " [  90.   90.  100.]]\n",
      "[ 99.  90.]\n",
      "[  76.  100.]\n",
      "[  76.  100.]\n"
     ]
    }
   ],
   "source": [
    "#indexing\n",
    "print n1[0]\n",
    "print n1[0][1] # Dont' do the way it is done in 2-D list\n",
    "print n1[0,1] # Always, USE numpy way to get index\n",
    "\n",
    "print n1[2, 0] # get physics marks for third student\n",
    "print n1[-1,1] # get chemistry marks of last student\n",
    "print n1[0, -1]\n",
    "print n1[[0, -1]] # get all marks of first and last students\n",
    "\n",
    "print n1[[0, -1],1]\n",
    "\n",
    "print n1[[-2, -1], 2]\n",
    "print n1[-2:, -1]\n"
   ]
  },
  {
   "cell_type": "code",
   "execution_count": 133,
   "metadata": {},
   "outputs": [
    {
     "name": "stdout",
     "output_type": "stream",
     "text": [
      "[[  67.   99.  100.]\n",
      " [  99.  100.   76.]\n",
      " [  90.   90.  100.]]\n",
      "[[  99.  100.   76.]\n",
      " [  90.   90.  100.]]\n",
      "[[ 100.   76.]\n",
      " [  90.  100.]]\n",
      "[[  67.   99.]\n",
      " [  99.  100.]]\n",
      "[[  99.  100.]\n",
      " [ 100.   76.]\n",
      " [  90.  100.]]\n",
      "[[ 100.]\n",
      " [  76.]\n",
      " [ 100.]]\n"
     ]
    }
   ],
   "source": [
    "#Slicing\n",
    "print n1\n",
    "\n",
    "print n1[-2:]\n",
    "print n1[-2:,1:] # get chemistry and maths marks for last two students\n",
    "\n",
    "# marks scored in phy and chem for 1st tow students\n",
    "print n1 [:2,:2]\n",
    "print n1[0:, -2:]\n",
    "print n1[0:,-1:]"
   ]
  },
  {
   "cell_type": "code",
   "execution_count": 134,
   "metadata": {},
   "outputs": [
    {
     "name": "stdout",
     "output_type": "stream",
     "text": [
      "[[  67.   99.  100.]\n",
      " [  99.  100.   76.]\n",
      " [  90.   90.  100.]]\n",
      "[[  99.  100.]\n",
      " [  90.  100.]]\n"
     ]
    }
   ],
   "source": [
    "# marks scored in chem and math first ans last stud\n",
    "print n1\n",
    "print n1[[0, -1],1:]\n"
   ]
  },
  {
   "cell_type": "code",
   "execution_count": 135,
   "metadata": {},
   "outputs": [
    {
     "name": "stdout",
     "output_type": "stream",
     "text": [
      "[[  67.   99.  100.]\n",
      " [  99.  100.   76.]\n",
      " [  90.   90.  100.]]\n",
      "[ 85.3125  96.3125  92.    ]\n",
      "[ 266.  275.  280.]\n",
      "[[  99.   76.]\n",
      " [  90.  100.]]\n",
      "[  4.5  12. ]\n"
     ]
    }
   ],
   "source": [
    "# aggregations\n",
    "\n",
    "print n1\n",
    "mean_marks = n1.mean(axis=0)\n",
    "print mean_marks # mean marks for PCM across all students\n",
    "print n1.sum(axis=1) # total marks of all subjects for each students wise\n",
    "\n",
    "#get standeviation of the P and M marks of last two students of class\n",
    "\n",
    "physics_n_maths = n1[-2:,[0,2]]\n",
    "\n",
    "print physics_n_maths\n",
    "\n",
    "std_physics_n_maths = np.std(physics_n_maths, axis=0)\n",
    "print std_physics_n_maths\n",
    "\n",
    "#physics_n_maths = n1[-2:,0]\n",
    "\n",
    "#print physics_n_maths\n",
    "\n",
    "\n"
   ]
  },
  {
   "cell_type": "markdown",
   "metadata": {},
   "source": [
    "0 is Y axis 1 is X axis"
   ]
  },
  {
   "cell_type": "code",
   "execution_count": 138,
   "metadata": {},
   "outputs": [
    {
     "name": "stdout",
     "output_type": "stream",
     "text": [
      "[[  67.   99.  100.]\n",
      " [  99.  100.   76.]\n",
      " [  90.   90.  100.]]\n",
      "[[  99.  100.]\n",
      " [  90.  100.]]\n",
      "[ 199.  190.]\n",
      "[[  99.  100.]\n",
      " [  90.  100.]]\n"
     ]
    }
   ],
   "source": [
    "print n1\n",
    "# get chem + maths marks for first and last student\n",
    "\n",
    "n2 = n1[[0,-1], 1:]\n",
    "print n2\n",
    "sum = n2.sum(axis=1)\n",
    "print sum\n",
    "\n",
    "n2 = n1[[0,-1], -2:]\n",
    "print n2\n"
   ]
  },
  {
   "cell_type": "code",
   "execution_count": 127,
   "metadata": {},
   "outputs": [
    {
     "name": "stdout",
     "output_type": "stream",
     "text": [
      "[[  67.   99.  100.]\n",
      " [  99.  100.   76.]\n",
      " [  90.   90.  100.]]\n"
     ]
    }
   ],
   "source": [
    "# reduce extra marks from P for all students\n",
    "print n1\n",
    "\n",
    "n1[:,0] -= 1"
   ]
  },
  {
   "cell_type": "code",
   "execution_count": 128,
   "metadata": {},
   "outputs": [
    {
     "name": "stdout",
     "output_type": "stream",
     "text": [
      "[[  66.   99.  100.]\n",
      " [  98.  100.   76.]\n",
      " [  89.   90.  100.]]\n",
      "[[  66.   99.    0.]\n",
      " [  98.  100.   76.]\n",
      " [  89.   90.    0.]]\n"
     ]
    }
   ],
   "source": [
    "# make all 100 marks in M as 0 as they copied\n",
    "print n1\n",
    "\n",
    "# create maths into seperate variable\n",
    "maths =  n1[:,-1]\n",
    "#changing nything to maths will change in n1 aswell\n",
    "maths[maths == 100] = 0\n",
    "\n",
    "print n1"
   ]
  },
  {
   "cell_type": "code",
   "execution_count": 129,
   "metadata": {},
   "outputs": [
    {
     "name": "stdout",
     "output_type": "stream",
     "text": [
      "[[  66.   99.    0.]\n",
      " [  98.  100.   76.]\n",
      " [  89.   90.    0.]]\n"
     ]
    },
    {
     "data": {
      "text/plain": [
       "array([[0, 1, 0],\n",
       "       [1, 1, 0],\n",
       "       [0, 1, 0]])"
      ]
     },
     "execution_count": 129,
     "metadata": {},
     "output_type": "execute_result"
    }
   ],
   "source": [
    "# all studs above = 90 all students make weight 1 else weight 0\n",
    "print n1\n",
    "\n",
    "np.where(n1 >= 90, 1,0)\n"
   ]
  }
 ],
 "metadata": {
  "kernelspec": {
   "display_name": "Python 2",
   "language": "python",
   "name": "python2"
  },
  "language_info": {
   "codemirror_mode": {
    "name": "ipython",
    "version": 2
   },
   "file_extension": ".py",
   "mimetype": "text/x-python",
   "name": "python",
   "nbconvert_exporter": "python",
   "pygments_lexer": "ipython2",
   "version": "2.7.14"
  }
 },
 "nbformat": 4,
 "nbformat_minor": 2
}
